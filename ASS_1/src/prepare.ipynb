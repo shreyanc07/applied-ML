{
 "cells": [
  {
   "cell_type": "code",
   "execution_count": 1,
   "metadata": {},
   "outputs": [],
   "source": [
    "import pandas as pd\n",
    "from sklearn.model_selection import train_test_split\n",
    "import os"
   ]
  },
  {
   "cell_type": "code",
   "execution_count": 2,
   "metadata": {},
   "outputs": [
    {
     "name": "stderr",
     "output_type": "stream",
     "text": [
      "[nltk_data] Downloading package punkt to\n",
      "[nltk_data]     C:\\Users\\rickc\\AppData\\Roaming\\nltk_data...\n",
      "[nltk_data]   Unzipping tokenizers\\punkt.zip.\n",
      "[nltk_data] Downloading package stopwords to\n",
      "[nltk_data]     C:\\Users\\rickc\\AppData\\Roaming\\nltk_data...\n",
      "[nltk_data]   Package stopwords is already up-to-date!\n",
      "[nltk_data] Downloading package wordnet to\n",
      "[nltk_data]     C:\\Users\\rickc\\AppData\\Roaming\\nltk_data...\n",
      "[nltk_data]   Package wordnet is already up-to-date!\n"
     ]
    },
    {
     "data": {
      "text/plain": [
       "True"
      ]
     },
     "execution_count": 2,
     "metadata": {},
     "output_type": "execute_result"
    }
   ],
   "source": [
    "import re\n",
    "from nltk.corpus import stopwords\n",
    "from nltk.stem import WordNetLemmatizer\n",
    "from nltk.tokenize import word_tokenize\n",
    "import nltk\n",
    "\n",
    "nltk.download('punkt')\n",
    "nltk.download('stopwords')\n",
    "nltk.download('wordnet')"
   ]
  },
  {
   "cell_type": "code",
   "execution_count": 3,
   "metadata": {},
   "outputs": [],
   "source": [
    "\n",
    "def load_data(file_path):\n",
    "    return pd.read_csv(file_path)"
   ]
  },
  {
   "cell_type": "code",
   "execution_count": 4,
   "metadata": {},
   "outputs": [],
   "source": [
    "def preprocess_data(data):\n",
    "    # Lowercasing\n",
    "    data['text'] = data['text'].apply(lambda x: x.lower())\n",
    "    \n",
    "    # Removing HTML tags\n",
    "    data['text'] = data['text'].apply(lambda x: re.sub(r'<.*?>', '', x))\n",
    "    \n",
    "    # Removing URLs\n",
    "    data['text'] = data['text'].apply(lambda x: re.sub(r'http[s]?://\\S+', '', x))\n",
    "    \n",
    "    # Removing email addresses\n",
    "    data['text'] = data['text'].apply(lambda x: re.sub(r'\\S*@\\S*\\s?', '', x))\n",
    "    \n",
    "    # Removing punctuation and special characters\n",
    "    data['text'] = data['text'].apply(lambda x: re.sub(r'[^a-z0-9\\s]', '', x))\n",
    "    \n",
    "    # Tokenization\n",
    "    data['text'] = data['text'].apply(lambda x: word_tokenize(x))\n",
    "    \n",
    "    # Removing stopwords\n",
    "    stop_words = set(stopwords.words('english'))\n",
    "    data['text'] = data['text'].apply(lambda x: [word for word in x if word not in stop_words])\n",
    "    \n",
    "    # Lemmatization\n",
    "    lemmatizer = WordNetLemmatizer()\n",
    "    data['text'] = data['text'].apply(lambda x: [lemmatizer.lemmatize(word) for word in x])\n",
    "    \n",
    "    # Joining tokens back to string\n",
    "    data['text'] = data['text'].apply(lambda x: ' '.join(x))\n",
    "    \n",
    "    return data"
   ]
  },
  {
   "cell_type": "code",
   "execution_count": 5,
   "metadata": {},
   "outputs": [],
   "source": [
    "\n",
    "def split_data(data, test_size=0.2, val_size=0.25):\n",
    "    # Splitting data into train and temp (temp will be further split into validation and test)\n",
    "    train_data, temp_data = train_test_split(data, test_size=test_size, random_state=42)\n",
    "    # Splitting temp_data into validation and test\n",
    "    validation_data, test_data = train_test_split(temp_data, test_size=val_size, random_state=42)\n",
    "    return train_data, validation_data, test_data"
   ]
  },
  {
   "cell_type": "code",
   "execution_count": 9,
   "metadata": {},
   "outputs": [],
   "source": [
    "def store_splits(train_data, validation_data, test_data, dir_path='C:\\CMI\\Applied ML\\ASS_1\\data\\dataset'):\n",
    "    train_data.to_csv(os.path.join(dir_path, 'train.csv'), index=False)\n",
    "    validation_data.to_csv(os.path.join(dir_path, 'validation.csv'), index=False)\n",
    "    test_data.to_csv(os.path.join(dir_path, 'test.csv'), index=False)\n"
   ]
  },
  {
   "cell_type": "code",
   "execution_count": 7,
   "metadata": {},
   "outputs": [],
   "source": [
    "file_path = \"C:\\CMI\\Applied ML\\ASS_1\\data\\dataset\\emails.csv\""
   ]
  },
  {
   "cell_type": "code",
   "execution_count": 10,
   "metadata": {},
   "outputs": [],
   "source": [
    "if __name__ == \"__main__\":\n",
    "    data = load_data(file_path)\n",
    "    data = preprocess_data(data)\n",
    "    train_data, validation_data, test_data = split_data(data)\n",
    "    store_splits(train_data, validation_data, test_data)\n"
   ]
  }
 ],
 "metadata": {
  "kernelspec": {
   "display_name": "Python 3",
   "language": "python",
   "name": "python3"
  },
  "language_info": {
   "codemirror_mode": {
    "name": "ipython",
    "version": 3
   },
   "file_extension": ".py",
   "mimetype": "text/x-python",
   "name": "python",
   "nbconvert_exporter": "python",
   "pygments_lexer": "ipython3",
   "version": "3.11.7"
  }
 },
 "nbformat": 4,
 "nbformat_minor": 2
}
