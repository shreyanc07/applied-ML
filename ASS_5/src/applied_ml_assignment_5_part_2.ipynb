{
  "metadata": {
    "kernelspec": {
      "language": "python",
      "display_name": "Python 3",
      "name": "python3"
    },
    "language_info": {
      "name": "python",
      "version": "3.10.13",
      "mimetype": "text/x-python",
      "codemirror_mode": {
        "name": "ipython",
        "version": 3
      },
      "pygments_lexer": "ipython3",
      "nbconvert_exporter": "python",
      "file_extension": ".py"
    },
    "kaggle": {
      "accelerator": "gpu",
      "dataSources": [
        {
          "sourceId": 1808590,
          "sourceType": "datasetVersion",
          "datasetId": 989445
        }
      ],
      "dockerImageVersionId": 30683,
      "isInternetEnabled": true,
      "language": "python",
      "sourceType": "notebook",
      "isGpuEnabled": true
    },
    "colab": {
      "provenance": []
    }
  },
  "nbformat_minor": 0,
  "nbformat": 4,
  "cells": [
    {
      "cell_type": "markdown",
      "source": [
        "## Name: Shreyan Chakraborty\n",
        "## Roll no: MDS202237"
      ],
      "metadata": {
        "id": "HwRuUPLT0CKE"
      }
    },
    {
      "cell_type": "markdown",
      "source": [
        "## Part 2"
      ],
      "metadata": {
        "id": "L1f6WzAa0KE_"
      }
    },
    {
      "cell_type": "code",
      "source": [
        "from tqdm import tqdm\n",
        "import torch\n",
        "from torch.utils.data import Dataset, DataLoader\n",
        "from transformers import BertTokenizer, BertForSequenceClassification, AdamW\n",
        "from sklearn.metrics import classification_report\n",
        "import pandas as pd\n",
        "import numpy as np\n",
        "import matplotlib.pyplot as plt\n",
        "from sklearn.metrics import accuracy_score\n",
        "import os"
      ],
      "metadata": {
        "execution": {
          "iopub.status.busy": "2024-04-15T10:23:58.804150Z",
          "iopub.execute_input": "2024-04-15T10:23:58.804502Z",
          "iopub.status.idle": "2024-04-15T10:24:07.491190Z",
          "shell.execute_reply.started": "2024-04-15T10:23:58.804476Z",
          "shell.execute_reply": "2024-04-15T10:24:07.490198Z"
        },
        "trusted": true,
        "id": "DM6WuJhIyx_o"
      },
      "execution_count": null,
      "outputs": []
    },
    {
      "cell_type": "code",
      "source": [
        "# Check for GPU availability\n",
        "device = torch.device(\"cuda\" if torch.cuda.is_available() else \"cpu\")\n",
        "print(f'Using device: {device}')"
      ],
      "metadata": {
        "execution": {
          "iopub.status.busy": "2024-04-15T10:24:11.064934Z",
          "iopub.execute_input": "2024-04-15T10:24:11.065801Z",
          "iopub.status.idle": "2024-04-15T10:24:11.100168Z",
          "shell.execute_reply.started": "2024-04-15T10:24:11.065765Z",
          "shell.execute_reply": "2024-04-15T10:24:11.099063Z"
        },
        "trusted": true,
        "id": "5wuJRH46yx_p",
        "outputId": "8ffb7ed1-444e-4e92-f727-e4b091752a14"
      },
      "execution_count": null,
      "outputs": [
        {
          "name": "stdout",
          "text": "Using device: cuda\n",
          "output_type": "stream"
        }
      ]
    },
    {
      "cell_type": "code",
      "source": [
        "class SentimentDataset(Dataset):\n",
        "    def __init__(self, dataframe, tokenizer, max_len):\n",
        "        self.len = len(dataframe)\n",
        "        self.data = dataframe\n",
        "        self.tokenizer = tokenizer\n",
        "        self.max_len = max_len\n",
        "\n",
        "    def __getitem__(self, index):\n",
        "        text = str(self.data.text[index])\n",
        "        text = \" \".join(text.split())\n",
        "        inputs = self.tokenizer.encode_plus(\n",
        "            text,\n",
        "            None,\n",
        "            add_special_tokens=True,\n",
        "            max_length=self.max_len,\n",
        "            padding='max_length',\n",
        "            return_token_type_ids=True,\n",
        "            truncation=True\n",
        "        )\n",
        "        ids = inputs['input_ids']\n",
        "        mask = inputs['attention_mask']\n",
        "        token_type_ids = inputs[\"token_type_ids\"]\n",
        "        target = self.data.sentiment[index]\n",
        "\n",
        "        return {\n",
        "            'ids': torch.tensor(ids, dtype=torch.long),\n",
        "            'mask': torch.tensor(mask, dtype=torch.long),\n",
        "            'token_type_ids': torch.tensor(token_type_ids, dtype=torch.long),\n",
        "            'targets': torch.tensor(target, dtype=torch.long)  # ensure target is also a long tensor\n",
        "        }\n",
        "\n",
        "    def __len__(self):\n",
        "        return self.len\n"
      ],
      "metadata": {
        "execution": {
          "iopub.status.busy": "2024-04-15T10:24:12.953716Z",
          "iopub.execute_input": "2024-04-15T10:24:12.954481Z",
          "iopub.status.idle": "2024-04-15T10:24:12.963278Z",
          "shell.execute_reply.started": "2024-04-15T10:24:12.954448Z",
          "shell.execute_reply": "2024-04-15T10:24:12.962395Z"
        },
        "trusted": true,
        "id": "mDqO5A6dyx_q"
      },
      "execution_count": null,
      "outputs": []
    },
    {
      "cell_type": "code",
      "source": [
        "train_df = pd.read_csv('/kaggle/input/sentiment-analysis-dataset/train.csv',encoding='unicode_escape');\n",
        "test_df = pd.read_csv('/kaggle/input/sentiment-analysis-dataset/test.csv',encoding='latin1');"
      ],
      "metadata": {
        "execution": {
          "iopub.status.busy": "2024-04-15T12:05:55.949578Z",
          "iopub.execute_input": "2024-04-15T12:05:55.950523Z",
          "iopub.status.idle": "2024-04-15T12:05:56.086869Z",
          "shell.execute_reply.started": "2024-04-15T12:05:55.950487Z",
          "shell.execute_reply": "2024-04-15T12:05:56.085694Z"
        },
        "trusted": true,
        "id": "DQoQgOO0yx_r"
      },
      "execution_count": null,
      "outputs": []
    },
    {
      "cell_type": "code",
      "source": [
        "# Define sentiment mapping\n",
        "sentiment_mapping = {'negative': 0, 'neutral': 1, 'positive': 2}\n",
        "\n",
        "# Apply this mapping to your DataFrame\n",
        "train_df['sentiment'] = train_df['sentiment'].map(sentiment_mapping)\n",
        "test_df['sentiment'] = test_df['sentiment'].map(sentiment_mapping)\n"
      ],
      "metadata": {
        "execution": {
          "iopub.status.busy": "2024-04-15T12:05:57.692398Z",
          "iopub.execute_input": "2024-04-15T12:05:57.692766Z",
          "iopub.status.idle": "2024-04-15T12:05:57.705768Z",
          "shell.execute_reply.started": "2024-04-15T12:05:57.692738Z",
          "shell.execute_reply": "2024-04-15T12:05:57.704688Z"
        },
        "trusted": true,
        "id": "zhjL5nOSyx_r"
      },
      "execution_count": null,
      "outputs": []
    },
    {
      "cell_type": "code",
      "source": [
        "# Print unique values of targets to ensure they are within expected range\n",
        "print(\"Unique targets in train dataset:\", pd.unique(train_df['sentiment']))\n",
        "print(\"Unique targets in test dataset:\", pd.unique(test_df['sentiment']))"
      ],
      "metadata": {
        "execution": {
          "iopub.status.busy": "2024-04-15T12:05:59.112397Z",
          "iopub.execute_input": "2024-04-15T12:05:59.113131Z",
          "iopub.status.idle": "2024-04-15T12:05:59.120506Z",
          "shell.execute_reply.started": "2024-04-15T12:05:59.113100Z",
          "shell.execute_reply": "2024-04-15T12:05:59.119207Z"
        },
        "trusted": true,
        "id": "FxciTiNSyx_r",
        "outputId": "49b9eca4-2ba8-404e-a70e-643a25df922c"
      },
      "execution_count": null,
      "outputs": [
        {
          "name": "stdout",
          "text": "Unique targets in train dataset: [1 0 2]\nUnique targets in test dataset: [ 1.  2.  0. nan]\n",
          "output_type": "stream"
        }
      ]
    },
    {
      "cell_type": "code",
      "source": [
        "nan_counts = test_df.isna().sum()\n",
        "print(\"Number of NaN values in each column:\\n\", nan_counts)"
      ],
      "metadata": {
        "execution": {
          "iopub.status.busy": "2024-04-15T12:06:00.045669Z",
          "iopub.execute_input": "2024-04-15T12:06:00.046562Z",
          "iopub.status.idle": "2024-04-15T12:06:00.055754Z",
          "shell.execute_reply.started": "2024-04-15T12:06:00.046528Z",
          "shell.execute_reply": "2024-04-15T12:06:00.054724Z"
        },
        "trusted": true,
        "id": "KocBme4dyx_r",
        "outputId": "98ab5aa4-f363-4aae-fbe4-fc444559c668"
      },
      "execution_count": null,
      "outputs": [
        {
          "name": "stdout",
          "text": "Number of NaN values in each column:\n textID              1281\ntext                1281\nsentiment           1281\nTime of Tweet       1281\nAge of User         1281\nCountry             1281\nPopulation -2020    1281\nLand Area (Km²)     1281\nDensity (P/Km²)     1281\ndtype: int64\n",
          "output_type": "stream"
        }
      ]
    },
    {
      "cell_type": "code",
      "source": [
        "test_df.head()"
      ],
      "metadata": {
        "execution": {
          "iopub.status.busy": "2024-04-15T12:06:07.068125Z",
          "iopub.execute_input": "2024-04-15T12:06:07.068508Z",
          "iopub.status.idle": "2024-04-15T12:06:07.085430Z",
          "shell.execute_reply.started": "2024-04-15T12:06:07.068481Z",
          "shell.execute_reply": "2024-04-15T12:06:07.084189Z"
        },
        "trusted": true,
        "id": "J77sYJbMyx_r",
        "outputId": "f1edc0c3-800b-4d2d-cfff-db944b8b5aea"
      },
      "execution_count": null,
      "outputs": [
        {
          "execution_count": 55,
          "output_type": "execute_result",
          "data": {
            "text/plain": "       textID                                               text  sentiment  \\\n0  f87dea47db  Last session of the day  http://twitpic.com/67ezh        1.0   \n1  96d74cb729   Shanghai is also really exciting (precisely -...        2.0   \n2  eee518ae67  Recession hit Veronique Branquinho, she has to...        0.0   \n3  01082688c6                                        happy bday!        2.0   \n4  33987a8ee5             http://twitpic.com/4w75p - I like it!!        2.0   \n\n  Time of Tweet Age of User      Country  Population -2020  Land Area (Km²)  \\\n0       morning        0-20  Afghanistan        38928346.0         652860.0   \n1          noon       21-30      Albania         2877797.0          27400.0   \n2         night       31-45      Algeria        43851044.0        2381740.0   \n3       morning       46-60      Andorra           77265.0            470.0   \n4          noon       60-70       Angola        32866272.0        1246700.0   \n\n   Density (P/Km²)  \n0             60.0  \n1            105.0  \n2             18.0  \n3            164.0  \n4             26.0  ",
            "text/html": "<div>\n<style scoped>\n    .dataframe tbody tr th:only-of-type {\n        vertical-align: middle;\n    }\n\n    .dataframe tbody tr th {\n        vertical-align: top;\n    }\n\n    .dataframe thead th {\n        text-align: right;\n    }\n</style>\n<table border=\"1\" class=\"dataframe\">\n  <thead>\n    <tr style=\"text-align: right;\">\n      <th></th>\n      <th>textID</th>\n      <th>text</th>\n      <th>sentiment</th>\n      <th>Time of Tweet</th>\n      <th>Age of User</th>\n      <th>Country</th>\n      <th>Population -2020</th>\n      <th>Land Area (Km²)</th>\n      <th>Density (P/Km²)</th>\n    </tr>\n  </thead>\n  <tbody>\n    <tr>\n      <th>0</th>\n      <td>f87dea47db</td>\n      <td>Last session of the day  http://twitpic.com/67ezh</td>\n      <td>1.0</td>\n      <td>morning</td>\n      <td>0-20</td>\n      <td>Afghanistan</td>\n      <td>38928346.0</td>\n      <td>652860.0</td>\n      <td>60.0</td>\n    </tr>\n    <tr>\n      <th>1</th>\n      <td>96d74cb729</td>\n      <td>Shanghai is also really exciting (precisely -...</td>\n      <td>2.0</td>\n      <td>noon</td>\n      <td>21-30</td>\n      <td>Albania</td>\n      <td>2877797.0</td>\n      <td>27400.0</td>\n      <td>105.0</td>\n    </tr>\n    <tr>\n      <th>2</th>\n      <td>eee518ae67</td>\n      <td>Recession hit Veronique Branquinho, she has to...</td>\n      <td>0.0</td>\n      <td>night</td>\n      <td>31-45</td>\n      <td>Algeria</td>\n      <td>43851044.0</td>\n      <td>2381740.0</td>\n      <td>18.0</td>\n    </tr>\n    <tr>\n      <th>3</th>\n      <td>01082688c6</td>\n      <td>happy bday!</td>\n      <td>2.0</td>\n      <td>morning</td>\n      <td>46-60</td>\n      <td>Andorra</td>\n      <td>77265.0</td>\n      <td>470.0</td>\n      <td>164.0</td>\n    </tr>\n    <tr>\n      <th>4</th>\n      <td>33987a8ee5</td>\n      <td>http://twitpic.com/4w75p - I like it!!</td>\n      <td>2.0</td>\n      <td>noon</td>\n      <td>60-70</td>\n      <td>Angola</td>\n      <td>32866272.0</td>\n      <td>1246700.0</td>\n      <td>26.0</td>\n    </tr>\n  </tbody>\n</table>\n</div>"
          },
          "metadata": {}
        }
      ]
    },
    {
      "cell_type": "code",
      "source": [
        "# Directly modify the original DataFrame\n",
        "test_df.dropna(inplace=True)\n"
      ],
      "metadata": {
        "execution": {
          "iopub.status.busy": "2024-04-15T12:06:37.642353Z",
          "iopub.execute_input": "2024-04-15T12:06:37.642698Z",
          "iopub.status.idle": "2024-04-15T12:06:37.651685Z",
          "shell.execute_reply.started": "2024-04-15T12:06:37.642674Z",
          "shell.execute_reply": "2024-04-15T12:06:37.650523Z"
        },
        "trusted": true,
        "id": "P-499DVfyx_r"
      },
      "execution_count": null,
      "outputs": []
    },
    {
      "cell_type": "code",
      "source": [
        "nan_counts = test_df.isna().sum()\n",
        "print(\"Number of NaN values in each column:\\n\", nan_counts)"
      ],
      "metadata": {
        "execution": {
          "iopub.status.busy": "2024-04-15T12:06:40.323428Z",
          "iopub.execute_input": "2024-04-15T12:06:40.324464Z",
          "iopub.status.idle": "2024-04-15T12:06:40.332917Z",
          "shell.execute_reply.started": "2024-04-15T12:06:40.324428Z",
          "shell.execute_reply": "2024-04-15T12:06:40.331969Z"
        },
        "trusted": true,
        "id": "UblTjW8Syx_r",
        "outputId": "0637c705-1969-478c-f29e-90de951e1f39"
      },
      "execution_count": null,
      "outputs": [
        {
          "name": "stdout",
          "text": "Number of NaN values in each column:\n textID              0\ntext                0\nsentiment           0\nTime of Tweet       0\nAge of User         0\nCountry             0\nPopulation -2020    0\nLand Area (Km²)     0\nDensity (P/Km²)     0\ndtype: int64\n",
          "output_type": "stream"
        }
      ]
    },
    {
      "cell_type": "code",
      "source": [
        "test_df.head()"
      ],
      "metadata": {
        "execution": {
          "iopub.status.busy": "2024-04-15T12:06:42.447088Z",
          "iopub.execute_input": "2024-04-15T12:06:42.447521Z",
          "iopub.status.idle": "2024-04-15T12:06:42.464651Z",
          "shell.execute_reply.started": "2024-04-15T12:06:42.447480Z",
          "shell.execute_reply": "2024-04-15T12:06:42.463763Z"
        },
        "trusted": true,
        "id": "NzKRSMDIyx_r",
        "outputId": "4de84b3f-a15a-46d0-e9e7-493a0060328e"
      },
      "execution_count": null,
      "outputs": [
        {
          "execution_count": 58,
          "output_type": "execute_result",
          "data": {
            "text/plain": "       textID                                               text  sentiment  \\\n0  f87dea47db  Last session of the day  http://twitpic.com/67ezh        1.0   \n1  96d74cb729   Shanghai is also really exciting (precisely -...        2.0   \n2  eee518ae67  Recession hit Veronique Branquinho, she has to...        0.0   \n3  01082688c6                                        happy bday!        2.0   \n4  33987a8ee5             http://twitpic.com/4w75p - I like it!!        2.0   \n\n  Time of Tweet Age of User      Country  Population -2020  Land Area (Km²)  \\\n0       morning        0-20  Afghanistan        38928346.0         652860.0   \n1          noon       21-30      Albania         2877797.0          27400.0   \n2         night       31-45      Algeria        43851044.0        2381740.0   \n3       morning       46-60      Andorra           77265.0            470.0   \n4          noon       60-70       Angola        32866272.0        1246700.0   \n\n   Density (P/Km²)  \n0             60.0  \n1            105.0  \n2             18.0  \n3            164.0  \n4             26.0  ",
            "text/html": "<div>\n<style scoped>\n    .dataframe tbody tr th:only-of-type {\n        vertical-align: middle;\n    }\n\n    .dataframe tbody tr th {\n        vertical-align: top;\n    }\n\n    .dataframe thead th {\n        text-align: right;\n    }\n</style>\n<table border=\"1\" class=\"dataframe\">\n  <thead>\n    <tr style=\"text-align: right;\">\n      <th></th>\n      <th>textID</th>\n      <th>text</th>\n      <th>sentiment</th>\n      <th>Time of Tweet</th>\n      <th>Age of User</th>\n      <th>Country</th>\n      <th>Population -2020</th>\n      <th>Land Area (Km²)</th>\n      <th>Density (P/Km²)</th>\n    </tr>\n  </thead>\n  <tbody>\n    <tr>\n      <th>0</th>\n      <td>f87dea47db</td>\n      <td>Last session of the day  http://twitpic.com/67ezh</td>\n      <td>1.0</td>\n      <td>morning</td>\n      <td>0-20</td>\n      <td>Afghanistan</td>\n      <td>38928346.0</td>\n      <td>652860.0</td>\n      <td>60.0</td>\n    </tr>\n    <tr>\n      <th>1</th>\n      <td>96d74cb729</td>\n      <td>Shanghai is also really exciting (precisely -...</td>\n      <td>2.0</td>\n      <td>noon</td>\n      <td>21-30</td>\n      <td>Albania</td>\n      <td>2877797.0</td>\n      <td>27400.0</td>\n      <td>105.0</td>\n    </tr>\n    <tr>\n      <th>2</th>\n      <td>eee518ae67</td>\n      <td>Recession hit Veronique Branquinho, she has to...</td>\n      <td>0.0</td>\n      <td>night</td>\n      <td>31-45</td>\n      <td>Algeria</td>\n      <td>43851044.0</td>\n      <td>2381740.0</td>\n      <td>18.0</td>\n    </tr>\n    <tr>\n      <th>3</th>\n      <td>01082688c6</td>\n      <td>happy bday!</td>\n      <td>2.0</td>\n      <td>morning</td>\n      <td>46-60</td>\n      <td>Andorra</td>\n      <td>77265.0</td>\n      <td>470.0</td>\n      <td>164.0</td>\n    </tr>\n    <tr>\n      <th>4</th>\n      <td>33987a8ee5</td>\n      <td>http://twitpic.com/4w75p - I like it!!</td>\n      <td>2.0</td>\n      <td>noon</td>\n      <td>60-70</td>\n      <td>Angola</td>\n      <td>32866272.0</td>\n      <td>1246700.0</td>\n      <td>26.0</td>\n    </tr>\n  </tbody>\n</table>\n</div>"
          },
          "metadata": {}
        }
      ]
    },
    {
      "cell_type": "code",
      "source": [
        "# Parameters\n",
        "MAX_LEN = 256\n",
        "TRAIN_BATCH_SIZE = 32\n",
        "VALID_BATCH_SIZE = 32"
      ],
      "metadata": {
        "execution": {
          "iopub.status.busy": "2024-04-15T12:06:44.261166Z",
          "iopub.execute_input": "2024-04-15T12:06:44.261573Z",
          "iopub.status.idle": "2024-04-15T12:06:44.266121Z",
          "shell.execute_reply.started": "2024-04-15T12:06:44.261542Z",
          "shell.execute_reply": "2024-04-15T12:06:44.265096Z"
        },
        "trusted": true,
        "id": "8dlpy7y5yx_s"
      },
      "execution_count": null,
      "outputs": []
    },
    {
      "cell_type": "markdown",
      "source": [
        "## Using BERT"
      ],
      "metadata": {
        "id": "YFTJ33hsyx_s"
      }
    },
    {
      "cell_type": "code",
      "source": [
        "# Load BERT tokenizer\n",
        "tokenizer = BertTokenizer.from_pretrained('bert-base-uncased')"
      ],
      "metadata": {
        "execution": {
          "iopub.status.busy": "2024-04-15T10:24:34.744581Z",
          "iopub.execute_input": "2024-04-15T10:24:34.744943Z",
          "iopub.status.idle": "2024-04-15T10:24:35.626741Z",
          "shell.execute_reply.started": "2024-04-15T10:24:34.744913Z",
          "shell.execute_reply": "2024-04-15T10:24:35.625900Z"
        },
        "trusted": true,
        "id": "laZC1AyByx_t",
        "outputId": "5ef0c814-34ee-42ed-e513-f302f7055d06",
        "colab": {
          "referenced_widgets": [
            "0ec9ceb9dad446dd9f490657b38382bf",
            "14eed53d842b4ceab82dc57b6dbb2039",
            "406ba57986454445bcd31b5d44251e2b",
            "8cb5147deda742f594e83d3709da78f2"
          ]
        }
      },
      "execution_count": null,
      "outputs": [
        {
          "output_type": "display_data",
          "data": {
            "text/plain": "tokenizer_config.json:   0%|          | 0.00/48.0 [00:00<?, ?B/s]",
            "application/vnd.jupyter.widget-view+json": {
              "version_major": 2,
              "version_minor": 0,
              "model_id": "0ec9ceb9dad446dd9f490657b38382bf"
            }
          },
          "metadata": {}
        },
        {
          "output_type": "display_data",
          "data": {
            "text/plain": "vocab.txt:   0%|          | 0.00/232k [00:00<?, ?B/s]",
            "application/vnd.jupyter.widget-view+json": {
              "version_major": 2,
              "version_minor": 0,
              "model_id": "14eed53d842b4ceab82dc57b6dbb2039"
            }
          },
          "metadata": {}
        },
        {
          "output_type": "display_data",
          "data": {
            "text/plain": "tokenizer.json:   0%|          | 0.00/466k [00:00<?, ?B/s]",
            "application/vnd.jupyter.widget-view+json": {
              "version_major": 2,
              "version_minor": 0,
              "model_id": "406ba57986454445bcd31b5d44251e2b"
            }
          },
          "metadata": {}
        },
        {
          "output_type": "display_data",
          "data": {
            "text/plain": "config.json:   0%|          | 0.00/570 [00:00<?, ?B/s]",
            "application/vnd.jupyter.widget-view+json": {
              "version_major": 2,
              "version_minor": 0,
              "model_id": "8cb5147deda742f594e83d3709da78f2"
            }
          },
          "metadata": {}
        }
      ]
    },
    {
      "cell_type": "code",
      "source": [
        "# Create data loaders\n",
        "train_dataset = SentimentDataset(train_df, tokenizer, MAX_LEN)\n",
        "train_loader = DataLoader(train_dataset, batch_size=TRAIN_BATCH_SIZE, shuffle=True)\n",
        "\n",
        "test_dataset = SentimentDataset(test_df, tokenizer, MAX_LEN)\n",
        "test_loader = DataLoader(test_dataset, batch_size=VALID_BATCH_SIZE, shuffle=True)"
      ],
      "metadata": {
        "execution": {
          "iopub.status.busy": "2024-04-15T12:06:54.089793Z",
          "iopub.execute_input": "2024-04-15T12:06:54.090173Z",
          "iopub.status.idle": "2024-04-15T12:06:54.098529Z",
          "shell.execute_reply.started": "2024-04-15T12:06:54.090127Z",
          "shell.execute_reply": "2024-04-15T12:06:54.097596Z"
        },
        "trusted": true,
        "id": "FiV-4qZoyx_t"
      },
      "execution_count": null,
      "outputs": []
    },
    {
      "cell_type": "code",
      "source": [
        "model = BertForSequenceClassification.from_pretrained('bert-base-uncased', num_labels=3)\n",
        "model.to(device)"
      ],
      "metadata": {
        "execution": {
          "iopub.status.busy": "2024-04-15T10:24:40.268840Z",
          "iopub.execute_input": "2024-04-15T10:24:40.269209Z",
          "iopub.status.idle": "2024-04-15T10:24:43.448218Z",
          "shell.execute_reply.started": "2024-04-15T10:24:40.269174Z",
          "shell.execute_reply": "2024-04-15T10:24:43.447304Z"
        },
        "trusted": true,
        "id": "eFI_K8rryx_t",
        "outputId": "71669bc3-57c6-4edf-c401-bd0001542926",
        "colab": {
          "referenced_widgets": [
            "8e55eee40e4f4dc79f5021f9f04c821a"
          ]
        }
      },
      "execution_count": null,
      "outputs": [
        {
          "output_type": "display_data",
          "data": {
            "text/plain": "model.safetensors:   0%|          | 0.00/440M [00:00<?, ?B/s]",
            "application/vnd.jupyter.widget-view+json": {
              "version_major": 2,
              "version_minor": 0,
              "model_id": "8e55eee40e4f4dc79f5021f9f04c821a"
            }
          },
          "metadata": {}
        },
        {
          "name": "stderr",
          "text": "Some weights of BertForSequenceClassification were not initialized from the model checkpoint at bert-base-uncased and are newly initialized: ['classifier.bias', 'classifier.weight']\nYou should probably TRAIN this model on a down-stream task to be able to use it for predictions and inference.\n",
          "output_type": "stream"
        },
        {
          "execution_count": 15,
          "output_type": "execute_result",
          "data": {
            "text/plain": "BertForSequenceClassification(\n  (bert): BertModel(\n    (embeddings): BertEmbeddings(\n      (word_embeddings): Embedding(30522, 768, padding_idx=0)\n      (position_embeddings): Embedding(512, 768)\n      (token_type_embeddings): Embedding(2, 768)\n      (LayerNorm): LayerNorm((768,), eps=1e-12, elementwise_affine=True)\n      (dropout): Dropout(p=0.1, inplace=False)\n    )\n    (encoder): BertEncoder(\n      (layer): ModuleList(\n        (0-11): 12 x BertLayer(\n          (attention): BertAttention(\n            (self): BertSelfAttention(\n              (query): Linear(in_features=768, out_features=768, bias=True)\n              (key): Linear(in_features=768, out_features=768, bias=True)\n              (value): Linear(in_features=768, out_features=768, bias=True)\n              (dropout): Dropout(p=0.1, inplace=False)\n            )\n            (output): BertSelfOutput(\n              (dense): Linear(in_features=768, out_features=768, bias=True)\n              (LayerNorm): LayerNorm((768,), eps=1e-12, elementwise_affine=True)\n              (dropout): Dropout(p=0.1, inplace=False)\n            )\n          )\n          (intermediate): BertIntermediate(\n            (dense): Linear(in_features=768, out_features=3072, bias=True)\n            (intermediate_act_fn): GELUActivation()\n          )\n          (output): BertOutput(\n            (dense): Linear(in_features=3072, out_features=768, bias=True)\n            (LayerNorm): LayerNorm((768,), eps=1e-12, elementwise_affine=True)\n            (dropout): Dropout(p=0.1, inplace=False)\n          )\n        )\n      )\n    )\n    (pooler): BertPooler(\n      (dense): Linear(in_features=768, out_features=768, bias=True)\n      (activation): Tanh()\n    )\n  )\n  (dropout): Dropout(p=0.1, inplace=False)\n  (classifier): Linear(in_features=768, out_features=3, bias=True)\n)"
          },
          "metadata": {}
        }
      ]
    },
    {
      "cell_type": "code",
      "source": [
        "\n",
        "# Optimizer\n",
        "optimizer = AdamW(model.parameters(), lr=1e-5)"
      ],
      "metadata": {
        "execution": {
          "iopub.status.busy": "2024-04-15T10:24:46.714624Z",
          "iopub.execute_input": "2024-04-15T10:24:46.714980Z",
          "iopub.status.idle": "2024-04-15T10:24:46.724813Z",
          "shell.execute_reply.started": "2024-04-15T10:24:46.714951Z",
          "shell.execute_reply": "2024-04-15T10:24:46.723667Z"
        },
        "trusted": true,
        "id": "qmmIeKP_yx_t",
        "outputId": "b9236b03-fad5-4e85-9735-4c5d2b0a3fce"
      },
      "execution_count": null,
      "outputs": [
        {
          "name": "stderr",
          "text": "/opt/conda/lib/python3.10/site-packages/transformers/optimization.py:457: FutureWarning: This implementation of AdamW is deprecated and will be removed in a future version. Use the PyTorch implementation torch.optim.AdamW instead, or set `no_deprecation_warning=True` to disable this warning\n  warnings.warn(\n",
          "output_type": "stream"
        }
      ]
    },
    {
      "cell_type": "code",
      "source": [
        "# Checkpoint path\n",
        "CHECKPOINT_PATH = \"model_checkpoint.pt\"\n",
        "\n",
        "# Load model and optimizer state if exists\n",
        "if os.path.isfile(CHECKPOINT_PATH):\n",
        "    checkpoint = torch.load(CHECKPOINT_PATH)\n",
        "    model.load_state_dict(checkpoint['model_state_dict'])\n",
        "    optimizer.load_state_dict(checkpoint['optimizer_state_dict'])\n",
        "    start_epoch = checkpoint['epoch']\n",
        "    print(f\"Resuming training from epoch {start_epoch+1}\")\n",
        "else:\n",
        "    start_epoch = 0\n"
      ],
      "metadata": {
        "execution": {
          "iopub.status.busy": "2024-04-15T10:24:49.170379Z",
          "iopub.execute_input": "2024-04-15T10:24:49.170740Z",
          "iopub.status.idle": "2024-04-15T10:24:49.176459Z",
          "shell.execute_reply.started": "2024-04-15T10:24:49.170711Z",
          "shell.execute_reply": "2024-04-15T10:24:49.175456Z"
        },
        "trusted": true,
        "id": "10m0F6bUyx_u"
      },
      "execution_count": null,
      "outputs": []
    },
    {
      "cell_type": "code",
      "source": [
        "# Function to save checkpoint\n",
        "def save_checkpoint(epoch, model, optimizer, filename=CHECKPOINT_PATH):\n",
        "    checkpoint = {\n",
        "        'epoch': epoch,\n",
        "        'model_state_dict': model.state_dict(),\n",
        "        'optimizer_state_dict': optimizer.state_dict()\n",
        "    }\n",
        "    torch.save(checkpoint, filename)\n",
        "    print(f\"Checkpoint saved at epoch {epoch+1}\")"
      ],
      "metadata": {
        "execution": {
          "iopub.status.busy": "2024-04-15T10:24:50.893818Z",
          "iopub.execute_input": "2024-04-15T10:24:50.894196Z",
          "iopub.status.idle": "2024-04-15T10:24:50.899842Z",
          "shell.execute_reply.started": "2024-04-15T10:24:50.894163Z",
          "shell.execute_reply": "2024-04-15T10:24:50.898791Z"
        },
        "trusted": true,
        "id": "LS4p6QOvyx_u"
      },
      "execution_count": null,
      "outputs": []
    },
    {
      "cell_type": "code",
      "source": [
        "train_losses = []\n",
        "\n",
        "# Training Function\n",
        "def train(epoch):\n",
        "    model.train()\n",
        "    running_loss = 0.0\n",
        "    for _, data in tqdm(enumerate(train_loader, 0)):\n",
        "        ids = data['ids'].to(device)\n",
        "        mask = data['mask'].to(device)\n",
        "        token_type_ids = data['token_type_ids'].to(device)\n",
        "        targets = data['targets'].to(device)\n",
        "\n",
        "        outputs = model(ids, mask, token_type_ids, labels=targets)\n",
        "        loss = outputs[0]\n",
        "\n",
        "        if _ % 5000 == 0:\n",
        "            print(f'Epoch: {epoch}, Loss: {loss.item()}')\n",
        "\n",
        "        optimizer.zero_grad()\n",
        "        loss.backward()\n",
        "        optimizer.step()\n",
        "        running_loss += loss.item()\n",
        "\n",
        "    average_loss = running_loss / len(train_loader)\n",
        "    train_losses.append(average_loss)\n",
        "    save_checkpoint(epoch, model, optimizer)"
      ],
      "metadata": {
        "execution": {
          "iopub.status.busy": "2024-04-15T10:25:45.948264Z",
          "iopub.execute_input": "2024-04-15T10:25:45.948651Z",
          "iopub.status.idle": "2024-04-15T10:25:45.956587Z",
          "shell.execute_reply.started": "2024-04-15T10:25:45.948620Z",
          "shell.execute_reply": "2024-04-15T10:25:45.955706Z"
        },
        "trusted": true,
        "id": "9lKPoa7Syx_u"
      },
      "execution_count": null,
      "outputs": []
    },
    {
      "cell_type": "code",
      "source": [
        "# Run training from the last saved epoch\n",
        "for epoch in tqdm(range(start_epoch, 3)):\n",
        "    train(epoch)\n"
      ],
      "metadata": {
        "execution": {
          "iopub.status.busy": "2024-04-15T10:25:47.252842Z",
          "iopub.execute_input": "2024-04-15T10:25:47.253239Z",
          "iopub.status.idle": "2024-04-15T10:59:28.666070Z",
          "shell.execute_reply.started": "2024-04-15T10:25:47.253202Z",
          "shell.execute_reply": "2024-04-15T10:59:28.664838Z"
        },
        "collapsed": true,
        "jupyter": {
          "outputs_hidden": true
        },
        "trusted": true,
        "id": "eYYgc066yx_u",
        "outputId": "e36d6175-0d56-4b3a-ef2b-c08edf77f987"
      },
      "execution_count": null,
      "outputs": [
        {
          "name": "stderr",
          "text": "  0%|          | 0/3 [00:00<?, ?it/s]\n0it [00:00, ?it/s]\u001b[A",
          "output_type": "stream"
        },
        {
          "name": "stdout",
          "text": "Epoch: 0, Loss: 1.115517497062683\n",
          "output_type": "stream"
        },
        {
          "name": "stderr",
          "text": "\n1it [00:00,  1.30it/s]\u001b[A\n2it [00:01,  1.31it/s]\u001b[A\n3it [00:02,  1.31it/s]\u001b[A\n4it [00:03,  1.31it/s]\u001b[A\n5it [00:03,  1.32it/s]\u001b[A\n6it [00:04,  1.32it/s]\u001b[A\n7it [00:05,  1.32it/s]\u001b[A\n8it [00:06,  1.32it/s]\u001b[A\n9it [00:06,  1.32it/s]\u001b[A\n10it [00:07,  1.32it/s]\u001b[A\n11it [00:08,  1.32it/s]\u001b[A\n12it [00:09,  1.32it/s]\u001b[A\n13it [00:09,  1.31it/s]\u001b[A\n14it [00:10,  1.31it/s]\u001b[A\n15it [00:11,  1.31it/s]\u001b[A\n16it [00:12,  1.31it/s]\u001b[A\n17it [00:12,  1.31it/s]\u001b[A\n18it [00:13,  1.31it/s]\u001b[A\n19it [00:14,  1.31it/s]\u001b[A\n20it [00:15,  1.31it/s]\u001b[A\n21it [00:15,  1.31it/s]\u001b[A\n22it [00:16,  1.31it/s]\u001b[A\n23it [00:17,  1.31it/s]\u001b[A\n24it [00:18,  1.31it/s]\u001b[A\n25it [00:19,  1.31it/s]\u001b[A\n26it [00:19,  1.31it/s]\u001b[A\n27it [00:20,  1.30it/s]\u001b[A\n28it [00:21,  1.30it/s]\u001b[A\n29it [00:22,  1.31it/s]\u001b[A\n30it [00:22,  1.30it/s]\u001b[A\n31it [00:23,  1.30it/s]\u001b[A\n32it [00:24,  1.30it/s]\u001b[A\n33it [00:25,  1.30it/s]\u001b[A\n34it [00:25,  1.31it/s]\u001b[A\n35it [00:26,  1.31it/s]\u001b[A\n36it [00:27,  1.31it/s]\u001b[A\n37it [00:28,  1.31it/s]\u001b[A\n38it [00:29,  1.30it/s]\u001b[A\n39it [00:29,  1.30it/s]\u001b[A\n40it [00:30,  1.30it/s]\u001b[A\n41it [00:31,  1.30it/s]\u001b[A\n42it [00:32,  1.30it/s]\u001b[A\n43it [00:32,  1.30it/s]\u001b[A\n44it [00:33,  1.30it/s]\u001b[A\n45it [00:34,  1.30it/s]\u001b[A\n46it [00:35,  1.30it/s]\u001b[A\n47it [00:35,  1.30it/s]\u001b[A\n48it [00:36,  1.30it/s]\u001b[A\n49it [00:37,  1.30it/s]\u001b[A\n50it [00:38,  1.30it/s]\u001b[A\n51it [00:39,  1.31it/s]\u001b[A\n52it [00:39,  1.31it/s]\u001b[A\n53it [00:40,  1.31it/s]\u001b[A\n54it [00:41,  1.31it/s]\u001b[A\n55it [00:42,  1.31it/s]\u001b[A\n56it [00:42,  1.31it/s]\u001b[A\n57it [00:43,  1.31it/s]\u001b[A\n58it [00:44,  1.31it/s]\u001b[A\n59it [00:45,  1.31it/s]\u001b[A\n60it [00:45,  1.31it/s]\u001b[A\n61it [00:46,  1.31it/s]\u001b[A\n62it [00:47,  1.31it/s]\u001b[A\n63it [00:48,  1.31it/s]\u001b[A\n64it [00:48,  1.30it/s]\u001b[A\n65it [00:49,  1.30it/s]\u001b[A\n66it [00:50,  1.30it/s]\u001b[A\n67it [00:51,  1.30it/s]\u001b[A\n68it [00:52,  1.30it/s]\u001b[A\n69it [00:52,  1.30it/s]\u001b[A\n70it [00:53,  1.31it/s]\u001b[A\n71it [00:54,  1.31it/s]\u001b[A\n72it [00:55,  1.31it/s]\u001b[A\n73it [00:55,  1.30it/s]\u001b[A\n74it [00:56,  1.30it/s]\u001b[A\n75it [00:57,  1.30it/s]\u001b[A\n76it [00:58,  1.30it/s]\u001b[A\n77it [00:58,  1.29it/s]\u001b[A\n78it [00:59,  1.30it/s]\u001b[A\n79it [01:00,  1.30it/s]\u001b[A\n80it [01:01,  1.29it/s]\u001b[A\n81it [01:02,  1.29it/s]\u001b[A\n82it [01:02,  1.29it/s]\u001b[A\n83it [01:03,  1.30it/s]\u001b[A\n84it [01:04,  1.29it/s]\u001b[A\n85it [01:05,  1.29it/s]\u001b[A\n86it [01:05,  1.29it/s]\u001b[A\n87it [01:06,  1.29it/s]\u001b[A\n88it [01:07,  1.29it/s]\u001b[A\n89it [01:08,  1.28it/s]\u001b[A\n90it [01:09,  1.29it/s]\u001b[A\n91it [01:09,  1.28it/s]\u001b[A\n92it [01:10,  1.28it/s]\u001b[A\n93it [01:11,  1.28it/s]\u001b[A\n94it [01:12,  1.28it/s]\u001b[A\n95it [01:12,  1.28it/s]\u001b[A\n96it [01:13,  1.28it/s]\u001b[A\n97it [01:14,  1.28it/s]\u001b[A\n98it [01:15,  1.28it/s]\u001b[A\n99it [01:16,  1.28it/s]\u001b[A\n100it [01:16,  1.29it/s]\u001b[A\n101it [01:17,  1.29it/s]\u001b[A\n102it [01:18,  1.28it/s]\u001b[A\n103it [01:19,  1.29it/s]\u001b[A\n104it [01:19,  1.29it/s]\u001b[A\n105it [01:20,  1.29it/s]\u001b[A\n106it [01:21,  1.29it/s]\u001b[A\n107it [01:22,  1.29it/s]\u001b[A\n108it [01:23,  1.29it/s]\u001b[A\n109it [01:23,  1.29it/s]\u001b[A\n110it [01:24,  1.29it/s]\u001b[A\n111it [01:25,  1.29it/s]\u001b[A\n112it [01:26,  1.28it/s]\u001b[A\n113it [01:26,  1.28it/s]\u001b[A\n114it [01:27,  1.28it/s]\u001b[A\n115it [01:28,  1.28it/s]\u001b[A\n116it [01:29,  1.28it/s]\u001b[A\n117it [01:30,  1.28it/s]\u001b[A\n118it [01:30,  1.27it/s]\u001b[A\n119it [01:31,  1.28it/s]\u001b[A\n120it [01:32,  1.28it/s]\u001b[A\n121it [01:33,  1.27it/s]\u001b[A\n122it [01:33,  1.28it/s]\u001b[A\n123it [01:34,  1.28it/s]\u001b[A\n124it [01:35,  1.28it/s]\u001b[A\n125it [01:36,  1.28it/s]\u001b[A\n126it [01:37,  1.28it/s]\u001b[A\n127it [01:37,  1.28it/s]\u001b[A\n128it [01:38,  1.28it/s]\u001b[A\n129it [01:39,  1.28it/s]\u001b[A\n130it [01:40,  1.28it/s]\u001b[A\n131it [01:40,  1.28it/s]\u001b[A\n132it [01:41,  1.28it/s]\u001b[A\n133it [01:42,  1.28it/s]\u001b[A\n134it [01:43,  1.28it/s]\u001b[A\n135it [01:44,  1.28it/s]\u001b[A\n136it [01:44,  1.28it/s]\u001b[A\n137it [01:45,  1.28it/s]\u001b[A\n138it [01:46,  1.28it/s]\u001b[A\n139it [01:47,  1.28it/s]\u001b[A\n140it [01:48,  1.28it/s]\u001b[A\n141it [01:48,  1.28it/s]\u001b[A\n142it [01:49,  1.27it/s]\u001b[A\n143it [01:50,  1.28it/s]\u001b[A\n144it [01:51,  1.28it/s]\u001b[A\n145it [01:51,  1.27it/s]\u001b[A\n146it [01:52,  1.28it/s]\u001b[A\n147it [01:53,  1.28it/s]\u001b[A\n148it [01:54,  1.28it/s]\u001b[A\n149it [01:55,  1.28it/s]\u001b[A\n150it [01:55,  1.28it/s]\u001b[A\n151it [01:56,  1.28it/s]\u001b[A\n152it [01:57,  1.28it/s]\u001b[A\n153it [01:58,  1.28it/s]\u001b[A\n154it [01:59,  1.28it/s]\u001b[A\n155it [01:59,  1.28it/s]\u001b[A\n156it [02:00,  1.28it/s]\u001b[A\n157it [02:01,  1.28it/s]\u001b[A\n158it [02:02,  1.28it/s]\u001b[A\n159it [02:02,  1.28it/s]\u001b[A\n160it [02:03,  1.28it/s]\u001b[A\n161it [02:04,  1.28it/s]\u001b[A\n162it [02:05,  1.28it/s]\u001b[A\n163it [02:06,  1.28it/s]\u001b[A\n164it [02:06,  1.28it/s]\u001b[A\n165it [02:07,  1.28it/s]\u001b[A\n166it [02:08,  1.28it/s]\u001b[A\n167it [02:09,  1.28it/s]\u001b[A\n168it [02:09,  1.28it/s]\u001b[A\n169it [02:10,  1.28it/s]\u001b[A\n170it [02:11,  1.27it/s]\u001b[A\n171it [02:12,  1.28it/s]\u001b[A\n172it [02:13,  1.28it/s]\u001b[A\n173it [02:13,  1.28it/s]\u001b[A\n174it [02:14,  1.28it/s]\u001b[A\n175it [02:15,  1.28it/s]\u001b[A\n176it [02:16,  1.28it/s]\u001b[A\n177it [02:16,  1.28it/s]\u001b[A\n178it [02:17,  1.28it/s]\u001b[A\n179it [02:18,  1.28it/s]\u001b[A\n180it [02:19,  1.28it/s]\u001b[A\n181it [02:20,  1.28it/s]\u001b[A\n182it [02:20,  1.28it/s]\u001b[A\n183it [02:21,  1.28it/s]\u001b[A\n184it [02:22,  1.28it/s]\u001b[A\n185it [02:23,  1.28it/s]\u001b[A\n186it [02:24,  1.28it/s]\u001b[A\n187it [02:24,  1.28it/s]\u001b[A\n188it [02:25,  1.28it/s]\u001b[A\n189it [02:26,  1.28it/s]\u001b[A\n190it [02:27,  1.29it/s]\u001b[A\n191it [02:27,  1.28it/s]\u001b[A\n192it [02:28,  1.28it/s]\u001b[A\n193it [02:29,  1.28it/s]\u001b[A\n194it [02:30,  1.28it/s]\u001b[A\n195it [02:31,  1.28it/s]\u001b[A\n196it [02:31,  1.28it/s]\u001b[A\n197it [02:32,  1.28it/s]\u001b[A\n198it [02:33,  1.28it/s]\u001b[A\n199it [02:34,  1.28it/s]\u001b[A\n200it [02:34,  1.28it/s]\u001b[A\n201it [02:35,  1.28it/s]\u001b[A\n202it [02:36,  1.28it/s]\u001b[A\n203it [02:37,  1.28it/s]\u001b[A\n204it [02:38,  1.28it/s]\u001b[A\n205it [02:38,  1.28it/s]\u001b[A\n206it [02:39,  1.28it/s]\u001b[A\n207it [02:40,  1.28it/s]\u001b[A\n208it [02:41,  1.27it/s]\u001b[A\n209it [02:42,  1.27it/s]\u001b[A\n210it [02:42,  1.28it/s]\u001b[A\n211it [02:43,  1.28it/s]\u001b[A\n212it [02:44,  1.27it/s]\u001b[A\n213it [02:45,  1.28it/s]\u001b[A\n214it [02:45,  1.28it/s]\u001b[A\n215it [02:46,  1.28it/s]\u001b[A\n216it [02:47,  1.28it/s]\u001b[A\n217it [02:48,  1.28it/s]\u001b[A\n218it [02:49,  1.28it/s]\u001b[A\n219it [02:49,  1.28it/s]\u001b[A\n220it [02:50,  1.28it/s]\u001b[A\n221it [02:51,  1.28it/s]\u001b[A\n222it [02:52,  1.28it/s]\u001b[A\n223it [02:52,  1.28it/s]\u001b[A\n224it [02:53,  1.28it/s]\u001b[A\n225it [02:54,  1.27it/s]\u001b[A\n226it [02:55,  1.27it/s]\u001b[A\n227it [02:56,  1.27it/s]\u001b[A\n228it [02:56,  1.28it/s]\u001b[A\n229it [02:57,  1.28it/s]\u001b[A\n230it [02:58,  1.28it/s]\u001b[A\n231it [02:59,  1.28it/s]\u001b[A\n232it [03:00,  1.28it/s]\u001b[A\n233it [03:00,  1.28it/s]\u001b[A\n234it [03:01,  1.28it/s]\u001b[A\n235it [03:02,  1.28it/s]\u001b[A\n236it [03:03,  1.28it/s]\u001b[A\n237it [03:03,  1.29it/s]\u001b[A\n238it [03:04,  1.28it/s]\u001b[A\n239it [03:05,  1.28it/s]\u001b[A\n240it [03:06,  1.28it/s]\u001b[A\n241it [03:07,  1.28it/s]\u001b[A\n242it [03:07,  1.28it/s]\u001b[A\n243it [03:08,  1.28it/s]\u001b[A\n244it [03:09,  1.28it/s]\u001b[A\n245it [03:10,  1.28it/s]\u001b[A\n246it [03:10,  1.28it/s]\u001b[A\n247it [03:11,  1.28it/s]\u001b[A\n248it [03:12,  1.28it/s]\u001b[A\n249it [03:13,  1.28it/s]\u001b[A\n250it [03:14,  1.28it/s]\u001b[A\n251it [03:14,  1.28it/s]\u001b[A\n252it [03:15,  1.28it/s]\u001b[A\n253it [03:16,  1.28it/s]\u001b[A\n254it [03:17,  1.28it/s]\u001b[A\n255it [03:17,  1.27it/s]\u001b[A\n256it [03:18,  1.28it/s]\u001b[A\n257it [03:19,  1.27it/s]\u001b[A\n258it [03:20,  1.27it/s]\u001b[A\n259it [03:21,  1.28it/s]\u001b[A\n260it [03:21,  1.28it/s]\u001b[A\n261it [03:22,  1.28it/s]\u001b[A\n262it [03:23,  1.28it/s]\u001b[A\n263it [03:24,  1.28it/s]\u001b[A\n264it [03:25,  1.29it/s]\u001b[A\n265it [03:25,  1.29it/s]\u001b[A\n266it [03:26,  1.28it/s]\u001b[A\n267it [03:27,  1.28it/s]\u001b[A\n268it [03:28,  1.28it/s]\u001b[A\n269it [03:28,  1.28it/s]\u001b[A\n270it [03:29,  1.28it/s]\u001b[A\n271it [03:30,  1.28it/s]\u001b[A\n272it [03:31,  1.28it/s]\u001b[A\n273it [03:32,  1.28it/s]\u001b[A\n274it [03:32,  1.29it/s]\u001b[A\n275it [03:33,  1.28it/s]\u001b[A\n276it [03:34,  1.28it/s]\u001b[A\n277it [03:35,  1.28it/s]\u001b[A\n278it [03:35,  1.28it/s]\u001b[A\n279it [03:36,  1.27it/s]\u001b[A\n280it [03:37,  1.28it/s]\u001b[A\n281it [03:38,  1.28it/s]\u001b[A\n282it [03:39,  1.28it/s]\u001b[A\n283it [03:39,  1.28it/s]\u001b[A\n284it [03:40,  1.28it/s]\u001b[A\n285it [03:41,  1.27it/s]\u001b[A\n286it [03:42,  1.28it/s]\u001b[A\n287it [03:42,  1.28it/s]\u001b[A\n288it [03:43,  1.28it/s]\u001b[A\n289it [03:44,  1.28it/s]\u001b[A\n290it [03:45,  1.28it/s]\u001b[A\n291it [03:46,  1.28it/s]\u001b[A\n292it [03:46,  1.28it/s]\u001b[A\n293it [03:47,  1.28it/s]\u001b[A\n294it [03:48,  1.28it/s]\u001b[A\n295it [03:49,  1.28it/s]\u001b[A\n296it [03:50,  1.28it/s]\u001b[A\n297it [03:50,  1.28it/s]\u001b[A\n298it [03:51,  1.28it/s]\u001b[A\n299it [03:52,  1.28it/s]\u001b[A\n300it [03:53,  1.28it/s]\u001b[A\n301it [03:53,  1.28it/s]\u001b[A\n302it [03:54,  1.28it/s]\u001b[A\n303it [03:55,  1.28it/s]\u001b[A\n304it [03:56,  1.28it/s]\u001b[A\n305it [03:57,  1.28it/s]\u001b[A\n306it [03:57,  1.27it/s]\u001b[A\n307it [03:58,  1.28it/s]\u001b[A\n308it [03:59,  1.28it/s]\u001b[A\n309it [04:00,  1.28it/s]\u001b[A\n310it [04:00,  1.28it/s]\u001b[A\n311it [04:01,  1.29it/s]\u001b[A\n312it [04:02,  1.28it/s]\u001b[A\n313it [04:03,  1.28it/s]\u001b[A\n314it [04:04,  1.28it/s]\u001b[A\n315it [04:04,  1.28it/s]\u001b[A\n316it [04:05,  1.28it/s]\u001b[A\n317it [04:06,  1.28it/s]\u001b[A\n318it [04:07,  1.28it/s]\u001b[A\n319it [04:08,  1.28it/s]\u001b[A\n320it [04:08,  1.29it/s]\u001b[A\n321it [04:09,  1.28it/s]\u001b[A\n322it [04:10,  1.28it/s]\u001b[A\n323it [04:11,  1.28it/s]\u001b[A\n324it [04:11,  1.28it/s]\u001b[A\n325it [04:12,  1.27it/s]\u001b[A\n326it [04:13,  1.28it/s]\u001b[A\n327it [04:14,  1.28it/s]\u001b[A\n328it [04:15,  1.28it/s]\u001b[A\n329it [04:15,  1.28it/s]\u001b[A\n330it [04:16,  1.28it/s]\u001b[A\n331it [04:17,  1.28it/s]\u001b[A\n332it [04:18,  1.28it/s]\u001b[A\n333it [04:18,  1.28it/s]\u001b[A\n334it [04:19,  1.28it/s]\u001b[A\n335it [04:20,  1.28it/s]\u001b[A\n336it [04:21,  1.28it/s]\u001b[A\n337it [04:22,  1.27it/s]\u001b[A\n338it [04:22,  1.28it/s]\u001b[A\n339it [04:23,  1.28it/s]\u001b[A\n340it [04:24,  1.27it/s]\u001b[A\n341it [04:25,  1.27it/s]\u001b[A\n342it [04:25,  1.27it/s]\u001b[A\n343it [04:26,  1.28it/s]\u001b[A\n344it [04:27,  1.28it/s]\u001b[A\n345it [04:28,  1.28it/s]\u001b[A\n346it [04:29,  1.28it/s]\u001b[A\n347it [04:29,  1.28it/s]\u001b[A\n348it [04:30,  1.28it/s]\u001b[A\n349it [04:31,  1.28it/s]\u001b[A\n350it [04:32,  1.28it/s]\u001b[A\n351it [04:33,  1.28it/s]\u001b[A\n352it [04:33,  1.28it/s]\u001b[A\n353it [04:34,  1.28it/s]\u001b[A\n354it [04:35,  1.28it/s]\u001b[A\n355it [04:36,  1.28it/s]\u001b[A\n356it [04:36,  1.28it/s]\u001b[A\n357it [04:37,  1.28it/s]\u001b[A\n358it [04:38,  1.28it/s]\u001b[A\n359it [04:39,  1.28it/s]\u001b[A\n360it [04:40,  1.29it/s]\u001b[A\n361it [04:40,  1.28it/s]\u001b[A\n362it [04:41,  1.28it/s]\u001b[A\n363it [04:42,  1.28it/s]\u001b[A\n364it [04:43,  1.28it/s]\u001b[A\n365it [04:43,  1.28it/s]\u001b[A\n366it [04:44,  1.28it/s]\u001b[A\n367it [04:45,  1.28it/s]\u001b[A\n368it [04:46,  1.28it/s]\u001b[A\n369it [04:47,  1.28it/s]\u001b[A\n370it [04:47,  1.27it/s]\u001b[A\n371it [04:48,  1.28it/s]\u001b[A\n372it [04:49,  1.27it/s]\u001b[A\n373it [04:50,  1.28it/s]\u001b[A\n374it [04:51,  1.28it/s]\u001b[A\n375it [04:51,  1.28it/s]\u001b[A\n376it [04:52,  1.28it/s]\u001b[A\n377it [04:53,  1.28it/s]\u001b[A\n378it [04:54,  1.28it/s]\u001b[A\n379it [04:54,  1.28it/s]\u001b[A\n380it [04:55,  1.28it/s]\u001b[A\n381it [04:56,  1.29it/s]\u001b[A\n382it [04:57,  1.29it/s]\u001b[A\n383it [04:58,  1.29it/s]\u001b[A\n384it [04:58,  1.29it/s]\u001b[A\n385it [04:59,  1.29it/s]\u001b[A\n386it [05:00,  1.29it/s]\u001b[A\n387it [05:01,  1.28it/s]\u001b[A\n388it [05:01,  1.28it/s]\u001b[A\n389it [05:02,  1.28it/s]\u001b[A\n390it [05:03,  1.28it/s]\u001b[A\n391it [05:04,  1.28it/s]\u001b[A\n392it [05:05,  1.29it/s]\u001b[A\n393it [05:05,  1.29it/s]\u001b[A\n394it [05:06,  1.29it/s]\u001b[A\n395it [05:07,  1.28it/s]\u001b[A\n396it [05:08,  1.28it/s]\u001b[A\n397it [05:08,  1.28it/s]\u001b[A\n398it [05:09,  1.28it/s]\u001b[A\n399it [05:10,  1.28it/s]\u001b[A\n400it [05:11,  1.28it/s]\u001b[A\n401it [05:12,  1.28it/s]\u001b[A\n402it [05:12,  1.28it/s]\u001b[A\n403it [05:13,  1.28it/s]\u001b[A\n404it [05:14,  1.28it/s]\u001b[A\n405it [05:15,  1.28it/s]\u001b[A\n406it [05:15,  1.28it/s]\u001b[A\n407it [05:16,  1.28it/s]\u001b[A\n408it [05:17,  1.28it/s]\u001b[A\n409it [05:18,  1.28it/s]\u001b[A\n410it [05:19,  1.28it/s]\u001b[A\n411it [05:19,  1.28it/s]\u001b[A\n412it [05:20,  1.28it/s]\u001b[A\n413it [05:21,  1.28it/s]\u001b[A\n414it [05:22,  1.28it/s]\u001b[A\n415it [05:23,  1.28it/s]\u001b[A\n416it [05:23,  1.27it/s]\u001b[A\n417it [05:24,  1.28it/s]\u001b[A\n418it [05:25,  1.27it/s]\u001b[A\n419it [05:26,  1.28it/s]\u001b[A\n420it [05:26,  1.28it/s]\u001b[A\n421it [05:27,  1.27it/s]\u001b[A\n422it [05:28,  1.27it/s]\u001b[A\n423it [05:29,  1.27it/s]\u001b[A\n424it [05:30,  1.27it/s]\u001b[A\n425it [05:30,  1.27it/s]\u001b[A\n426it [05:31,  1.27it/s]\u001b[A\n427it [05:32,  1.28it/s]\u001b[A\n428it [05:33,  1.28it/s]\u001b[A\n429it [05:33,  1.28it/s]\u001b[A\n430it [05:34,  1.28it/s]\u001b[A\n431it [05:35,  1.28it/s]\u001b[A\n432it [05:36,  1.28it/s]\u001b[A\n433it [05:37,  1.28it/s]\u001b[A\n434it [05:37,  1.28it/s]\u001b[A\n435it [05:38,  1.28it/s]\u001b[A\n436it [05:39,  1.28it/s]\u001b[A\n437it [05:40,  1.29it/s]\u001b[A\n438it [05:40,  1.28it/s]\u001b[A\n439it [05:41,  1.28it/s]\u001b[A\n440it [05:42,  1.28it/s]\u001b[A\n441it [05:43,  1.28it/s]\u001b[A\n442it [05:44,  1.28it/s]\u001b[A\n443it [05:44,  1.28it/s]\u001b[A\n444it [05:45,  1.28it/s]\u001b[A\n445it [05:46,  1.28it/s]\u001b[A\n446it [05:47,  1.28it/s]\u001b[A\n447it [05:48,  1.28it/s]\u001b[A\n448it [05:48,  1.28it/s]\u001b[A\n449it [05:49,  1.28it/s]\u001b[A\n450it [05:50,  1.28it/s]\u001b[A\n451it [05:51,  1.28it/s]\u001b[A\n452it [05:51,  1.28it/s]\u001b[A\n453it [05:52,  1.28it/s]\u001b[A\n454it [05:53,  1.28it/s]\u001b[A\n455it [05:54,  1.28it/s]\u001b[A\n456it [05:55,  1.28it/s]\u001b[A\n457it [05:55,  1.28it/s]\u001b[A\n458it [05:56,  1.28it/s]\u001b[A\n459it [05:57,  1.28it/s]\u001b[A\n460it [05:58,  1.28it/s]\u001b[A\n461it [05:58,  1.28it/s]\u001b[A\n462it [05:59,  1.28it/s]\u001b[A\n463it [06:00,  1.28it/s]\u001b[A\n464it [06:01,  1.27it/s]\u001b[A\n465it [06:02,  1.28it/s]\u001b[A\n466it [06:02,  1.28it/s]\u001b[A\n467it [06:03,  1.28it/s]\u001b[A\n468it [06:04,  1.28it/s]\u001b[A\n469it [06:05,  1.28it/s]\u001b[A\n470it [06:06,  1.27it/s]\u001b[A\n471it [06:06,  1.28it/s]\u001b[A\n472it [06:07,  1.28it/s]\u001b[A\n473it [06:08,  1.28it/s]\u001b[A\n474it [06:09,  1.28it/s]\u001b[A\n475it [06:09,  1.28it/s]\u001b[A\n476it [06:10,  1.28it/s]\u001b[A\n477it [06:11,  1.28it/s]\u001b[A\n478it [06:12,  1.28it/s]\u001b[A\n479it [06:13,  1.28it/s]\u001b[A\n480it [06:13,  1.29it/s]\u001b[A\n481it [06:14,  1.28it/s]\u001b[A\n482it [06:15,  1.28it/s]\u001b[A\n483it [06:16,  1.28it/s]\u001b[A\n484it [06:16,  1.28it/s]\u001b[A\n485it [06:17,  1.28it/s]\u001b[A\n486it [06:18,  1.28it/s]\u001b[A\n487it [06:19,  1.28it/s]\u001b[A\n488it [06:20,  1.27it/s]\u001b[A\n489it [06:20,  1.27it/s]\u001b[A\n490it [06:21,  1.28it/s]\u001b[A\n491it [06:22,  1.27it/s]\u001b[A\n492it [06:23,  1.28it/s]\u001b[A\n493it [06:24,  1.28it/s]\u001b[A\n494it [06:24,  1.28it/s]\u001b[A\n495it [06:25,  1.28it/s]\u001b[A\n496it [06:26,  1.28it/s]\u001b[A\n497it [06:27,  1.28it/s]\u001b[A\n498it [06:27,  1.27it/s]\u001b[A\n499it [06:28,  1.28it/s]\u001b[A\n500it [06:29,  1.27it/s]\u001b[A\n501it [06:30,  1.28it/s]\u001b[A\n502it [06:31,  1.28it/s]\u001b[A\n503it [06:31,  1.28it/s]\u001b[A\n504it [06:32,  1.28it/s]\u001b[A\n505it [06:33,  1.28it/s]\u001b[A\n506it [06:34,  1.29it/s]\u001b[A\n507it [06:34,  1.28it/s]\u001b[A\n508it [06:35,  1.28it/s]\u001b[A\n509it [06:36,  1.29it/s]\u001b[A\n510it [06:37,  1.29it/s]\u001b[A\n511it [06:38,  1.28it/s]\u001b[A\n512it [06:38,  1.28it/s]\u001b[A\n513it [06:39,  1.28it/s]\u001b[A\n514it [06:40,  1.28it/s]\u001b[A\n515it [06:41,  1.28it/s]\u001b[A\n516it [06:41,  1.28it/s]\u001b[A\n517it [06:42,  1.28it/s]\u001b[A\n518it [06:43,  1.28it/s]\u001b[A\n519it [06:44,  1.28it/s]\u001b[A\n520it [06:45,  1.29it/s]\u001b[A\n521it [06:45,  1.28it/s]\u001b[A\n522it [06:46,  1.28it/s]\u001b[A\n523it [06:47,  1.28it/s]\u001b[A\n524it [06:48,  1.28it/s]\u001b[A\n525it [06:48,  1.28it/s]\u001b[A\n526it [06:49,  1.28it/s]\u001b[A\n527it [06:50,  1.27it/s]\u001b[A\n528it [06:51,  1.28it/s]\u001b[A\n529it [06:52,  1.28it/s]\u001b[A\n530it [06:52,  1.28it/s]\u001b[A\n531it [06:53,  1.28it/s]\u001b[A\n532it [06:54,  1.28it/s]\u001b[A\n533it [06:55,  1.27it/s]\u001b[A\n534it [06:56,  1.28it/s]\u001b[A\n535it [06:56,  1.28it/s]\u001b[A\n536it [06:57,  1.28it/s]\u001b[A\n537it [06:58,  1.28it/s]\u001b[A\n538it [06:59,  1.28it/s]\u001b[A\n539it [06:59,  1.29it/s]\u001b[A\n540it [07:00,  1.29it/s]\u001b[A\n541it [07:01,  1.29it/s]\u001b[A\n542it [07:02,  1.28it/s]\u001b[A\n543it [07:03,  1.28it/s]\u001b[A\n544it [07:03,  1.28it/s]\u001b[A\n545it [07:04,  1.28it/s]\u001b[A\n546it [07:05,  1.28it/s]\u001b[A\n547it [07:06,  1.28it/s]\u001b[A\n548it [07:06,  1.27it/s]\u001b[A\n549it [07:07,  1.27it/s]\u001b[A\n550it [07:08,  1.28it/s]\u001b[A\n551it [07:09,  1.27it/s]\u001b[A\n552it [07:10,  1.28it/s]\u001b[A\n553it [07:10,  1.28it/s]\u001b[A\n554it [07:11,  1.28it/s]\u001b[A\n555it [07:12,  1.28it/s]\u001b[A\n556it [07:13,  1.28it/s]\u001b[A\n557it [07:14,  1.28it/s]\u001b[A\n558it [07:14,  1.28it/s]\u001b[A\n559it [07:15,  1.29it/s]\u001b[A\n560it [07:16,  1.29it/s]\u001b[A\n561it [07:17,  1.29it/s]\u001b[A\n562it [07:17,  1.28it/s]\u001b[A\n563it [07:18,  1.28it/s]\u001b[A\n564it [07:19,  1.28it/s]\u001b[A\n565it [07:20,  1.28it/s]\u001b[A\n566it [07:21,  1.28it/s]\u001b[A\n567it [07:21,  1.28it/s]\u001b[A\n568it [07:22,  1.28it/s]\u001b[A\n569it [07:23,  1.27it/s]\u001b[A\n570it [07:24,  1.28it/s]\u001b[A\n571it [07:24,  1.28it/s]\u001b[A\n572it [07:25,  1.28it/s]\u001b[A\n573it [07:26,  1.28it/s]\u001b[A\n574it [07:27,  1.28it/s]\u001b[A\n575it [07:28,  1.28it/s]\u001b[A\n576it [07:28,  1.28it/s]\u001b[A\n577it [07:29,  1.28it/s]\u001b[A\n578it [07:30,  1.28it/s]\u001b[A\n579it [07:31,  1.28it/s]\u001b[A\n580it [07:31,  1.28it/s]\u001b[A\n581it [07:32,  1.28it/s]\u001b[A\n582it [07:33,  1.28it/s]\u001b[A\n583it [07:34,  1.28it/s]\u001b[A\n584it [07:35,  1.28it/s]\u001b[A\n585it [07:35,  1.29it/s]\u001b[A\n586it [07:36,  1.29it/s]\u001b[A\n587it [07:37,  1.28it/s]\u001b[A\n588it [07:38,  1.28it/s]\u001b[A\n589it [07:38,  1.28it/s]\u001b[A\n590it [07:39,  1.28it/s]\u001b[A\n591it [07:40,  1.28it/s]\u001b[A\n592it [07:41,  1.28it/s]\u001b[A\n593it [07:42,  1.28it/s]\u001b[A\n594it [07:42,  1.28it/s]\u001b[A\n595it [07:43,  1.28it/s]\u001b[A\n596it [07:44,  1.28it/s]\u001b[A\n597it [07:45,  1.28it/s]\u001b[A\n598it [07:46,  1.28it/s]\u001b[A\n599it [07:46,  1.28it/s]\u001b[A\n600it [07:47,  1.28it/s]\u001b[A\n601it [07:48,  1.28it/s]\u001b[A\n602it [07:49,  1.28it/s]\u001b[A\n603it [07:49,  1.28it/s]\u001b[A\n604it [07:50,  1.28it/s]\u001b[A\n605it [07:51,  1.28it/s]\u001b[A\n606it [07:52,  1.28it/s]\u001b[A\n607it [07:53,  1.28it/s]\u001b[A\n608it [07:53,  1.29it/s]\u001b[A\n609it [07:54,  1.29it/s]\u001b[A\n610it [07:55,  1.29it/s]\u001b[A\n611it [07:56,  1.28it/s]\u001b[A\n612it [07:56,  1.28it/s]\u001b[A\n613it [07:57,  1.28it/s]\u001b[A\n614it [07:58,  1.28it/s]\u001b[A\n615it [07:59,  1.28it/s]\u001b[A\n616it [08:00,  1.28it/s]\u001b[A\n617it [08:00,  1.28it/s]\u001b[A\n618it [08:01,  1.28it/s]\u001b[A\n619it [08:02,  1.28it/s]\u001b[A\n620it [08:03,  1.28it/s]\u001b[A\n621it [08:03,  1.28it/s]\u001b[A\n622it [08:04,  1.27it/s]\u001b[A\n623it [08:05,  1.27it/s]\u001b[A\n624it [08:06,  1.28it/s]\u001b[A\n625it [08:07,  1.28it/s]\u001b[A\n626it [08:07,  1.28it/s]\u001b[A\n627it [08:08,  1.28it/s]\u001b[A\n628it [08:09,  1.28it/s]\u001b[A\n629it [08:10,  1.28it/s]\u001b[A\n630it [08:11,  1.28it/s]\u001b[A\n631it [08:11,  1.28it/s]\u001b[A\n632it [08:12,  1.28it/s]\u001b[A\n633it [08:13,  1.28it/s]\u001b[A\n634it [08:14,  1.28it/s]\u001b[A\n635it [08:14,  1.28it/s]\u001b[A\n636it [08:15,  1.28it/s]\u001b[A\n637it [08:16,  1.28it/s]\u001b[A\n638it [08:17,  1.28it/s]\u001b[A\n639it [08:18,  1.28it/s]\u001b[A\n640it [08:18,  1.28it/s]\u001b[A\n641it [08:19,  1.28it/s]\u001b[A\n642it [08:20,  1.28it/s]\u001b[A\n643it [08:21,  1.28it/s]\u001b[A\n644it [08:21,  1.28it/s]\u001b[A\n645it [08:22,  1.28it/s]\u001b[A\n646it [08:23,  1.28it/s]\u001b[A\n647it [08:24,  1.28it/s]\u001b[A\n648it [08:25,  1.28it/s]\u001b[A\n649it [08:25,  1.28it/s]\u001b[A\n650it [08:26,  1.28it/s]\u001b[A\n651it [08:27,  1.29it/s]\u001b[A\n652it [08:28,  1.28it/s]\u001b[A\n653it [08:29,  1.28it/s]\u001b[A\n654it [08:29,  1.28it/s]\u001b[A\n655it [08:30,  1.28it/s]\u001b[A\n656it [08:31,  1.27it/s]\u001b[A\n657it [08:32,  1.28it/s]\u001b[A\n658it [08:32,  1.28it/s]\u001b[A\n659it [08:33,  1.28it/s]\u001b[A\n660it [08:34,  1.28it/s]\u001b[A\n661it [08:35,  1.28it/s]\u001b[A\n662it [08:36,  1.28it/s]\u001b[A\n663it [08:36,  1.28it/s]\u001b[A\n664it [08:37,  1.28it/s]\u001b[A\n665it [08:38,  1.28it/s]\u001b[A\n666it [08:39,  1.28it/s]\u001b[A\n667it [08:39,  1.28it/s]\u001b[A\n668it [08:40,  1.28it/s]\u001b[A\n669it [08:41,  1.28it/s]\u001b[A\n670it [08:42,  1.28it/s]\u001b[A\n671it [08:43,  1.27it/s]\u001b[A\n672it [08:43,  1.27it/s]\u001b[A\n673it [08:44,  1.28it/s]\u001b[A\n674it [08:45,  1.28it/s]\u001b[A\n675it [08:46,  1.29it/s]\u001b[A\n676it [08:46,  1.28it/s]\u001b[A\n677it [08:47,  1.28it/s]\u001b[A\n678it [08:48,  1.28it/s]\u001b[A\n679it [08:49,  1.28it/s]\u001b[A\n680it [08:50,  1.28it/s]\u001b[A\n681it [08:50,  1.28it/s]\u001b[A\n682it [08:51,  1.28it/s]\u001b[A\n683it [08:52,  1.28it/s]\u001b[A\n684it [08:53,  1.28it/s]\u001b[A\n685it [08:54,  1.28it/s]\u001b[A\n686it [08:54,  1.28it/s]\u001b[A\n687it [08:55,  1.28it/s]\u001b[A\n688it [08:56,  1.28it/s]\u001b[A\n689it [08:57,  1.28it/s]\u001b[A\n690it [08:57,  1.28it/s]\u001b[A\n691it [08:58,  1.28it/s]\u001b[A\n692it [08:59,  1.28it/s]\u001b[A\n693it [09:00,  1.28it/s]\u001b[A\n694it [09:01,  1.28it/s]\u001b[A\n695it [09:01,  1.28it/s]\u001b[A\n696it [09:02,  1.28it/s]\u001b[A\n697it [09:03,  1.28it/s]\u001b[A\n698it [09:04,  1.28it/s]\u001b[A\n699it [09:04,  1.27it/s]\u001b[A\n700it [09:05,  1.28it/s]\u001b[A\n701it [09:06,  1.28it/s]\u001b[A\n702it [09:07,  1.28it/s]\u001b[A\n703it [09:08,  1.28it/s]\u001b[A\n704it [09:08,  1.28it/s]\u001b[A\n705it [09:09,  1.28it/s]\u001b[A\n706it [09:10,  1.28it/s]\u001b[A\n707it [09:11,  1.28it/s]\u001b[A\n708it [09:12,  1.28it/s]\u001b[A\n709it [09:12,  1.28it/s]\u001b[A\n710it [09:13,  1.28it/s]\u001b[A\n711it [09:14,  1.28it/s]\u001b[A\n712it [09:15,  1.28it/s]\u001b[A\n713it [09:15,  1.28it/s]\u001b[A\n714it [09:16,  1.27it/s]\u001b[A\n715it [09:17,  1.27it/s]\u001b[A\n716it [09:18,  1.27it/s]\u001b[A\n717it [09:19,  1.27it/s]\u001b[A\n718it [09:19,  1.27it/s]\u001b[A\n719it [09:20,  1.28it/s]\u001b[A\n720it [09:21,  1.28it/s]\u001b[A\n721it [09:22,  1.28it/s]\u001b[A\n722it [09:22,  1.28it/s]\u001b[A\n723it [09:23,  1.28it/s]\u001b[A\n724it [09:24,  1.28it/s]\u001b[A\n725it [09:25,  1.28it/s]\u001b[A\n726it [09:26,  1.28it/s]\u001b[A\n727it [09:26,  1.28it/s]\u001b[A\n728it [09:27,  1.28it/s]\u001b[A\n729it [09:28,  1.28it/s]\u001b[A\n730it [09:29,  1.28it/s]\u001b[A\n731it [09:29,  1.28it/s]\u001b[A\n732it [09:30,  1.29it/s]\u001b[A\n733it [09:31,  1.28it/s]\u001b[A\n734it [09:32,  1.28it/s]\u001b[A\n735it [09:33,  1.28it/s]\u001b[A\n736it [09:33,  1.28it/s]\u001b[A\n737it [09:34,  1.28it/s]\u001b[A\n738it [09:35,  1.28it/s]\u001b[A\n739it [09:36,  1.29it/s]\u001b[A\n740it [09:37,  1.28it/s]\u001b[A\n741it [09:37,  1.28it/s]\u001b[A\n742it [09:38,  1.28it/s]\u001b[A\n743it [09:39,  1.28it/s]\u001b[A\n744it [09:40,  1.28it/s]\u001b[A\n745it [09:40,  1.28it/s]\u001b[A\n746it [09:41,  1.28it/s]\u001b[A\n747it [09:42,  1.28it/s]\u001b[A\n748it [09:43,  1.28it/s]\u001b[A\n749it [09:44,  1.28it/s]\u001b[A\n750it [09:44,  1.28it/s]\u001b[A\n751it [09:45,  1.28it/s]\u001b[A\n752it [09:46,  1.28it/s]\u001b[A\n753it [09:47,  1.28it/s]\u001b[A\n754it [09:47,  1.28it/s]\u001b[A\n755it [09:48,  1.28it/s]\u001b[A\n756it [09:49,  1.28it/s]\u001b[A\n757it [09:50,  1.28it/s]\u001b[A\n758it [09:51,  1.28it/s]\u001b[A\n759it [09:51,  1.27it/s]\u001b[A\n760it [09:52,  1.27it/s]\u001b[A\n761it [09:53,  1.28it/s]\u001b[A\n762it [09:54,  1.28it/s]\u001b[A\n763it [09:55,  1.28it/s]\u001b[A\n764it [09:55,  1.28it/s]\u001b[A\n765it [09:56,  1.28it/s]\u001b[A\n766it [09:57,  1.28it/s]\u001b[A\n767it [09:58,  1.28it/s]\u001b[A\n768it [09:58,  1.28it/s]\u001b[A\n769it [09:59,  1.28it/s]\u001b[A\n770it [10:00,  1.28it/s]\u001b[A\n771it [10:01,  1.28it/s]\u001b[A\n772it [10:02,  1.28it/s]\u001b[A\n773it [10:02,  1.28it/s]\u001b[A\n774it [10:03,  1.28it/s]\u001b[A\n775it [10:04,  1.28it/s]\u001b[A\n776it [10:05,  1.29it/s]\u001b[A\n777it [10:05,  1.29it/s]\u001b[A\n778it [10:06,  1.29it/s]\u001b[A\n779it [10:07,  1.29it/s]\u001b[A\n780it [10:08,  1.29it/s]\u001b[A\n781it [10:09,  1.29it/s]\u001b[A\n782it [10:09,  1.29it/s]\u001b[A\n783it [10:10,  1.28it/s]\u001b[A\n784it [10:11,  1.28it/s]\u001b[A\n785it [10:12,  1.28it/s]\u001b[A\n786it [10:12,  1.28it/s]\u001b[A\n787it [10:13,  1.28it/s]\u001b[A\n788it [10:14,  1.27it/s]\u001b[A\n789it [10:15,  1.28it/s]\u001b[A\n790it [10:16,  1.28it/s]\u001b[A\n791it [10:16,  1.28it/s]\u001b[A\n792it [10:17,  1.28it/s]\u001b[A\n793it [10:18,  1.28it/s]\u001b[A\n794it [10:19,  1.27it/s]\u001b[A\n795it [10:19,  1.28it/s]\u001b[A\n796it [10:20,  1.28it/s]\u001b[A\n797it [10:21,  1.28it/s]\u001b[A\n798it [10:22,  1.28it/s]\u001b[A\n799it [10:23,  1.28it/s]\u001b[A\n800it [10:23,  1.29it/s]\u001b[A\n801it [10:24,  1.28it/s]\u001b[A\n802it [10:25,  1.28it/s]\u001b[A\n803it [10:26,  1.28it/s]\u001b[A\n804it [10:27,  1.28it/s]\u001b[A\n805it [10:27,  1.28it/s]\u001b[A\n806it [10:28,  1.28it/s]\u001b[A\n807it [10:29,  1.28it/s]\u001b[A\n808it [10:30,  1.28it/s]\u001b[A\n809it [10:30,  1.28it/s]\u001b[A\n810it [10:31,  1.27it/s]\u001b[A\n811it [10:32,  1.28it/s]\u001b[A\n812it [10:33,  1.28it/s]\u001b[A\n813it [10:34,  1.28it/s]\u001b[A\n814it [10:34,  1.28it/s]\u001b[A\n815it [10:35,  1.28it/s]\u001b[A\n816it [10:36,  1.28it/s]\u001b[A\n817it [10:37,  1.28it/s]\u001b[A\n818it [10:37,  1.28it/s]\u001b[A\n819it [10:38,  1.28it/s]\u001b[A\n820it [10:39,  1.28it/s]\u001b[A\n821it [10:40,  1.28it/s]\u001b[A\n822it [10:41,  1.28it/s]\u001b[A\n823it [10:41,  1.28it/s]\u001b[A\n824it [10:42,  1.28it/s]\u001b[A\n825it [10:43,  1.29it/s]\u001b[A\n826it [10:44,  1.29it/s]\u001b[A\n827it [10:44,  1.29it/s]\u001b[A\n828it [10:45,  1.28it/s]\u001b[A\n829it [10:46,  1.28it/s]\u001b[A\n830it [10:47,  1.28it/s]\u001b[A\n831it [10:48,  1.28it/s]\u001b[A\n832it [10:48,  1.28it/s]\u001b[A\n833it [10:49,  1.27it/s]\u001b[A\n834it [10:50,  1.27it/s]\u001b[A\n835it [10:51,  1.28it/s]\u001b[A\n836it [10:52,  1.28it/s]\u001b[A\n837it [10:52,  1.28it/s]\u001b[A\n838it [10:53,  1.28it/s]\u001b[A\n839it [10:54,  1.28it/s]\u001b[A\n840it [10:55,  1.28it/s]\u001b[A\n841it [10:55,  1.28it/s]\u001b[A\n842it [10:56,  1.28it/s]\u001b[A\n843it [10:57,  1.28it/s]\u001b[A\n844it [10:58,  1.28it/s]\u001b[A\n845it [10:59,  1.28it/s]\u001b[A\n846it [10:59,  1.28it/s]\u001b[A\n847it [11:00,  1.27it/s]\u001b[A\n848it [11:01,  1.28it/s]\u001b[A\n849it [11:02,  1.28it/s]\u001b[A\n850it [11:02,  1.28it/s]\u001b[A\n851it [11:03,  1.29it/s]\u001b[A\n852it [11:04,  1.29it/s]\u001b[A\n853it [11:05,  1.29it/s]\u001b[A\n854it [11:06,  1.28it/s]\u001b[A\n855it [11:06,  1.28it/s]\u001b[A\n856it [11:07,  1.28it/s]\u001b[A\n857it [11:08,  1.28it/s]\u001b[A\n858it [11:09,  1.28it/s]\u001b[A\n859it [11:09,  1.28it/s]\u001b[A\n 33%|███▎      | 1/3 [11:11<22:23, 671.74s/it]",
          "output_type": "stream"
        },
        {
          "name": "stdout",
          "text": "Checkpoint saved at epoch 1\n",
          "output_type": "stream"
        },
        {
          "name": "stderr",
          "text": "\n0it [00:00, ?it/s]\u001b[A",
          "output_type": "stream"
        },
        {
          "name": "stdout",
          "text": "Epoch: 1, Loss: 0.6142678260803223\n",
          "output_type": "stream"
        },
        {
          "name": "stderr",
          "text": "\n1it [00:00,  1.29it/s]\u001b[A\n2it [00:01,  1.28it/s]\u001b[A\n3it [00:02,  1.28it/s]\u001b[A\n4it [00:03,  1.28it/s]\u001b[A\n5it [00:03,  1.29it/s]\u001b[A\n6it [00:04,  1.29it/s]\u001b[A\n7it [00:05,  1.28it/s]\u001b[A\n8it [00:06,  1.29it/s]\u001b[A\n9it [00:07,  1.28it/s]\u001b[A\n10it [00:07,  1.28it/s]\u001b[A\n11it [00:08,  1.27it/s]\u001b[A\n12it [00:09,  1.27it/s]\u001b[A\n13it [00:10,  1.27it/s]\u001b[A\n14it [00:10,  1.27it/s]\u001b[A\n15it [00:11,  1.27it/s]\u001b[A\n16it [00:12,  1.27it/s]\u001b[A\n17it [00:13,  1.27it/s]\u001b[A\n18it [00:14,  1.27it/s]\u001b[A\n19it [00:14,  1.27it/s]\u001b[A\n20it [00:15,  1.27it/s]\u001b[A\n21it [00:16,  1.28it/s]\u001b[A\n22it [00:17,  1.28it/s]\u001b[A\n23it [00:18,  1.28it/s]\u001b[A\n24it [00:18,  1.28it/s]\u001b[A\n25it [00:19,  1.28it/s]\u001b[A\n26it [00:20,  1.29it/s]\u001b[A\n27it [00:21,  1.28it/s]\u001b[A\n28it [00:21,  1.28it/s]\u001b[A\n29it [00:22,  1.28it/s]\u001b[A\n30it [00:23,  1.28it/s]\u001b[A\n31it [00:24,  1.28it/s]\u001b[A\n32it [00:25,  1.28it/s]\u001b[A\n33it [00:25,  1.28it/s]\u001b[A\n34it [00:26,  1.28it/s]\u001b[A\n35it [00:27,  1.28it/s]\u001b[A\n36it [00:28,  1.28it/s]\u001b[A\n37it [00:28,  1.28it/s]\u001b[A\n38it [00:29,  1.28it/s]\u001b[A\n39it [00:30,  1.28it/s]\u001b[A\n40it [00:31,  1.27it/s]\u001b[A\n41it [00:32,  1.27it/s]\u001b[A\n42it [00:32,  1.28it/s]\u001b[A\n43it [00:33,  1.27it/s]\u001b[A\n44it [00:34,  1.28it/s]\u001b[A\n45it [00:35,  1.28it/s]\u001b[A\n46it [00:36,  1.28it/s]\u001b[A\n47it [00:36,  1.27it/s]\u001b[A\n48it [00:37,  1.28it/s]\u001b[A\n49it [00:38,  1.28it/s]\u001b[A\n50it [00:39,  1.27it/s]\u001b[A\n51it [00:39,  1.27it/s]\u001b[A\n52it [00:40,  1.27it/s]\u001b[A\n53it [00:41,  1.27it/s]\u001b[A\n54it [00:42,  1.27it/s]\u001b[A\n55it [00:43,  1.27it/s]\u001b[A\n56it [00:43,  1.27it/s]\u001b[A\n57it [00:44,  1.27it/s]\u001b[A\n58it [00:45,  1.28it/s]\u001b[A\n59it [00:46,  1.27it/s]\u001b[A\n60it [00:46,  1.28it/s]\u001b[A\n61it [00:47,  1.28it/s]\u001b[A\n62it [00:48,  1.28it/s]\u001b[A\n63it [00:49,  1.28it/s]\u001b[A\n64it [00:50,  1.28it/s]\u001b[A\n65it [00:50,  1.28it/s]\u001b[A\n66it [00:51,  1.28it/s]\u001b[A\n67it [00:52,  1.28it/s]\u001b[A\n68it [00:53,  1.27it/s]\u001b[A\n69it [00:54,  1.28it/s]\u001b[A\n70it [00:54,  1.28it/s]\u001b[A\n71it [00:55,  1.28it/s]\u001b[A\n72it [00:56,  1.28it/s]\u001b[A\n73it [00:57,  1.28it/s]\u001b[A\n74it [00:57,  1.28it/s]\u001b[A\n75it [00:58,  1.28it/s]\u001b[A\n76it [00:59,  1.28it/s]\u001b[A\n77it [01:00,  1.28it/s]\u001b[A\n78it [01:01,  1.27it/s]\u001b[A\n79it [01:01,  1.28it/s]\u001b[A\n80it [01:02,  1.27it/s]\u001b[A\n81it [01:03,  1.27it/s]\u001b[A\n82it [01:04,  1.27it/s]\u001b[A\n83it [01:05,  1.27it/s]\u001b[A\n84it [01:05,  1.28it/s]\u001b[A\n85it [01:06,  1.28it/s]\u001b[A\n86it [01:07,  1.28it/s]\u001b[A\n87it [01:08,  1.28it/s]\u001b[A\n88it [01:08,  1.28it/s]\u001b[A\n89it [01:09,  1.28it/s]\u001b[A\n90it [01:10,  1.28it/s]\u001b[A\n91it [01:11,  1.28it/s]\u001b[A\n92it [01:12,  1.28it/s]\u001b[A\n93it [01:12,  1.28it/s]\u001b[A\n94it [01:13,  1.28it/s]\u001b[A\n95it [01:14,  1.28it/s]\u001b[A\n96it [01:15,  1.28it/s]\u001b[A\n97it [01:15,  1.28it/s]\u001b[A\n98it [01:16,  1.28it/s]\u001b[A\n99it [01:17,  1.28it/s]\u001b[A\n100it [01:18,  1.28it/s]\u001b[A\n101it [01:19,  1.28it/s]\u001b[A\n102it [01:19,  1.28it/s]\u001b[A\n103it [01:20,  1.28it/s]\u001b[A\n104it [01:21,  1.28it/s]\u001b[A\n105it [01:22,  1.28it/s]\u001b[A\n106it [01:22,  1.28it/s]\u001b[A\n107it [01:23,  1.28it/s]\u001b[A\n108it [01:24,  1.27it/s]\u001b[A\n109it [01:25,  1.28it/s]\u001b[A\n110it [01:26,  1.27it/s]\u001b[A\n111it [01:26,  1.28it/s]\u001b[A\n112it [01:27,  1.28it/s]\u001b[A\n113it [01:28,  1.28it/s]\u001b[A\n114it [01:29,  1.28it/s]\u001b[A\n115it [01:30,  1.28it/s]\u001b[A\n116it [01:30,  1.28it/s]\u001b[A\n117it [01:31,  1.27it/s]\u001b[A\n118it [01:32,  1.27it/s]\u001b[A\n119it [01:33,  1.27it/s]\u001b[A\n120it [01:33,  1.28it/s]\u001b[A\n121it [01:34,  1.28it/s]\u001b[A\n122it [01:35,  1.28it/s]\u001b[A\n123it [01:36,  1.28it/s]\u001b[A\n124it [01:37,  1.28it/s]\u001b[A\n125it [01:37,  1.28it/s]\u001b[A\n126it [01:38,  1.28it/s]\u001b[A\n127it [01:39,  1.28it/s]\u001b[A\n128it [01:40,  1.28it/s]\u001b[A\n129it [01:40,  1.28it/s]\u001b[A\n130it [01:41,  1.28it/s]\u001b[A\n131it [01:42,  1.28it/s]\u001b[A\n132it [01:43,  1.28it/s]\u001b[A\n133it [01:44,  1.28it/s]\u001b[A\n134it [01:44,  1.28it/s]\u001b[A\n135it [01:45,  1.28it/s]\u001b[A\n136it [01:46,  1.28it/s]\u001b[A\n137it [01:47,  1.28it/s]\u001b[A\n138it [01:48,  1.28it/s]\u001b[A\n139it [01:48,  1.28it/s]\u001b[A\n140it [01:49,  1.28it/s]\u001b[A\n141it [01:50,  1.28it/s]\u001b[A\n142it [01:51,  1.28it/s]\u001b[A\n143it [01:51,  1.28it/s]\u001b[A\n144it [01:52,  1.28it/s]\u001b[A\n145it [01:53,  1.28it/s]\u001b[A\n146it [01:54,  1.28it/s]\u001b[A\n147it [01:55,  1.28it/s]\u001b[A\n148it [01:55,  1.28it/s]\u001b[A\n149it [01:56,  1.28it/s]\u001b[A\n150it [01:57,  1.28it/s]\u001b[A\n151it [01:58,  1.28it/s]\u001b[A\n152it [01:58,  1.28it/s]\u001b[A\n153it [01:59,  1.28it/s]\u001b[A\n154it [02:00,  1.28it/s]\u001b[A\n155it [02:01,  1.28it/s]\u001b[A\n156it [02:02,  1.28it/s]\u001b[A\n157it [02:02,  1.28it/s]\u001b[A\n158it [02:03,  1.28it/s]\u001b[A\n159it [02:04,  1.28it/s]\u001b[A\n160it [02:05,  1.28it/s]\u001b[A\n161it [02:05,  1.28it/s]\u001b[A\n162it [02:06,  1.28it/s]\u001b[A\n163it [02:07,  1.28it/s]\u001b[A\n164it [02:08,  1.28it/s]\u001b[A\n165it [02:09,  1.28it/s]\u001b[A\n166it [02:09,  1.29it/s]\u001b[A\n167it [02:10,  1.28it/s]\u001b[A\n168it [02:11,  1.28it/s]\u001b[A\n169it [02:12,  1.28it/s]\u001b[A\n170it [02:13,  1.28it/s]\u001b[A\n171it [02:13,  1.28it/s]\u001b[A\n172it [02:14,  1.28it/s]\u001b[A\n173it [02:15,  1.29it/s]\u001b[A\n174it [02:16,  1.28it/s]\u001b[A\n175it [02:16,  1.28it/s]\u001b[A\n176it [02:17,  1.28it/s]\u001b[A\n177it [02:18,  1.28it/s]\u001b[A\n178it [02:19,  1.28it/s]\u001b[A\n179it [02:20,  1.28it/s]\u001b[A\n180it [02:20,  1.28it/s]\u001b[A\n181it [02:21,  1.28it/s]\u001b[A\n182it [02:22,  1.28it/s]\u001b[A\n183it [02:23,  1.28it/s]\u001b[A\n184it [02:23,  1.28it/s]\u001b[A\n185it [02:24,  1.28it/s]\u001b[A\n186it [02:25,  1.28it/s]\u001b[A\n187it [02:26,  1.28it/s]\u001b[A\n188it [02:27,  1.28it/s]\u001b[A\n189it [02:27,  1.28it/s]\u001b[A\n190it [02:28,  1.28it/s]\u001b[A\n191it [02:29,  1.28it/s]\u001b[A\n192it [02:30,  1.28it/s]\u001b[A\n193it [02:30,  1.28it/s]\u001b[A\n194it [02:31,  1.28it/s]\u001b[A\n195it [02:32,  1.27it/s]\u001b[A\n196it [02:33,  1.27it/s]\u001b[A\n197it [02:34,  1.28it/s]\u001b[A\n198it [02:34,  1.27it/s]\u001b[A\n199it [02:35,  1.28it/s]\u001b[A\n200it [02:36,  1.28it/s]\u001b[A\n201it [02:37,  1.28it/s]\u001b[A\n202it [02:38,  1.27it/s]\u001b[A\n203it [02:38,  1.27it/s]\u001b[A\n204it [02:39,  1.27it/s]\u001b[A\n205it [02:40,  1.28it/s]\u001b[A\n206it [02:41,  1.28it/s]\u001b[A\n207it [02:41,  1.28it/s]\u001b[A\n208it [02:42,  1.28it/s]\u001b[A\n209it [02:43,  1.28it/s]\u001b[A\n210it [02:44,  1.28it/s]\u001b[A\n211it [02:45,  1.28it/s]\u001b[A\n212it [02:45,  1.28it/s]\u001b[A\n213it [02:46,  1.28it/s]\u001b[A\n214it [02:47,  1.28it/s]\u001b[A\n215it [02:48,  1.28it/s]\u001b[A\n216it [02:48,  1.28it/s]\u001b[A\n217it [02:49,  1.28it/s]\u001b[A\n218it [02:50,  1.28it/s]\u001b[A\n219it [02:51,  1.28it/s]\u001b[A\n220it [02:52,  1.28it/s]\u001b[A\n221it [02:52,  1.28it/s]\u001b[A\n222it [02:53,  1.28it/s]\u001b[A\n223it [02:54,  1.27it/s]\u001b[A\n224it [02:55,  1.27it/s]\u001b[A\n225it [02:56,  1.27it/s]\u001b[A\n226it [02:56,  1.27it/s]\u001b[A\n227it [02:57,  1.28it/s]\u001b[A\n228it [02:58,  1.27it/s]\u001b[A\n229it [02:59,  1.28it/s]\u001b[A\n230it [02:59,  1.28it/s]\u001b[A\n231it [03:00,  1.28it/s]\u001b[A\n232it [03:01,  1.28it/s]\u001b[A\n233it [03:02,  1.28it/s]\u001b[A\n234it [03:03,  1.28it/s]\u001b[A\n235it [03:03,  1.28it/s]\u001b[A\n236it [03:04,  1.28it/s]\u001b[A\n237it [03:05,  1.28it/s]\u001b[A\n238it [03:06,  1.28it/s]\u001b[A\n239it [03:06,  1.28it/s]\u001b[A\n240it [03:07,  1.28it/s]\u001b[A\n241it [03:08,  1.28it/s]\u001b[A\n242it [03:09,  1.27it/s]\u001b[A\n243it [03:10,  1.27it/s]\u001b[A\n244it [03:10,  1.28it/s]\u001b[A\n245it [03:11,  1.28it/s]\u001b[A\n246it [03:12,  1.28it/s]\u001b[A\n247it [03:13,  1.27it/s]\u001b[A\n248it [03:14,  1.27it/s]\u001b[A\n249it [03:14,  1.27it/s]\u001b[A\n250it [03:15,  1.27it/s]\u001b[A\n251it [03:16,  1.27it/s]\u001b[A\n252it [03:17,  1.28it/s]\u001b[A\n253it [03:17,  1.27it/s]\u001b[A\n254it [03:18,  1.27it/s]\u001b[A\n255it [03:19,  1.27it/s]\u001b[A\n256it [03:20,  1.27it/s]\u001b[A\n257it [03:21,  1.27it/s]\u001b[A\n258it [03:21,  1.27it/s]\u001b[A\n259it [03:22,  1.27it/s]\u001b[A\n260it [03:23,  1.27it/s]\u001b[A\n261it [03:24,  1.27it/s]\u001b[A\n262it [03:25,  1.27it/s]\u001b[A\n263it [03:25,  1.27it/s]\u001b[A\n264it [03:26,  1.27it/s]\u001b[A\n265it [03:27,  1.27it/s]\u001b[A\n266it [03:28,  1.27it/s]\u001b[A\n267it [03:29,  1.27it/s]\u001b[A\n268it [03:29,  1.28it/s]\u001b[A\n269it [03:30,  1.28it/s]\u001b[A\n270it [03:31,  1.28it/s]\u001b[A\n271it [03:32,  1.27it/s]\u001b[A\n272it [03:32,  1.28it/s]\u001b[A\n273it [03:33,  1.28it/s]\u001b[A\n274it [03:34,  1.28it/s]\u001b[A\n275it [03:35,  1.28it/s]\u001b[A\n276it [03:36,  1.28it/s]\u001b[A\n277it [03:36,  1.28it/s]\u001b[A\n278it [03:37,  1.28it/s]\u001b[A\n279it [03:38,  1.28it/s]\u001b[A\n280it [03:39,  1.28it/s]\u001b[A\n281it [03:39,  1.28it/s]\u001b[A\n282it [03:40,  1.28it/s]\u001b[A\n283it [03:41,  1.28it/s]\u001b[A\n284it [03:42,  1.28it/s]\u001b[A\n285it [03:43,  1.28it/s]\u001b[A\n286it [03:43,  1.28it/s]\u001b[A\n287it [03:44,  1.28it/s]\u001b[A\n288it [03:45,  1.28it/s]\u001b[A\n289it [03:46,  1.28it/s]\u001b[A\n290it [03:46,  1.28it/s]\u001b[A\n291it [03:47,  1.28it/s]\u001b[A\n292it [03:48,  1.28it/s]\u001b[A\n293it [03:49,  1.28it/s]\u001b[A\n294it [03:50,  1.28it/s]\u001b[A\n295it [03:50,  1.28it/s]\u001b[A\n296it [03:51,  1.28it/s]\u001b[A\n297it [03:52,  1.28it/s]\u001b[A\n298it [03:53,  1.27it/s]\u001b[A\n299it [03:54,  1.28it/s]\u001b[A\n300it [03:54,  1.28it/s]\u001b[A\n301it [03:55,  1.28it/s]\u001b[A\n302it [03:56,  1.28it/s]\u001b[A\n303it [03:57,  1.28it/s]\u001b[A\n304it [03:57,  1.28it/s]\u001b[A\n305it [03:58,  1.28it/s]\u001b[A\n306it [03:59,  1.28it/s]\u001b[A\n307it [04:00,  1.28it/s]\u001b[A\n308it [04:01,  1.27it/s]\u001b[A\n309it [04:01,  1.28it/s]\u001b[A\n310it [04:02,  1.28it/s]\u001b[A\n311it [04:03,  1.27it/s]\u001b[A\n312it [04:04,  1.27it/s]\u001b[A\n313it [04:04,  1.28it/s]\u001b[A\n314it [04:05,  1.28it/s]\u001b[A\n315it [04:06,  1.28it/s]\u001b[A\n316it [04:07,  1.28it/s]\u001b[A\n317it [04:08,  1.28it/s]\u001b[A\n318it [04:08,  1.28it/s]\u001b[A\n319it [04:09,  1.28it/s]\u001b[A\n320it [04:10,  1.28it/s]\u001b[A\n321it [04:11,  1.28it/s]\u001b[A\n322it [04:12,  1.28it/s]\u001b[A\n323it [04:12,  1.28it/s]\u001b[A\n324it [04:13,  1.29it/s]\u001b[A\n325it [04:14,  1.28it/s]\u001b[A\n326it [04:15,  1.28it/s]\u001b[A\n327it [04:15,  1.28it/s]\u001b[A\n328it [04:16,  1.28it/s]\u001b[A\n329it [04:17,  1.28it/s]\u001b[A\n330it [04:18,  1.28it/s]\u001b[A\n331it [04:19,  1.27it/s]\u001b[A\n332it [04:19,  1.27it/s]\u001b[A\n333it [04:20,  1.28it/s]\u001b[A\n334it [04:21,  1.28it/s]\u001b[A\n335it [04:22,  1.28it/s]\u001b[A\n336it [04:22,  1.28it/s]\u001b[A\n337it [04:23,  1.28it/s]\u001b[A\n338it [04:24,  1.28it/s]\u001b[A\n339it [04:25,  1.28it/s]\u001b[A\n340it [04:26,  1.28it/s]\u001b[A\n341it [04:26,  1.27it/s]\u001b[A\n342it [04:27,  1.27it/s]\u001b[A\n343it [04:28,  1.28it/s]\u001b[A\n344it [04:29,  1.28it/s]\u001b[A\n345it [04:30,  1.28it/s]\u001b[A\n346it [04:30,  1.28it/s]\u001b[A\n347it [04:31,  1.28it/s]\u001b[A\n348it [04:32,  1.28it/s]\u001b[A\n349it [04:33,  1.27it/s]\u001b[A\n350it [04:33,  1.28it/s]\u001b[A\n351it [04:34,  1.28it/s]\u001b[A\n352it [04:35,  1.28it/s]\u001b[A\n353it [04:36,  1.28it/s]\u001b[A\n354it [04:37,  1.28it/s]\u001b[A\n355it [04:37,  1.28it/s]\u001b[A\n356it [04:38,  1.28it/s]\u001b[A\n357it [04:39,  1.28it/s]\u001b[A\n358it [04:40,  1.28it/s]\u001b[A\n359it [04:40,  1.28it/s]\u001b[A\n360it [04:41,  1.28it/s]\u001b[A\n361it [04:42,  1.28it/s]\u001b[A\n362it [04:43,  1.28it/s]\u001b[A\n363it [04:44,  1.28it/s]\u001b[A\n364it [04:44,  1.28it/s]\u001b[A\n365it [04:45,  1.28it/s]\u001b[A\n366it [04:46,  1.28it/s]\u001b[A\n367it [04:47,  1.28it/s]\u001b[A\n368it [04:47,  1.28it/s]\u001b[A\n369it [04:48,  1.28it/s]\u001b[A\n370it [04:49,  1.28it/s]\u001b[A\n371it [04:50,  1.28it/s]\u001b[A\n372it [04:51,  1.28it/s]\u001b[A\n373it [04:51,  1.28it/s]\u001b[A\n374it [04:52,  1.28it/s]\u001b[A\n375it [04:53,  1.28it/s]\u001b[A\n376it [04:54,  1.28it/s]\u001b[A\n377it [04:55,  1.28it/s]\u001b[A\n378it [04:55,  1.28it/s]\u001b[A\n379it [04:56,  1.28it/s]\u001b[A\n380it [04:57,  1.28it/s]\u001b[A\n381it [04:58,  1.28it/s]\u001b[A\n382it [04:58,  1.28it/s]\u001b[A\n383it [04:59,  1.28it/s]\u001b[A\n384it [05:00,  1.28it/s]\u001b[A\n385it [05:01,  1.28it/s]\u001b[A\n386it [05:02,  1.28it/s]\u001b[A\n387it [05:02,  1.28it/s]\u001b[A\n388it [05:03,  1.28it/s]\u001b[A\n389it [05:04,  1.28it/s]\u001b[A\n390it [05:05,  1.28it/s]\u001b[A\n391it [05:05,  1.28it/s]\u001b[A\n392it [05:06,  1.28it/s]\u001b[A\n393it [05:07,  1.28it/s]\u001b[A\n394it [05:08,  1.28it/s]\u001b[A\n395it [05:09,  1.28it/s]\u001b[A\n396it [05:09,  1.28it/s]\u001b[A\n397it [05:10,  1.28it/s]\u001b[A\n398it [05:11,  1.28it/s]\u001b[A\n399it [05:12,  1.28it/s]\u001b[A\n400it [05:13,  1.28it/s]\u001b[A\n401it [05:13,  1.27it/s]\u001b[A\n402it [05:14,  1.27it/s]\u001b[A\n403it [05:15,  1.27it/s]\u001b[A\n404it [05:16,  1.27it/s]\u001b[A\n405it [05:16,  1.28it/s]\u001b[A\n406it [05:17,  1.28it/s]\u001b[A\n407it [05:18,  1.28it/s]\u001b[A\n408it [05:19,  1.28it/s]\u001b[A\n409it [05:20,  1.28it/s]\u001b[A\n410it [05:20,  1.28it/s]\u001b[A\n411it [05:21,  1.28it/s]\u001b[A\n412it [05:22,  1.28it/s]\u001b[A\n413it [05:23,  1.28it/s]\u001b[A\n414it [05:23,  1.27it/s]\u001b[A\n415it [05:24,  1.28it/s]\u001b[A\n416it [05:25,  1.28it/s]\u001b[A\n417it [05:26,  1.28it/s]\u001b[A\n418it [05:27,  1.28it/s]\u001b[A\n419it [05:27,  1.28it/s]\u001b[A\n420it [05:28,  1.28it/s]\u001b[A\n421it [05:29,  1.28it/s]\u001b[A\n422it [05:30,  1.28it/s]\u001b[A\n423it [05:31,  1.28it/s]\u001b[A\n424it [05:31,  1.28it/s]\u001b[A\n425it [05:32,  1.28it/s]\u001b[A\n426it [05:33,  1.28it/s]\u001b[A\n427it [05:34,  1.27it/s]\u001b[A\n428it [05:34,  1.28it/s]\u001b[A\n429it [05:35,  1.27it/s]\u001b[A\n430it [05:36,  1.28it/s]\u001b[A\n431it [05:37,  1.28it/s]\u001b[A\n432it [05:38,  1.28it/s]\u001b[A\n433it [05:38,  1.28it/s]\u001b[A\n434it [05:39,  1.29it/s]\u001b[A\n435it [05:40,  1.28it/s]\u001b[A\n436it [05:41,  1.28it/s]\u001b[A\n437it [05:41,  1.28it/s]\u001b[A\n438it [05:42,  1.28it/s]\u001b[A\n439it [05:43,  1.28it/s]\u001b[A\n440it [05:44,  1.28it/s]\u001b[A\n441it [05:45,  1.28it/s]\u001b[A\n442it [05:45,  1.28it/s]\u001b[A\n443it [05:46,  1.28it/s]\u001b[A\n444it [05:47,  1.28it/s]\u001b[A\n445it [05:48,  1.28it/s]\u001b[A\n446it [05:48,  1.28it/s]\u001b[A\n447it [05:49,  1.28it/s]\u001b[A\n448it [05:50,  1.28it/s]\u001b[A\n449it [05:51,  1.28it/s]\u001b[A\n450it [05:52,  1.28it/s]\u001b[A\n451it [05:52,  1.28it/s]\u001b[A\n452it [05:53,  1.28it/s]\u001b[A\n453it [05:54,  1.28it/s]\u001b[A\n454it [05:55,  1.28it/s]\u001b[A\n455it [05:56,  1.28it/s]\u001b[A\n456it [05:56,  1.28it/s]\u001b[A\n457it [05:57,  1.28it/s]\u001b[A\n458it [05:58,  1.28it/s]\u001b[A\n459it [05:59,  1.28it/s]\u001b[A\n460it [05:59,  1.29it/s]\u001b[A\n461it [06:00,  1.28it/s]\u001b[A\n462it [06:01,  1.28it/s]\u001b[A\n463it [06:02,  1.28it/s]\u001b[A\n464it [06:03,  1.28it/s]\u001b[A\n465it [06:03,  1.27it/s]\u001b[A\n466it [06:04,  1.28it/s]\u001b[A\n467it [06:05,  1.28it/s]\u001b[A\n468it [06:06,  1.28it/s]\u001b[A\n469it [06:06,  1.28it/s]\u001b[A\n470it [06:07,  1.28it/s]\u001b[A\n471it [06:08,  1.28it/s]\u001b[A\n472it [06:09,  1.28it/s]\u001b[A\n473it [06:10,  1.28it/s]\u001b[A\n474it [06:10,  1.28it/s]\u001b[A\n475it [06:11,  1.28it/s]\u001b[A\n476it [06:12,  1.28it/s]\u001b[A\n477it [06:13,  1.28it/s]\u001b[A\n478it [06:13,  1.28it/s]\u001b[A\n479it [06:14,  1.28it/s]\u001b[A\n480it [06:15,  1.28it/s]\u001b[A\n481it [06:16,  1.28it/s]\u001b[A\n482it [06:17,  1.28it/s]\u001b[A\n483it [06:17,  1.28it/s]\u001b[A\n484it [06:18,  1.28it/s]\u001b[A\n485it [06:19,  1.28it/s]\u001b[A\n486it [06:20,  1.28it/s]\u001b[A\n487it [06:21,  1.28it/s]\u001b[A\n488it [06:21,  1.28it/s]\u001b[A\n489it [06:22,  1.28it/s]\u001b[A\n490it [06:23,  1.28it/s]\u001b[A\n491it [06:24,  1.28it/s]\u001b[A\n492it [06:24,  1.28it/s]\u001b[A\n493it [06:25,  1.28it/s]\u001b[A\n494it [06:26,  1.28it/s]\u001b[A\n495it [06:27,  1.28it/s]\u001b[A\n496it [06:28,  1.28it/s]\u001b[A\n497it [06:28,  1.27it/s]\u001b[A\n498it [06:29,  1.27it/s]\u001b[A\n499it [06:30,  1.28it/s]\u001b[A\n500it [06:31,  1.28it/s]\u001b[A\n501it [06:31,  1.28it/s]\u001b[A\n502it [06:32,  1.28it/s]\u001b[A\n503it [06:33,  1.28it/s]\u001b[A\n504it [06:34,  1.28it/s]\u001b[A\n505it [06:35,  1.28it/s]\u001b[A\n506it [06:35,  1.28it/s]\u001b[A\n507it [06:36,  1.28it/s]\u001b[A\n508it [06:37,  1.29it/s]\u001b[A\n509it [06:38,  1.28it/s]\u001b[A\n510it [06:38,  1.29it/s]\u001b[A\n511it [06:39,  1.29it/s]\u001b[A\n512it [06:40,  1.29it/s]\u001b[A\n513it [06:41,  1.28it/s]\u001b[A\n514it [06:42,  1.28it/s]\u001b[A\n515it [06:42,  1.28it/s]\u001b[A\n516it [06:43,  1.28it/s]\u001b[A\n517it [06:44,  1.28it/s]\u001b[A\n518it [06:45,  1.28it/s]\u001b[A\n519it [06:46,  1.28it/s]\u001b[A\n520it [06:46,  1.28it/s]\u001b[A\n521it [06:47,  1.28it/s]\u001b[A\n522it [06:48,  1.28it/s]\u001b[A\n523it [06:49,  1.28it/s]\u001b[A\n524it [06:49,  1.28it/s]\u001b[A\n525it [06:50,  1.28it/s]\u001b[A\n526it [06:51,  1.28it/s]\u001b[A\n527it [06:52,  1.28it/s]\u001b[A\n528it [06:53,  1.28it/s]\u001b[A\n529it [06:53,  1.28it/s]\u001b[A\n530it [06:54,  1.28it/s]\u001b[A\n531it [06:55,  1.27it/s]\u001b[A\n532it [06:56,  1.27it/s]\u001b[A\n533it [06:56,  1.28it/s]\u001b[A\n534it [06:57,  1.27it/s]\u001b[A\n535it [06:58,  1.28it/s]\u001b[A\n536it [06:59,  1.28it/s]\u001b[A\n537it [07:00,  1.28it/s]\u001b[A\n538it [07:00,  1.28it/s]\u001b[A\n539it [07:01,  1.28it/s]\u001b[A\n540it [07:02,  1.28it/s]\u001b[A\n541it [07:03,  1.28it/s]\u001b[A\n542it [07:04,  1.28it/s]\u001b[A\n543it [07:04,  1.28it/s]\u001b[A\n544it [07:05,  1.28it/s]\u001b[A\n545it [07:06,  1.28it/s]\u001b[A\n546it [07:07,  1.28it/s]\u001b[A\n547it [07:07,  1.28it/s]\u001b[A\n548it [07:08,  1.29it/s]\u001b[A\n549it [07:09,  1.28it/s]\u001b[A\n550it [07:10,  1.28it/s]\u001b[A\n551it [07:11,  1.28it/s]\u001b[A\n552it [07:11,  1.28it/s]\u001b[A\n553it [07:12,  1.28it/s]\u001b[A\n554it [07:13,  1.28it/s]\u001b[A\n555it [07:14,  1.28it/s]\u001b[A\n556it [07:14,  1.28it/s]\u001b[A\n557it [07:15,  1.28it/s]\u001b[A\n558it [07:16,  1.28it/s]\u001b[A\n559it [07:17,  1.27it/s]\u001b[A\n560it [07:18,  1.27it/s]\u001b[A\n561it [07:18,  1.27it/s]\u001b[A\n562it [07:19,  1.28it/s]\u001b[A\n563it [07:20,  1.28it/s]\u001b[A\n564it [07:21,  1.28it/s]\u001b[A\n565it [07:22,  1.28it/s]\u001b[A\n566it [07:22,  1.28it/s]\u001b[A\n567it [07:23,  1.28it/s]\u001b[A\n568it [07:24,  1.28it/s]\u001b[A\n569it [07:25,  1.28it/s]\u001b[A\n570it [07:25,  1.27it/s]\u001b[A\n571it [07:26,  1.28it/s]\u001b[A\n572it [07:27,  1.28it/s]\u001b[A\n573it [07:28,  1.28it/s]\u001b[A\n574it [07:29,  1.28it/s]\u001b[A\n575it [07:29,  1.28it/s]\u001b[A\n576it [07:30,  1.28it/s]\u001b[A\n577it [07:31,  1.28it/s]\u001b[A\n578it [07:32,  1.29it/s]\u001b[A\n579it [07:32,  1.28it/s]\u001b[A\n580it [07:33,  1.29it/s]\u001b[A\n581it [07:34,  1.29it/s]\u001b[A\n582it [07:35,  1.28it/s]\u001b[A\n583it [07:36,  1.28it/s]\u001b[A\n584it [07:36,  1.28it/s]\u001b[A\n585it [07:37,  1.28it/s]\u001b[A\n586it [07:38,  1.28it/s]\u001b[A\n587it [07:39,  1.28it/s]\u001b[A\n588it [07:40,  1.28it/s]\u001b[A\n589it [07:40,  1.27it/s]\u001b[A\n590it [07:41,  1.28it/s]\u001b[A\n591it [07:42,  1.28it/s]\u001b[A\n592it [07:43,  1.28it/s]\u001b[A\n593it [07:43,  1.28it/s]\u001b[A\n594it [07:44,  1.28it/s]\u001b[A\n595it [07:45,  1.28it/s]\u001b[A\n596it [07:46,  1.28it/s]\u001b[A\n597it [07:47,  1.28it/s]\u001b[A\n598it [07:47,  1.28it/s]\u001b[A\n599it [07:48,  1.28it/s]\u001b[A\n600it [07:49,  1.28it/s]\u001b[A\n601it [07:50,  1.27it/s]\u001b[A\n602it [07:50,  1.28it/s]\u001b[A\n603it [07:51,  1.28it/s]\u001b[A\n604it [07:52,  1.28it/s]\u001b[A\n605it [07:53,  1.28it/s]\u001b[A\n606it [07:54,  1.28it/s]\u001b[A\n607it [07:54,  1.29it/s]\u001b[A\n608it [07:55,  1.29it/s]\u001b[A\n609it [07:56,  1.28it/s]\u001b[A\n610it [07:57,  1.28it/s]\u001b[A\n611it [07:57,  1.28it/s]\u001b[A\n612it [07:58,  1.28it/s]\u001b[A\n613it [07:59,  1.28it/s]\u001b[A\n614it [08:00,  1.28it/s]\u001b[A\n615it [08:01,  1.28it/s]\u001b[A\n616it [08:01,  1.27it/s]\u001b[A\n617it [08:02,  1.28it/s]\u001b[A\n618it [08:03,  1.28it/s]\u001b[A\n619it [08:04,  1.28it/s]\u001b[A\n620it [08:05,  1.28it/s]\u001b[A\n621it [08:05,  1.28it/s]\u001b[A\n622it [08:06,  1.27it/s]\u001b[A\n623it [08:07,  1.27it/s]\u001b[A\n624it [08:08,  1.27it/s]\u001b[A\n625it [08:08,  1.27it/s]\u001b[A\n626it [08:09,  1.27it/s]\u001b[A\n627it [08:10,  1.27it/s]\u001b[A\n628it [08:11,  1.27it/s]\u001b[A\n629it [08:12,  1.27it/s]\u001b[A\n630it [08:12,  1.27it/s]\u001b[A\n631it [08:13,  1.28it/s]\u001b[A\n632it [08:14,  1.28it/s]\u001b[A\n633it [08:15,  1.28it/s]\u001b[A\n634it [08:16,  1.27it/s]\u001b[A\n635it [08:16,  1.28it/s]\u001b[A\n636it [08:17,  1.28it/s]\u001b[A\n637it [08:18,  1.28it/s]\u001b[A\n638it [08:19,  1.29it/s]\u001b[A\n639it [08:19,  1.29it/s]\u001b[A\n640it [08:20,  1.28it/s]\u001b[A\n641it [08:21,  1.28it/s]\u001b[A\n642it [08:22,  1.28it/s]\u001b[A\n643it [08:23,  1.28it/s]\u001b[A\n644it [08:23,  1.28it/s]\u001b[A\n645it [08:24,  1.28it/s]\u001b[A\n646it [08:25,  1.28it/s]\u001b[A\n647it [08:26,  1.27it/s]\u001b[A\n648it [08:26,  1.27it/s]\u001b[A\n649it [08:27,  1.27it/s]\u001b[A\n650it [08:28,  1.28it/s]\u001b[A\n651it [08:29,  1.28it/s]\u001b[A\n652it [08:30,  1.28it/s]\u001b[A\n653it [08:30,  1.28it/s]\u001b[A\n654it [08:31,  1.28it/s]\u001b[A\n655it [08:32,  1.28it/s]\u001b[A\n656it [08:33,  1.28it/s]\u001b[A\n657it [08:33,  1.28it/s]\u001b[A\n658it [08:34,  1.28it/s]\u001b[A\n659it [08:35,  1.28it/s]\u001b[A\n660it [08:36,  1.28it/s]\u001b[A\n661it [08:37,  1.28it/s]\u001b[A\n662it [08:37,  1.28it/s]\u001b[A\n663it [08:38,  1.28it/s]\u001b[A\n664it [08:39,  1.28it/s]\u001b[A\n665it [08:40,  1.28it/s]\u001b[A\n666it [08:40,  1.29it/s]\u001b[A\n667it [08:41,  1.28it/s]\u001b[A\n668it [08:42,  1.28it/s]\u001b[A\n669it [08:43,  1.28it/s]\u001b[A\n670it [08:44,  1.28it/s]\u001b[A\n671it [08:44,  1.28it/s]\u001b[A\n672it [08:45,  1.28it/s]\u001b[A\n673it [08:46,  1.28it/s]\u001b[A\n674it [08:47,  1.28it/s]\u001b[A\n675it [08:48,  1.28it/s]\u001b[A\n676it [08:48,  1.28it/s]\u001b[A\n677it [08:49,  1.28it/s]\u001b[A\n678it [08:50,  1.28it/s]\u001b[A\n679it [08:51,  1.28it/s]\u001b[A\n680it [08:51,  1.28it/s]\u001b[A\n681it [08:52,  1.28it/s]\u001b[A\n682it [08:53,  1.28it/s]\u001b[A\n683it [08:54,  1.28it/s]\u001b[A\n684it [08:55,  1.28it/s]\u001b[A\n685it [08:55,  1.28it/s]\u001b[A\n686it [08:56,  1.28it/s]\u001b[A\n687it [08:57,  1.28it/s]\u001b[A\n688it [08:58,  1.28it/s]\u001b[A\n689it [08:58,  1.27it/s]\u001b[A\n690it [08:59,  1.28it/s]\u001b[A\n691it [09:00,  1.28it/s]\u001b[A\n692it [09:01,  1.28it/s]\u001b[A\n693it [09:02,  1.28it/s]\u001b[A\n694it [09:02,  1.28it/s]\u001b[A\n695it [09:03,  1.28it/s]\u001b[A\n696it [09:04,  1.29it/s]\u001b[A\n697it [09:05,  1.28it/s]\u001b[A\n698it [09:06,  1.28it/s]\u001b[A\n699it [09:06,  1.28it/s]\u001b[A\n700it [09:07,  1.28it/s]\u001b[A\n701it [09:08,  1.28it/s]\u001b[A\n702it [09:09,  1.28it/s]\u001b[A\n703it [09:09,  1.28it/s]\u001b[A\n704it [09:10,  1.29it/s]\u001b[A\n705it [09:11,  1.28it/s]\u001b[A\n706it [09:12,  1.28it/s]\u001b[A\n707it [09:13,  1.28it/s]\u001b[A\n708it [09:13,  1.28it/s]\u001b[A\n709it [09:14,  1.28it/s]\u001b[A\n710it [09:15,  1.29it/s]\u001b[A\n711it [09:16,  1.28it/s]\u001b[A\n712it [09:16,  1.28it/s]\u001b[A\n713it [09:17,  1.28it/s]\u001b[A\n714it [09:18,  1.28it/s]\u001b[A\n715it [09:19,  1.28it/s]\u001b[A\n716it [09:20,  1.27it/s]\u001b[A\n717it [09:20,  1.27it/s]\u001b[A\n718it [09:21,  1.27it/s]\u001b[A\n719it [09:22,  1.27it/s]\u001b[A\n720it [09:23,  1.28it/s]\u001b[A\n721it [09:23,  1.28it/s]\u001b[A\n722it [09:24,  1.28it/s]\u001b[A\n723it [09:25,  1.28it/s]\u001b[A\n724it [09:26,  1.28it/s]\u001b[A\n725it [09:27,  1.28it/s]\u001b[A\n726it [09:27,  1.28it/s]\u001b[A\n727it [09:28,  1.28it/s]\u001b[A\n728it [09:29,  1.27it/s]\u001b[A\n729it [09:30,  1.28it/s]\u001b[A\n730it [09:31,  1.28it/s]\u001b[A\n731it [09:31,  1.28it/s]\u001b[A\n732it [09:32,  1.28it/s]\u001b[A\n733it [09:33,  1.28it/s]\u001b[A\n734it [09:34,  1.28it/s]\u001b[A\n735it [09:34,  1.28it/s]\u001b[A\n736it [09:35,  1.28it/s]\u001b[A\n737it [09:36,  1.29it/s]\u001b[A\n738it [09:37,  1.28it/s]\u001b[A\n739it [09:38,  1.28it/s]\u001b[A\n740it [09:38,  1.28it/s]\u001b[A\n741it [09:39,  1.28it/s]\u001b[A\n742it [09:40,  1.27it/s]\u001b[A\n743it [09:41,  1.28it/s]\u001b[A\n744it [09:41,  1.28it/s]\u001b[A\n745it [09:42,  1.28it/s]\u001b[A\n746it [09:43,  1.28it/s]\u001b[A\n747it [09:44,  1.28it/s]\u001b[A\n748it [09:45,  1.28it/s]\u001b[A\n749it [09:45,  1.28it/s]\u001b[A\n750it [09:46,  1.28it/s]\u001b[A\n751it [09:47,  1.28it/s]\u001b[A\n752it [09:48,  1.28it/s]\u001b[A\n753it [09:48,  1.28it/s]\u001b[A\n754it [09:49,  1.28it/s]\u001b[A\n755it [09:50,  1.28it/s]\u001b[A\n756it [09:51,  1.28it/s]\u001b[A\n757it [09:52,  1.28it/s]\u001b[A\n758it [09:52,  1.28it/s]\u001b[A\n759it [09:53,  1.28it/s]\u001b[A\n760it [09:54,  1.28it/s]\u001b[A\n761it [09:55,  1.28it/s]\u001b[A\n762it [09:56,  1.28it/s]\u001b[A\n763it [09:56,  1.28it/s]\u001b[A\n764it [09:57,  1.28it/s]\u001b[A\n765it [09:58,  1.28it/s]\u001b[A\n766it [09:59,  1.28it/s]\u001b[A\n767it [09:59,  1.28it/s]\u001b[A\n768it [10:00,  1.28it/s]\u001b[A\n769it [10:01,  1.27it/s]\u001b[A\n770it [10:02,  1.27it/s]\u001b[A\n771it [10:03,  1.27it/s]\u001b[A\n772it [10:03,  1.27it/s]\u001b[A\n773it [10:04,  1.28it/s]\u001b[A\n774it [10:05,  1.28it/s]\u001b[A\n775it [10:06,  1.28it/s]\u001b[A\n776it [10:07,  1.27it/s]\u001b[A\n777it [10:07,  1.28it/s]\u001b[A\n778it [10:08,  1.28it/s]\u001b[A\n779it [10:09,  1.27it/s]\u001b[A\n780it [10:10,  1.28it/s]\u001b[A\n781it [10:10,  1.28it/s]\u001b[A\n782it [10:11,  1.28it/s]\u001b[A\n783it [10:12,  1.28it/s]\u001b[A\n784it [10:13,  1.28it/s]\u001b[A\n785it [10:14,  1.27it/s]\u001b[A\n786it [10:14,  1.28it/s]\u001b[A\n787it [10:15,  1.27it/s]\u001b[A\n788it [10:16,  1.27it/s]\u001b[A\n789it [10:17,  1.27it/s]\u001b[A\n790it [10:17,  1.28it/s]\u001b[A\n791it [10:18,  1.28it/s]\u001b[A\n792it [10:19,  1.28it/s]\u001b[A\n793it [10:20,  1.28it/s]\u001b[A\n794it [10:21,  1.28it/s]\u001b[A\n795it [10:21,  1.28it/s]\u001b[A\n796it [10:22,  1.28it/s]\u001b[A\n797it [10:23,  1.28it/s]\u001b[A\n798it [10:24,  1.28it/s]\u001b[A\n799it [10:24,  1.28it/s]\u001b[A\n800it [10:25,  1.28it/s]\u001b[A\n801it [10:26,  1.28it/s]\u001b[A\n802it [10:27,  1.28it/s]\u001b[A\n803it [10:28,  1.28it/s]\u001b[A\n804it [10:28,  1.29it/s]\u001b[A\n805it [10:29,  1.28it/s]\u001b[A\n806it [10:30,  1.28it/s]\u001b[A\n807it [10:31,  1.27it/s]\u001b[A\n808it [10:32,  1.28it/s]\u001b[A\n809it [10:32,  1.27it/s]\u001b[A\n810it [10:33,  1.28it/s]\u001b[A\n811it [10:34,  1.28it/s]\u001b[A\n812it [10:35,  1.28it/s]\u001b[A\n813it [10:35,  1.28it/s]\u001b[A\n814it [10:36,  1.28it/s]\u001b[A\n815it [10:37,  1.28it/s]\u001b[A\n816it [10:38,  1.28it/s]\u001b[A\n817it [10:39,  1.28it/s]\u001b[A\n818it [10:39,  1.28it/s]\u001b[A\n819it [10:40,  1.28it/s]\u001b[A\n820it [10:41,  1.28it/s]\u001b[A\n821it [10:42,  1.28it/s]\u001b[A\n822it [10:42,  1.28it/s]\u001b[A\n823it [10:43,  1.28it/s]\u001b[A\n824it [10:44,  1.28it/s]\u001b[A\n825it [10:45,  1.28it/s]\u001b[A\n826it [10:46,  1.28it/s]\u001b[A\n827it [10:46,  1.28it/s]\u001b[A\n828it [10:47,  1.28it/s]\u001b[A\n829it [10:48,  1.28it/s]\u001b[A\n830it [10:49,  1.28it/s]\u001b[A\n831it [10:50,  1.28it/s]\u001b[A\n832it [10:50,  1.28it/s]\u001b[A\n833it [10:51,  1.28it/s]\u001b[A\n834it [10:52,  1.28it/s]\u001b[A\n835it [10:53,  1.28it/s]\u001b[A\n836it [10:53,  1.28it/s]\u001b[A\n837it [10:54,  1.28it/s]\u001b[A\n838it [10:55,  1.28it/s]\u001b[A\n839it [10:56,  1.28it/s]\u001b[A\n840it [10:57,  1.29it/s]\u001b[A\n841it [10:57,  1.28it/s]\u001b[A\n842it [10:58,  1.28it/s]\u001b[A\n843it [10:59,  1.28it/s]\u001b[A\n844it [11:00,  1.28it/s]\u001b[A\n845it [11:00,  1.28it/s]\u001b[A\n846it [11:01,  1.28it/s]\u001b[A\n847it [11:02,  1.28it/s]\u001b[A\n848it [11:03,  1.28it/s]\u001b[A\n849it [11:04,  1.28it/s]\u001b[A\n850it [11:04,  1.28it/s]\u001b[A\n851it [11:05,  1.28it/s]\u001b[A\n852it [11:06,  1.28it/s]\u001b[A\n853it [11:07,  1.28it/s]\u001b[A\n854it [11:07,  1.28it/s]\u001b[A\n855it [11:08,  1.27it/s]\u001b[A\n856it [11:09,  1.27it/s]\u001b[A\n857it [11:10,  1.27it/s]\u001b[A\n858it [11:11,  1.27it/s]\u001b[A\n859it [11:11,  1.28it/s]\u001b[A\n 67%|██████▋   | 2/3 [22:26<11:13, 673.43s/it]",
          "output_type": "stream"
        },
        {
          "name": "stdout",
          "text": "Checkpoint saved at epoch 2\n",
          "output_type": "stream"
        },
        {
          "name": "stderr",
          "text": "\n0it [00:00, ?it/s]\u001b[A",
          "output_type": "stream"
        },
        {
          "name": "stdout",
          "text": "Epoch: 2, Loss: 0.35694393515586853\n",
          "output_type": "stream"
        },
        {
          "name": "stderr",
          "text": "\n1it [00:00,  1.29it/s]\u001b[A\n2it [00:01,  1.27it/s]\u001b[A\n3it [00:02,  1.28it/s]\u001b[A\n4it [00:03,  1.28it/s]\u001b[A\n5it [00:03,  1.28it/s]\u001b[A\n6it [00:04,  1.28it/s]\u001b[A\n7it [00:05,  1.28it/s]\u001b[A\n8it [00:06,  1.28it/s]\u001b[A\n9it [00:07,  1.28it/s]\u001b[A\n10it [00:07,  1.28it/s]\u001b[A\n11it [00:08,  1.27it/s]\u001b[A\n12it [00:09,  1.28it/s]\u001b[A\n13it [00:10,  1.28it/s]\u001b[A\n14it [00:10,  1.28it/s]\u001b[A\n15it [00:11,  1.28it/s]\u001b[A\n16it [00:12,  1.28it/s]\u001b[A\n17it [00:13,  1.28it/s]\u001b[A\n18it [00:14,  1.28it/s]\u001b[A\n19it [00:14,  1.28it/s]\u001b[A\n20it [00:15,  1.28it/s]\u001b[A\n21it [00:16,  1.28it/s]\u001b[A\n22it [00:17,  1.28it/s]\u001b[A\n23it [00:17,  1.28it/s]\u001b[A\n24it [00:18,  1.28it/s]\u001b[A\n25it [00:19,  1.28it/s]\u001b[A\n26it [00:20,  1.28it/s]\u001b[A\n27it [00:21,  1.28it/s]\u001b[A\n28it [00:21,  1.28it/s]\u001b[A\n29it [00:22,  1.28it/s]\u001b[A\n30it [00:23,  1.28it/s]\u001b[A\n31it [00:24,  1.28it/s]\u001b[A\n32it [00:25,  1.28it/s]\u001b[A\n33it [00:25,  1.28it/s]\u001b[A\n34it [00:26,  1.28it/s]\u001b[A\n35it [00:27,  1.28it/s]\u001b[A\n36it [00:28,  1.27it/s]\u001b[A\n37it [00:28,  1.28it/s]\u001b[A\n38it [00:29,  1.28it/s]\u001b[A\n39it [00:30,  1.28it/s]\u001b[A\n40it [00:31,  1.29it/s]\u001b[A\n41it [00:32,  1.28it/s]\u001b[A\n42it [00:32,  1.28it/s]\u001b[A\n43it [00:33,  1.28it/s]\u001b[A\n44it [00:34,  1.28it/s]\u001b[A\n45it [00:35,  1.27it/s]\u001b[A\n46it [00:35,  1.28it/s]\u001b[A\n47it [00:36,  1.28it/s]\u001b[A\n48it [00:37,  1.28it/s]\u001b[A\n49it [00:38,  1.28it/s]\u001b[A\n50it [00:39,  1.28it/s]\u001b[A\n51it [00:39,  1.28it/s]\u001b[A\n52it [00:40,  1.28it/s]\u001b[A\n53it [00:41,  1.28it/s]\u001b[A\n54it [00:42,  1.28it/s]\u001b[A\n55it [00:42,  1.28it/s]\u001b[A\n56it [00:43,  1.28it/s]\u001b[A\n57it [00:44,  1.27it/s]\u001b[A\n58it [00:45,  1.28it/s]\u001b[A\n59it [00:46,  1.28it/s]\u001b[A\n60it [00:46,  1.28it/s]\u001b[A\n61it [00:47,  1.28it/s]\u001b[A\n62it [00:48,  1.28it/s]\u001b[A\n63it [00:49,  1.28it/s]\u001b[A\n64it [00:50,  1.28it/s]\u001b[A\n65it [00:50,  1.28it/s]\u001b[A\n66it [00:51,  1.28it/s]\u001b[A\n67it [00:52,  1.27it/s]\u001b[A\n68it [00:53,  1.28it/s]\u001b[A\n69it [00:53,  1.27it/s]\u001b[A\n70it [00:54,  1.28it/s]\u001b[A\n71it [00:55,  1.28it/s]\u001b[A\n72it [00:56,  1.28it/s]\u001b[A\n73it [00:57,  1.28it/s]\u001b[A\n74it [00:57,  1.27it/s]\u001b[A\n75it [00:58,  1.27it/s]\u001b[A\n76it [00:59,  1.27it/s]\u001b[A\n77it [01:00,  1.28it/s]\u001b[A\n78it [01:01,  1.27it/s]\u001b[A\n79it [01:01,  1.27it/s]\u001b[A\n80it [01:02,  1.27it/s]\u001b[A\n81it [01:03,  1.28it/s]\u001b[A\n82it [01:04,  1.28it/s]\u001b[A\n83it [01:04,  1.28it/s]\u001b[A\n84it [01:05,  1.28it/s]\u001b[A\n85it [01:06,  1.28it/s]\u001b[A\n86it [01:07,  1.28it/s]\u001b[A\n87it [01:08,  1.28it/s]\u001b[A\n88it [01:08,  1.27it/s]\u001b[A\n89it [01:09,  1.28it/s]\u001b[A\n90it [01:10,  1.28it/s]\u001b[A\n91it [01:11,  1.27it/s]\u001b[A\n92it [01:12,  1.28it/s]\u001b[A\n93it [01:12,  1.28it/s]\u001b[A\n94it [01:13,  1.28it/s]\u001b[A\n95it [01:14,  1.28it/s]\u001b[A\n96it [01:15,  1.28it/s]\u001b[A\n97it [01:15,  1.27it/s]\u001b[A\n98it [01:16,  1.28it/s]\u001b[A\n99it [01:17,  1.28it/s]\u001b[A\n100it [01:18,  1.27it/s]\u001b[A\n101it [01:19,  1.28it/s]\u001b[A\n102it [01:19,  1.28it/s]\u001b[A\n103it [01:20,  1.27it/s]\u001b[A\n104it [01:21,  1.27it/s]\u001b[A\n105it [01:22,  1.27it/s]\u001b[A\n106it [01:22,  1.27it/s]\u001b[A\n107it [01:23,  1.28it/s]\u001b[A\n108it [01:24,  1.28it/s]\u001b[A\n109it [01:25,  1.28it/s]\u001b[A\n110it [01:26,  1.28it/s]\u001b[A\n111it [01:26,  1.28it/s]\u001b[A\n112it [01:27,  1.28it/s]\u001b[A\n113it [01:28,  1.28it/s]\u001b[A\n114it [01:29,  1.28it/s]\u001b[A\n115it [01:30,  1.28it/s]\u001b[A\n116it [01:30,  1.27it/s]\u001b[A\n117it [01:31,  1.28it/s]\u001b[A\n118it [01:32,  1.28it/s]\u001b[A\n119it [01:33,  1.28it/s]\u001b[A\n120it [01:33,  1.28it/s]\u001b[A\n121it [01:34,  1.28it/s]\u001b[A\n122it [01:35,  1.28it/s]\u001b[A\n123it [01:36,  1.28it/s]\u001b[A\n124it [01:37,  1.28it/s]\u001b[A\n125it [01:37,  1.27it/s]\u001b[A\n126it [01:38,  1.27it/s]\u001b[A\n127it [01:39,  1.27it/s]\u001b[A\n128it [01:40,  1.27it/s]\u001b[A\n129it [01:40,  1.28it/s]\u001b[A\n130it [01:41,  1.28it/s]\u001b[A\n131it [01:42,  1.28it/s]\u001b[A\n132it [01:43,  1.28it/s]\u001b[A\n133it [01:44,  1.28it/s]\u001b[A\n134it [01:44,  1.28it/s]\u001b[A\n135it [01:45,  1.28it/s]\u001b[A\n136it [01:46,  1.28it/s]\u001b[A\n137it [01:47,  1.28it/s]\u001b[A\n138it [01:47,  1.28it/s]\u001b[A\n139it [01:48,  1.28it/s]\u001b[A\n140it [01:49,  1.28it/s]\u001b[A\n141it [01:50,  1.28it/s]\u001b[A\n142it [01:51,  1.28it/s]\u001b[A\n143it [01:51,  1.28it/s]\u001b[A\n144it [01:52,  1.28it/s]\u001b[A\n145it [01:53,  1.28it/s]\u001b[A\n146it [01:54,  1.28it/s]\u001b[A\n147it [01:55,  1.29it/s]\u001b[A\n148it [01:55,  1.28it/s]\u001b[A\n149it [01:56,  1.28it/s]\u001b[A\n150it [01:57,  1.28it/s]\u001b[A\n151it [01:58,  1.28it/s]\u001b[A\n152it [01:58,  1.28it/s]\u001b[A\n153it [01:59,  1.28it/s]\u001b[A\n154it [02:00,  1.28it/s]\u001b[A\n155it [02:01,  1.28it/s]\u001b[A\n156it [02:02,  1.28it/s]\u001b[A\n157it [02:02,  1.28it/s]\u001b[A\n158it [02:03,  1.28it/s]\u001b[A\n159it [02:04,  1.28it/s]\u001b[A\n160it [02:05,  1.28it/s]\u001b[A\n161it [02:05,  1.27it/s]\u001b[A\n162it [02:06,  1.27it/s]\u001b[A\n163it [02:07,  1.27it/s]\u001b[A\n164it [02:08,  1.27it/s]\u001b[A\n165it [02:09,  1.28it/s]\u001b[A\n166it [02:09,  1.28it/s]\u001b[A\n167it [02:10,  1.28it/s]\u001b[A\n168it [02:11,  1.28it/s]\u001b[A\n169it [02:12,  1.28it/s]\u001b[A\n170it [02:13,  1.28it/s]\u001b[A\n171it [02:13,  1.28it/s]\u001b[A\n172it [02:14,  1.28it/s]\u001b[A\n173it [02:15,  1.28it/s]\u001b[A\n174it [02:16,  1.28it/s]\u001b[A\n175it [02:16,  1.28it/s]\u001b[A\n176it [02:17,  1.28it/s]\u001b[A\n177it [02:18,  1.28it/s]\u001b[A\n178it [02:19,  1.28it/s]\u001b[A\n179it [02:20,  1.28it/s]\u001b[A\n180it [02:20,  1.28it/s]\u001b[A\n181it [02:21,  1.28it/s]\u001b[A\n182it [02:22,  1.28it/s]\u001b[A\n183it [02:23,  1.28it/s]\u001b[A\n184it [02:23,  1.28it/s]\u001b[A\n185it [02:24,  1.27it/s]\u001b[A\n186it [02:25,  1.28it/s]\u001b[A\n187it [02:26,  1.28it/s]\u001b[A\n188it [02:27,  1.28it/s]\u001b[A\n189it [02:27,  1.27it/s]\u001b[A\n190it [02:28,  1.28it/s]\u001b[A\n191it [02:29,  1.28it/s]\u001b[A\n192it [02:30,  1.29it/s]\u001b[A\n193it [02:30,  1.29it/s]\u001b[A\n194it [02:31,  1.28it/s]\u001b[A\n195it [02:32,  1.28it/s]\u001b[A\n196it [02:33,  1.28it/s]\u001b[A\n197it [02:34,  1.28it/s]\u001b[A\n198it [02:34,  1.28it/s]\u001b[A\n199it [02:35,  1.28it/s]\u001b[A\n200it [02:36,  1.28it/s]\u001b[A\n201it [02:37,  1.28it/s]\u001b[A\n202it [02:38,  1.28it/s]\u001b[A\n203it [02:38,  1.28it/s]\u001b[A\n204it [02:39,  1.28it/s]\u001b[A\n205it [02:40,  1.28it/s]\u001b[A\n206it [02:41,  1.28it/s]\u001b[A\n207it [02:41,  1.27it/s]\u001b[A\n208it [02:42,  1.27it/s]\u001b[A\n209it [02:43,  1.27it/s]\u001b[A\n210it [02:44,  1.27it/s]\u001b[A\n211it [02:45,  1.27it/s]\u001b[A\n212it [02:45,  1.27it/s]\u001b[A\n213it [02:46,  1.28it/s]\u001b[A\n214it [02:47,  1.28it/s]\u001b[A\n215it [02:48,  1.28it/s]\u001b[A\n216it [02:48,  1.27it/s]\u001b[A\n217it [02:49,  1.28it/s]\u001b[A\n218it [02:50,  1.28it/s]\u001b[A\n219it [02:51,  1.28it/s]\u001b[A\n220it [02:52,  1.28it/s]\u001b[A\n221it [02:52,  1.28it/s]\u001b[A\n222it [02:53,  1.28it/s]\u001b[A\n223it [02:54,  1.28it/s]\u001b[A\n224it [02:55,  1.28it/s]\u001b[A\n225it [02:56,  1.28it/s]\u001b[A\n226it [02:56,  1.28it/s]\u001b[A\n227it [02:57,  1.28it/s]\u001b[A\n228it [02:58,  1.28it/s]\u001b[A\n229it [02:59,  1.28it/s]\u001b[A\n230it [02:59,  1.28it/s]\u001b[A\n231it [03:00,  1.28it/s]\u001b[A\n232it [03:01,  1.28it/s]\u001b[A\n233it [03:02,  1.28it/s]\u001b[A\n234it [03:03,  1.28it/s]\u001b[A\n235it [03:03,  1.28it/s]\u001b[A\n236it [03:04,  1.27it/s]\u001b[A\n237it [03:05,  1.28it/s]\u001b[A\n238it [03:06,  1.28it/s]\u001b[A\n239it [03:06,  1.28it/s]\u001b[A\n240it [03:07,  1.28it/s]\u001b[A\n241it [03:08,  1.28it/s]\u001b[A\n242it [03:09,  1.28it/s]\u001b[A\n243it [03:10,  1.28it/s]\u001b[A\n244it [03:10,  1.28it/s]\u001b[A\n245it [03:11,  1.28it/s]\u001b[A\n246it [03:12,  1.28it/s]\u001b[A\n247it [03:13,  1.28it/s]\u001b[A\n248it [03:13,  1.28it/s]\u001b[A\n249it [03:14,  1.28it/s]\u001b[A\n250it [03:15,  1.28it/s]\u001b[A\n251it [03:16,  1.28it/s]\u001b[A\n252it [03:17,  1.28it/s]\u001b[A\n253it [03:17,  1.28it/s]\u001b[A\n254it [03:18,  1.28it/s]\u001b[A\n255it [03:19,  1.28it/s]\u001b[A\n256it [03:20,  1.28it/s]\u001b[A\n257it [03:21,  1.28it/s]\u001b[A\n258it [03:21,  1.28it/s]\u001b[A\n259it [03:22,  1.28it/s]\u001b[A\n260it [03:23,  1.27it/s]\u001b[A\n261it [03:24,  1.28it/s]\u001b[A\n262it [03:24,  1.28it/s]\u001b[A\n263it [03:25,  1.28it/s]\u001b[A\n264it [03:26,  1.28it/s]\u001b[A\n265it [03:27,  1.28it/s]\u001b[A\n266it [03:28,  1.27it/s]\u001b[A\n267it [03:28,  1.28it/s]\u001b[A\n268it [03:29,  1.28it/s]\u001b[A\n269it [03:30,  1.28it/s]\u001b[A\n270it [03:31,  1.28it/s]\u001b[A\n271it [03:31,  1.28it/s]\u001b[A\n272it [03:32,  1.28it/s]\u001b[A\n273it [03:33,  1.27it/s]\u001b[A\n274it [03:34,  1.28it/s]\u001b[A\n275it [03:35,  1.28it/s]\u001b[A\n276it [03:35,  1.28it/s]\u001b[A\n277it [03:36,  1.28it/s]\u001b[A\n278it [03:37,  1.28it/s]\u001b[A\n279it [03:38,  1.28it/s]\u001b[A\n280it [03:39,  1.27it/s]\u001b[A\n281it [03:39,  1.27it/s]\u001b[A\n282it [03:40,  1.27it/s]\u001b[A\n283it [03:41,  1.27it/s]\u001b[A\n284it [03:42,  1.28it/s]\u001b[A\n285it [03:42,  1.27it/s]\u001b[A\n286it [03:43,  1.27it/s]\u001b[A\n287it [03:44,  1.28it/s]\u001b[A\n288it [03:45,  1.27it/s]\u001b[A\n289it [03:46,  1.27it/s]\u001b[A\n290it [03:46,  1.27it/s]\u001b[A\n291it [03:47,  1.28it/s]\u001b[A\n292it [03:48,  1.28it/s]\u001b[A\n293it [03:49,  1.28it/s]\u001b[A\n294it [03:50,  1.28it/s]\u001b[A\n295it [03:50,  1.28it/s]\u001b[A\n296it [03:51,  1.28it/s]\u001b[A\n297it [03:52,  1.28it/s]\u001b[A\n298it [03:53,  1.28it/s]\u001b[A\n299it [03:53,  1.28it/s]\u001b[A\n300it [03:54,  1.27it/s]\u001b[A\n301it [03:55,  1.27it/s]\u001b[A\n302it [03:56,  1.27it/s]\u001b[A\n303it [03:57,  1.27it/s]\u001b[A\n304it [03:57,  1.27it/s]\u001b[A\n305it [03:58,  1.28it/s]\u001b[A\n306it [03:59,  1.28it/s]\u001b[A\n307it [04:00,  1.27it/s]\u001b[A\n308it [04:00,  1.28it/s]\u001b[A\n309it [04:01,  1.28it/s]\u001b[A\n310it [04:02,  1.28it/s]\u001b[A\n311it [04:03,  1.28it/s]\u001b[A\n312it [04:04,  1.28it/s]\u001b[A\n313it [04:04,  1.28it/s]\u001b[A\n314it [04:05,  1.28it/s]\u001b[A\n315it [04:06,  1.28it/s]\u001b[A\n316it [04:07,  1.28it/s]\u001b[A\n317it [04:08,  1.28it/s]\u001b[A\n318it [04:08,  1.28it/s]\u001b[A\n319it [04:09,  1.28it/s]\u001b[A\n320it [04:10,  1.27it/s]\u001b[A\n321it [04:11,  1.27it/s]\u001b[A\n322it [04:11,  1.28it/s]\u001b[A\n323it [04:12,  1.28it/s]\u001b[A\n324it [04:13,  1.28it/s]\u001b[A\n325it [04:14,  1.27it/s]\u001b[A\n326it [04:15,  1.28it/s]\u001b[A\n327it [04:15,  1.28it/s]\u001b[A\n328it [04:16,  1.28it/s]\u001b[A\n329it [04:17,  1.28it/s]\u001b[A\n330it [04:18,  1.28it/s]\u001b[A\n331it [04:18,  1.28it/s]\u001b[A\n332it [04:19,  1.28it/s]\u001b[A\n333it [04:20,  1.29it/s]\u001b[A\n334it [04:21,  1.29it/s]\u001b[A\n335it [04:22,  1.28it/s]\u001b[A\n336it [04:22,  1.28it/s]\u001b[A\n337it [04:23,  1.28it/s]\u001b[A\n338it [04:24,  1.28it/s]\u001b[A\n339it [04:25,  1.28it/s]\u001b[A\n340it [04:25,  1.28it/s]\u001b[A\n341it [04:26,  1.28it/s]\u001b[A\n342it [04:27,  1.28it/s]\u001b[A\n343it [04:28,  1.28it/s]\u001b[A\n344it [04:29,  1.28it/s]\u001b[A\n345it [04:29,  1.28it/s]\u001b[A\n346it [04:30,  1.28it/s]\u001b[A\n347it [04:31,  1.28it/s]\u001b[A\n348it [04:32,  1.28it/s]\u001b[A\n349it [04:33,  1.28it/s]\u001b[A\n350it [04:33,  1.28it/s]\u001b[A\n351it [04:34,  1.28it/s]\u001b[A\n352it [04:35,  1.28it/s]\u001b[A\n353it [04:36,  1.28it/s]\u001b[A\n354it [04:36,  1.28it/s]\u001b[A\n355it [04:37,  1.27it/s]\u001b[A\n356it [04:38,  1.28it/s]\u001b[A\n357it [04:39,  1.28it/s]\u001b[A\n358it [04:40,  1.28it/s]\u001b[A\n359it [04:40,  1.28it/s]\u001b[A\n360it [04:41,  1.28it/s]\u001b[A\n361it [04:42,  1.28it/s]\u001b[A\n362it [04:43,  1.28it/s]\u001b[A\n363it [04:43,  1.29it/s]\u001b[A\n364it [04:44,  1.28it/s]\u001b[A\n365it [04:45,  1.28it/s]\u001b[A\n366it [04:46,  1.28it/s]\u001b[A\n367it [04:47,  1.28it/s]\u001b[A\n368it [04:47,  1.28it/s]\u001b[A\n369it [04:48,  1.28it/s]\u001b[A\n370it [04:49,  1.28it/s]\u001b[A\n371it [04:50,  1.28it/s]\u001b[A\n372it [04:51,  1.28it/s]\u001b[A\n373it [04:51,  1.28it/s]\u001b[A\n374it [04:52,  1.27it/s]\u001b[A\n375it [04:53,  1.28it/s]\u001b[A\n376it [04:54,  1.28it/s]\u001b[A\n377it [04:54,  1.28it/s]\u001b[A\n378it [04:55,  1.28it/s]\u001b[A\n379it [04:56,  1.28it/s]\u001b[A\n380it [04:57,  1.28it/s]\u001b[A\n381it [04:58,  1.28it/s]\u001b[A\n382it [04:58,  1.28it/s]\u001b[A\n383it [04:59,  1.28it/s]\u001b[A\n384it [05:00,  1.29it/s]\u001b[A\n385it [05:01,  1.29it/s]\u001b[A\n386it [05:01,  1.28it/s]\u001b[A\n387it [05:02,  1.28it/s]\u001b[A\n388it [05:03,  1.28it/s]\u001b[A\n389it [05:04,  1.28it/s]\u001b[A\n390it [05:05,  1.28it/s]\u001b[A\n391it [05:05,  1.27it/s]\u001b[A\n392it [05:06,  1.28it/s]\u001b[A\n393it [05:07,  1.28it/s]\u001b[A\n394it [05:08,  1.29it/s]\u001b[A\n395it [05:08,  1.28it/s]\u001b[A\n396it [05:09,  1.29it/s]\u001b[A\n397it [05:10,  1.28it/s]\u001b[A\n398it [05:11,  1.28it/s]\u001b[A\n399it [05:12,  1.28it/s]\u001b[A\n400it [05:12,  1.28it/s]\u001b[A\n401it [05:13,  1.29it/s]\u001b[A\n402it [05:14,  1.29it/s]\u001b[A\n403it [05:15,  1.28it/s]\u001b[A\n404it [05:15,  1.28it/s]\u001b[A\n405it [05:16,  1.28it/s]\u001b[A\n406it [05:17,  1.28it/s]\u001b[A\n407it [05:18,  1.28it/s]\u001b[A\n408it [05:19,  1.28it/s]\u001b[A\n409it [05:19,  1.28it/s]\u001b[A\n410it [05:20,  1.28it/s]\u001b[A\n411it [05:21,  1.28it/s]\u001b[A\n412it [05:22,  1.27it/s]\u001b[A\n413it [05:23,  1.27it/s]\u001b[A\n414it [05:23,  1.27it/s]\u001b[A\n415it [05:24,  1.27it/s]\u001b[A\n416it [05:25,  1.28it/s]\u001b[A\n417it [05:26,  1.28it/s]\u001b[A\n418it [05:26,  1.28it/s]\u001b[A\n419it [05:27,  1.28it/s]\u001b[A\n420it [05:28,  1.28it/s]\u001b[A\n421it [05:29,  1.28it/s]\u001b[A\n422it [05:30,  1.28it/s]\u001b[A\n423it [05:30,  1.28it/s]\u001b[A\n424it [05:31,  1.27it/s]\u001b[A\n425it [05:32,  1.28it/s]\u001b[A\n426it [05:33,  1.28it/s]\u001b[A\n427it [05:33,  1.27it/s]\u001b[A\n428it [05:34,  1.28it/s]\u001b[A\n429it [05:35,  1.27it/s]\u001b[A\n430it [05:36,  1.28it/s]\u001b[A\n431it [05:37,  1.28it/s]\u001b[A\n432it [05:37,  1.28it/s]\u001b[A\n433it [05:38,  1.28it/s]\u001b[A\n434it [05:39,  1.28it/s]\u001b[A\n435it [05:40,  1.28it/s]\u001b[A\n436it [05:41,  1.28it/s]\u001b[A\n437it [05:41,  1.28it/s]\u001b[A\n438it [05:42,  1.28it/s]\u001b[A\n439it [05:43,  1.28it/s]\u001b[A\n440it [05:44,  1.28it/s]\u001b[A\n441it [05:44,  1.28it/s]\u001b[A\n442it [05:45,  1.28it/s]\u001b[A\n443it [05:46,  1.28it/s]\u001b[A\n444it [05:47,  1.28it/s]\u001b[A\n445it [05:48,  1.28it/s]\u001b[A\n446it [05:48,  1.28it/s]\u001b[A\n447it [05:49,  1.28it/s]\u001b[A\n448it [05:50,  1.28it/s]\u001b[A\n449it [05:51,  1.28it/s]\u001b[A\n450it [05:51,  1.28it/s]\u001b[A\n451it [05:52,  1.28it/s]\u001b[A\n452it [05:53,  1.29it/s]\u001b[A\n453it [05:54,  1.28it/s]\u001b[A\n454it [05:55,  1.28it/s]\u001b[A\n455it [05:55,  1.28it/s]\u001b[A\n456it [05:56,  1.28it/s]\u001b[A\n457it [05:57,  1.28it/s]\u001b[A\n458it [05:58,  1.28it/s]\u001b[A\n459it [05:58,  1.28it/s]\u001b[A\n460it [05:59,  1.28it/s]\u001b[A\n461it [06:00,  1.28it/s]\u001b[A\n462it [06:01,  1.28it/s]\u001b[A\n463it [06:02,  1.28it/s]\u001b[A\n464it [06:02,  1.29it/s]\u001b[A\n465it [06:03,  1.28it/s]\u001b[A\n466it [06:04,  1.27it/s]\u001b[A\n467it [06:05,  1.27it/s]\u001b[A\n468it [06:06,  1.27it/s]\u001b[A\n469it [06:06,  1.27it/s]\u001b[A\n470it [06:07,  1.28it/s]\u001b[A\n471it [06:08,  1.27it/s]\u001b[A\n472it [06:09,  1.27it/s]\u001b[A\n473it [06:09,  1.27it/s]\u001b[A\n474it [06:10,  1.27it/s]\u001b[A\n475it [06:11,  1.27it/s]\u001b[A\n476it [06:12,  1.27it/s]\u001b[A\n477it [06:13,  1.27it/s]\u001b[A\n478it [06:13,  1.27it/s]\u001b[A\n479it [06:14,  1.27it/s]\u001b[A\n480it [06:15,  1.27it/s]\u001b[A\n481it [06:16,  1.27it/s]\u001b[A\n482it [06:17,  1.28it/s]\u001b[A\n483it [06:17,  1.28it/s]\u001b[A\n484it [06:18,  1.28it/s]\u001b[A\n485it [06:19,  1.28it/s]\u001b[A\n486it [06:20,  1.28it/s]\u001b[A\n487it [06:20,  1.28it/s]\u001b[A\n488it [06:21,  1.28it/s]\u001b[A\n489it [06:22,  1.28it/s]\u001b[A\n490it [06:23,  1.28it/s]\u001b[A\n491it [06:24,  1.28it/s]\u001b[A\n492it [06:24,  1.28it/s]\u001b[A\n493it [06:25,  1.27it/s]\u001b[A\n494it [06:26,  1.27it/s]\u001b[A\n495it [06:27,  1.27it/s]\u001b[A\n496it [06:28,  1.27it/s]\u001b[A\n497it [06:28,  1.28it/s]\u001b[A\n498it [06:29,  1.28it/s]\u001b[A\n499it [06:30,  1.28it/s]\u001b[A\n500it [06:31,  1.28it/s]\u001b[A\n501it [06:31,  1.28it/s]\u001b[A\n502it [06:32,  1.28it/s]\u001b[A\n503it [06:33,  1.27it/s]\u001b[A\n504it [06:34,  1.28it/s]\u001b[A\n505it [06:35,  1.27it/s]\u001b[A\n506it [06:35,  1.28it/s]\u001b[A\n507it [06:36,  1.28it/s]\u001b[A\n508it [06:37,  1.28it/s]\u001b[A\n509it [06:38,  1.27it/s]\u001b[A\n510it [06:38,  1.28it/s]\u001b[A\n511it [06:39,  1.28it/s]\u001b[A\n512it [06:40,  1.28it/s]\u001b[A\n513it [06:41,  1.28it/s]\u001b[A\n514it [06:42,  1.28it/s]\u001b[A\n515it [06:42,  1.28it/s]\u001b[A\n516it [06:43,  1.28it/s]\u001b[A\n517it [06:44,  1.28it/s]\u001b[A\n518it [06:45,  1.28it/s]\u001b[A\n519it [06:45,  1.28it/s]\u001b[A\n520it [06:46,  1.28it/s]\u001b[A\n521it [06:47,  1.28it/s]\u001b[A\n522it [06:48,  1.28it/s]\u001b[A\n523it [06:49,  1.28it/s]\u001b[A\n524it [06:49,  1.28it/s]\u001b[A\n525it [06:50,  1.28it/s]\u001b[A\n526it [06:51,  1.28it/s]\u001b[A\n527it [06:52,  1.27it/s]\u001b[A\n528it [06:53,  1.27it/s]\u001b[A\n529it [06:53,  1.27it/s]\u001b[A\n530it [06:54,  1.27it/s]\u001b[A\n531it [06:55,  1.27it/s]\u001b[A\n532it [06:56,  1.27it/s]\u001b[A\n533it [06:56,  1.27it/s]\u001b[A\n534it [06:57,  1.27it/s]\u001b[A\n535it [06:58,  1.27it/s]\u001b[A\n536it [06:59,  1.27it/s]\u001b[A\n537it [07:00,  1.27it/s]\u001b[A\n538it [07:00,  1.28it/s]\u001b[A\n539it [07:01,  1.28it/s]\u001b[A\n540it [07:02,  1.28it/s]\u001b[A\n541it [07:03,  1.28it/s]\u001b[A\n542it [07:04,  1.28it/s]\u001b[A\n543it [07:04,  1.27it/s]\u001b[A\n544it [07:05,  1.28it/s]\u001b[A\n545it [07:06,  1.27it/s]\u001b[A\n546it [07:07,  1.27it/s]\u001b[A\n547it [07:07,  1.28it/s]\u001b[A\n548it [07:08,  1.28it/s]\u001b[A\n549it [07:09,  1.28it/s]\u001b[A\n550it [07:10,  1.28it/s]\u001b[A\n551it [07:11,  1.27it/s]\u001b[A\n552it [07:11,  1.27it/s]\u001b[A\n553it [07:12,  1.27it/s]\u001b[A\n554it [07:13,  1.27it/s]\u001b[A\n555it [07:14,  1.27it/s]\u001b[A\n556it [07:15,  1.27it/s]\u001b[A\n557it [07:15,  1.27it/s]\u001b[A\n558it [07:16,  1.27it/s]\u001b[A\n559it [07:17,  1.27it/s]\u001b[A\n560it [07:18,  1.27it/s]\u001b[A\n561it [07:18,  1.27it/s]\u001b[A\n562it [07:19,  1.27it/s]\u001b[A\n563it [07:20,  1.27it/s]\u001b[A\n564it [07:21,  1.27it/s]\u001b[A\n565it [07:22,  1.27it/s]\u001b[A\n566it [07:22,  1.27it/s]\u001b[A\n567it [07:23,  1.28it/s]\u001b[A\n568it [07:24,  1.28it/s]\u001b[A\n569it [07:25,  1.27it/s]\u001b[A\n570it [07:26,  1.27it/s]\u001b[A\n571it [07:26,  1.27it/s]\u001b[A\n572it [07:27,  1.27it/s]\u001b[A\n573it [07:28,  1.27it/s]\u001b[A\n574it [07:29,  1.28it/s]\u001b[A\n575it [07:29,  1.28it/s]\u001b[A\n576it [07:30,  1.28it/s]\u001b[A\n577it [07:31,  1.28it/s]\u001b[A\n578it [07:32,  1.27it/s]\u001b[A\n579it [07:33,  1.28it/s]\u001b[A\n580it [07:33,  1.28it/s]\u001b[A\n581it [07:34,  1.28it/s]\u001b[A\n582it [07:35,  1.28it/s]\u001b[A\n583it [07:36,  1.28it/s]\u001b[A\n584it [07:36,  1.28it/s]\u001b[A\n585it [07:37,  1.28it/s]\u001b[A\n586it [07:38,  1.28it/s]\u001b[A\n587it [07:39,  1.27it/s]\u001b[A\n588it [07:40,  1.28it/s]\u001b[A\n589it [07:40,  1.28it/s]\u001b[A\n590it [07:41,  1.28it/s]\u001b[A\n591it [07:42,  1.28it/s]\u001b[A\n592it [07:43,  1.28it/s]\u001b[A\n593it [07:44,  1.27it/s]\u001b[A\n594it [07:44,  1.28it/s]\u001b[A\n595it [07:45,  1.28it/s]\u001b[A\n596it [07:46,  1.28it/s]\u001b[A\n597it [07:47,  1.28it/s]\u001b[A\n598it [07:47,  1.28it/s]\u001b[A\n599it [07:48,  1.28it/s]\u001b[A\n600it [07:49,  1.27it/s]\u001b[A\n601it [07:50,  1.27it/s]\u001b[A\n602it [07:51,  1.28it/s]\u001b[A\n603it [07:51,  1.28it/s]\u001b[A\n604it [07:52,  1.28it/s]\u001b[A\n605it [07:53,  1.28it/s]\u001b[A\n606it [07:54,  1.28it/s]\u001b[A\n607it [07:54,  1.28it/s]\u001b[A\n608it [07:55,  1.28it/s]\u001b[A\n609it [07:56,  1.28it/s]\u001b[A\n610it [07:57,  1.28it/s]\u001b[A\n611it [07:58,  1.27it/s]\u001b[A\n612it [07:58,  1.27it/s]\u001b[A\n613it [07:59,  1.28it/s]\u001b[A\n614it [08:00,  1.28it/s]\u001b[A\n615it [08:01,  1.27it/s]\u001b[A\n616it [08:02,  1.28it/s]\u001b[A\n617it [08:02,  1.28it/s]\u001b[A\n618it [08:03,  1.28it/s]\u001b[A\n619it [08:04,  1.28it/s]\u001b[A\n620it [08:05,  1.28it/s]\u001b[A\n621it [08:05,  1.27it/s]\u001b[A\n622it [08:06,  1.27it/s]\u001b[A\n623it [08:07,  1.27it/s]\u001b[A\n624it [08:08,  1.27it/s]\u001b[A\n625it [08:09,  1.27it/s]\u001b[A\n626it [08:09,  1.27it/s]\u001b[A\n627it [08:10,  1.28it/s]\u001b[A\n628it [08:11,  1.28it/s]\u001b[A\n629it [08:12,  1.28it/s]\u001b[A\n630it [08:12,  1.28it/s]\u001b[A\n631it [08:13,  1.28it/s]\u001b[A\n632it [08:14,  1.28it/s]\u001b[A\n633it [08:15,  1.28it/s]\u001b[A\n634it [08:16,  1.28it/s]\u001b[A\n635it [08:16,  1.28it/s]\u001b[A\n636it [08:17,  1.28it/s]\u001b[A\n637it [08:18,  1.28it/s]\u001b[A\n638it [08:19,  1.28it/s]\u001b[A\n639it [08:20,  1.28it/s]\u001b[A\n640it [08:20,  1.28it/s]\u001b[A\n641it [08:21,  1.28it/s]\u001b[A\n642it [08:22,  1.28it/s]\u001b[A\n643it [08:23,  1.28it/s]\u001b[A\n644it [08:23,  1.28it/s]\u001b[A\n645it [08:24,  1.28it/s]\u001b[A\n646it [08:25,  1.28it/s]\u001b[A\n647it [08:26,  1.28it/s]\u001b[A\n648it [08:27,  1.27it/s]\u001b[A\n649it [08:27,  1.27it/s]\u001b[A\n650it [08:28,  1.28it/s]\u001b[A\n651it [08:29,  1.28it/s]\u001b[A\n652it [08:30,  1.28it/s]\u001b[A\n653it [08:30,  1.28it/s]\u001b[A\n654it [08:31,  1.28it/s]\u001b[A\n655it [08:32,  1.28it/s]\u001b[A\n656it [08:33,  1.28it/s]\u001b[A\n657it [08:34,  1.27it/s]\u001b[A\n658it [08:34,  1.27it/s]\u001b[A\n659it [08:35,  1.28it/s]\u001b[A\n660it [08:36,  1.28it/s]\u001b[A\n661it [08:37,  1.27it/s]\u001b[A\n662it [08:38,  1.27it/s]\u001b[A\n663it [08:38,  1.27it/s]\u001b[A\n664it [08:39,  1.27it/s]\u001b[A\n665it [08:40,  1.28it/s]\u001b[A\n666it [08:41,  1.28it/s]\u001b[A\n667it [08:41,  1.27it/s]\u001b[A\n668it [08:42,  1.28it/s]\u001b[A\n669it [08:43,  1.28it/s]\u001b[A\n670it [08:44,  1.28it/s]\u001b[A\n671it [08:45,  1.28it/s]\u001b[A\n672it [08:45,  1.28it/s]\u001b[A\n673it [08:46,  1.28it/s]\u001b[A\n674it [08:47,  1.28it/s]\u001b[A\n675it [08:48,  1.28it/s]\u001b[A\n676it [08:48,  1.27it/s]\u001b[A\n677it [08:49,  1.28it/s]\u001b[A\n678it [08:50,  1.27it/s]\u001b[A\n679it [08:51,  1.27it/s]\u001b[A\n680it [08:52,  1.27it/s]\u001b[A\n681it [08:52,  1.27it/s]\u001b[A\n682it [08:53,  1.27it/s]\u001b[A\n683it [08:54,  1.28it/s]\u001b[A\n684it [08:55,  1.27it/s]\u001b[A\n685it [08:56,  1.27it/s]\u001b[A\n686it [08:56,  1.28it/s]\u001b[A\n687it [08:57,  1.28it/s]\u001b[A\n688it [08:58,  1.28it/s]\u001b[A\n689it [08:59,  1.28it/s]\u001b[A\n690it [08:59,  1.28it/s]\u001b[A\n691it [09:00,  1.28it/s]\u001b[A\n692it [09:01,  1.27it/s]\u001b[A\n693it [09:02,  1.27it/s]\u001b[A\n694it [09:03,  1.28it/s]\u001b[A\n695it [09:03,  1.28it/s]\u001b[A\n696it [09:04,  1.28it/s]\u001b[A\n697it [09:05,  1.27it/s]\u001b[A\n698it [09:06,  1.27it/s]\u001b[A\n699it [09:07,  1.27it/s]\u001b[A\n700it [09:07,  1.27it/s]\u001b[A\n701it [09:08,  1.27it/s]\u001b[A\n702it [09:09,  1.27it/s]\u001b[A\n703it [09:10,  1.27it/s]\u001b[A\n704it [09:10,  1.28it/s]\u001b[A\n705it [09:11,  1.28it/s]\u001b[A\n706it [09:12,  1.28it/s]\u001b[A\n707it [09:13,  1.28it/s]\u001b[A\n708it [09:14,  1.28it/s]\u001b[A\n709it [09:14,  1.28it/s]\u001b[A\n710it [09:15,  1.28it/s]\u001b[A\n711it [09:16,  1.28it/s]\u001b[A\n712it [09:17,  1.28it/s]\u001b[A\n713it [09:17,  1.28it/s]\u001b[A\n714it [09:18,  1.27it/s]\u001b[A\n715it [09:19,  1.28it/s]\u001b[A\n716it [09:20,  1.28it/s]\u001b[A\n717it [09:21,  1.28it/s]\u001b[A\n718it [09:21,  1.28it/s]\u001b[A\n719it [09:22,  1.28it/s]\u001b[A\n720it [09:23,  1.28it/s]\u001b[A\n721it [09:24,  1.28it/s]\u001b[A\n722it [09:25,  1.28it/s]\u001b[A\n723it [09:25,  1.28it/s]\u001b[A\n724it [09:26,  1.28it/s]\u001b[A\n725it [09:27,  1.28it/s]\u001b[A\n726it [09:28,  1.28it/s]\u001b[A\n727it [09:28,  1.28it/s]\u001b[A\n728it [09:29,  1.28it/s]\u001b[A\n729it [09:30,  1.27it/s]\u001b[A\n730it [09:31,  1.27it/s]\u001b[A\n731it [09:32,  1.27it/s]\u001b[A\n732it [09:32,  1.27it/s]\u001b[A\n733it [09:33,  1.27it/s]\u001b[A\n734it [09:34,  1.27it/s]\u001b[A\n735it [09:35,  1.27it/s]\u001b[A\n736it [09:36,  1.27it/s]\u001b[A\n737it [09:36,  1.27it/s]\u001b[A\n738it [09:37,  1.27it/s]\u001b[A\n739it [09:38,  1.27it/s]\u001b[A\n740it [09:39,  1.28it/s]\u001b[A\n741it [09:39,  1.28it/s]\u001b[A\n742it [09:40,  1.28it/s]\u001b[A\n743it [09:41,  1.27it/s]\u001b[A\n744it [09:42,  1.27it/s]\u001b[A\n745it [09:43,  1.27it/s]\u001b[A\n746it [09:43,  1.27it/s]\u001b[A\n747it [09:44,  1.28it/s]\u001b[A\n748it [09:45,  1.27it/s]\u001b[A\n749it [09:46,  1.28it/s]\u001b[A\n750it [09:46,  1.28it/s]\u001b[A\n751it [09:47,  1.28it/s]\u001b[A\n752it [09:48,  1.28it/s]\u001b[A\n753it [09:49,  1.28it/s]\u001b[A\n754it [09:50,  1.28it/s]\u001b[A\n755it [09:50,  1.28it/s]\u001b[A\n756it [09:51,  1.28it/s]\u001b[A\n757it [09:52,  1.28it/s]\u001b[A\n758it [09:53,  1.28it/s]\u001b[A\n759it [09:54,  1.28it/s]\u001b[A\n760it [09:54,  1.28it/s]\u001b[A\n761it [09:55,  1.28it/s]\u001b[A\n762it [09:56,  1.27it/s]\u001b[A\n763it [09:57,  1.27it/s]\u001b[A\n764it [09:57,  1.27it/s]\u001b[A\n765it [09:58,  1.27it/s]\u001b[A\n766it [09:59,  1.27it/s]\u001b[A\n767it [10:00,  1.27it/s]\u001b[A\n768it [10:01,  1.27it/s]\u001b[A\n769it [10:01,  1.27it/s]\u001b[A\n770it [10:02,  1.27it/s]\u001b[A\n771it [10:03,  1.28it/s]\u001b[A\n772it [10:04,  1.28it/s]\u001b[A\n773it [10:05,  1.28it/s]\u001b[A\n774it [10:05,  1.28it/s]\u001b[A\n775it [10:06,  1.28it/s]\u001b[A\n776it [10:07,  1.28it/s]\u001b[A\n777it [10:08,  1.28it/s]\u001b[A\n778it [10:08,  1.28it/s]\u001b[A\n779it [10:09,  1.28it/s]\u001b[A\n780it [10:10,  1.28it/s]\u001b[A\n781it [10:11,  1.28it/s]\u001b[A\n782it [10:12,  1.28it/s]\u001b[A\n783it [10:12,  1.28it/s]\u001b[A\n784it [10:13,  1.28it/s]\u001b[A\n785it [10:14,  1.28it/s]\u001b[A\n786it [10:15,  1.27it/s]\u001b[A\n787it [10:15,  1.27it/s]\u001b[A\n788it [10:16,  1.27it/s]\u001b[A\n789it [10:17,  1.27it/s]\u001b[A\n790it [10:18,  1.27it/s]\u001b[A\n791it [10:19,  1.27it/s]\u001b[A\n792it [10:19,  1.27it/s]\u001b[A\n793it [10:20,  1.28it/s]\u001b[A\n794it [10:21,  1.28it/s]\u001b[A\n795it [10:22,  1.28it/s]\u001b[A\n796it [10:23,  1.28it/s]\u001b[A\n797it [10:23,  1.28it/s]\u001b[A\n798it [10:24,  1.28it/s]\u001b[A\n799it [10:25,  1.28it/s]\u001b[A\n800it [10:26,  1.28it/s]\u001b[A\n801it [10:26,  1.28it/s]\u001b[A\n802it [10:27,  1.28it/s]\u001b[A\n803it [10:28,  1.28it/s]\u001b[A\n804it [10:29,  1.28it/s]\u001b[A\n805it [10:30,  1.27it/s]\u001b[A\n806it [10:30,  1.27it/s]\u001b[A\n807it [10:31,  1.28it/s]\u001b[A\n808it [10:32,  1.27it/s]\u001b[A\n809it [10:33,  1.27it/s]\u001b[A\n810it [10:34,  1.28it/s]\u001b[A\n811it [10:34,  1.28it/s]\u001b[A\n812it [10:35,  1.28it/s]\u001b[A\n813it [10:36,  1.28it/s]\u001b[A\n814it [10:37,  1.28it/s]\u001b[A\n815it [10:37,  1.28it/s]\u001b[A\n816it [10:38,  1.28it/s]\u001b[A\n817it [10:39,  1.28it/s]\u001b[A\n818it [10:40,  1.28it/s]\u001b[A\n819it [10:41,  1.28it/s]\u001b[A\n820it [10:41,  1.28it/s]\u001b[A\n821it [10:42,  1.27it/s]\u001b[A\n822it [10:43,  1.27it/s]\u001b[A\n823it [10:44,  1.28it/s]\u001b[A\n824it [10:44,  1.27it/s]\u001b[A\n825it [10:45,  1.28it/s]\u001b[A\n826it [10:46,  1.28it/s]\u001b[A\n827it [10:47,  1.28it/s]\u001b[A\n828it [10:48,  1.28it/s]\u001b[A\n829it [10:48,  1.28it/s]\u001b[A\n830it [10:49,  1.28it/s]\u001b[A\n831it [10:50,  1.27it/s]\u001b[A\n832it [10:51,  1.27it/s]\u001b[A\n833it [10:52,  1.27it/s]\u001b[A\n834it [10:52,  1.28it/s]\u001b[A\n835it [10:53,  1.28it/s]\u001b[A\n836it [10:54,  1.28it/s]\u001b[A\n837it [10:55,  1.28it/s]\u001b[A\n838it [10:55,  1.28it/s]\u001b[A\n839it [10:56,  1.28it/s]\u001b[A\n840it [10:57,  1.28it/s]\u001b[A\n841it [10:58,  1.28it/s]\u001b[A\n842it [10:59,  1.28it/s]\u001b[A\n843it [10:59,  1.28it/s]\u001b[A\n844it [11:00,  1.28it/s]\u001b[A\n845it [11:01,  1.28it/s]\u001b[A\n846it [11:02,  1.27it/s]\u001b[A\n847it [11:02,  1.28it/s]\u001b[A\n848it [11:03,  1.27it/s]\u001b[A\n849it [11:04,  1.28it/s]\u001b[A\n850it [11:05,  1.28it/s]\u001b[A\n851it [11:06,  1.27it/s]\u001b[A\n852it [11:06,  1.27it/s]\u001b[A\n853it [11:07,  1.28it/s]\u001b[A\n854it [11:08,  1.28it/s]\u001b[A\n855it [11:09,  1.28it/s]\u001b[A\n856it [11:10,  1.28it/s]\u001b[A\n857it [11:10,  1.28it/s]\u001b[A\n858it [11:11,  1.28it/s]\u001b[A\n859it [11:12,  1.28it/s]\u001b[A\n100%|██████████| 3/3 [33:41<00:00, 673.80s/it]",
          "output_type": "stream"
        },
        {
          "name": "stdout",
          "text": "Checkpoint saved at epoch 3\n",
          "output_type": "stream"
        },
        {
          "name": "stderr",
          "text": "\n",
          "output_type": "stream"
        }
      ]
    },
    {
      "cell_type": "code",
      "source": [
        "val_losses = []\n",
        "val_accuracies = []\n",
        "def evaluate():\n",
        "    model.eval()\n",
        "    running_loss = 0.0\n",
        "    correct_predictions = 0\n",
        "    total_predictions = 0\n",
        "    fin_targets, fin_outputs = [], []\n",
        "    with torch.no_grad():\n",
        "        for _, data in tqdm(enumerate(test_loader, 0)):\n",
        "            ids = data['ids'].to(device)\n",
        "            mask = data['mask'].to(device)\n",
        "            token_type_ids = data['token_type_ids'].to(device)\n",
        "            targets = data['targets'].to(device)\n",
        "            outputs = model(ids, mask, token_type_ids, labels=targets)\n",
        "\n",
        "            logits = outputs.logits\n",
        "            loss = outputs.loss\n",
        "            running_loss += loss.item()\n",
        "            preds = torch.argmax(logits, dim=1)\n",
        "            correct_predictions += torch.sum(preds == targets)\n",
        "            total_predictions += targets.size(0)\n",
        "\n",
        "            fin_targets.extend(targets.cpu().detach().numpy().tolist())\n",
        "            fin_outputs.extend(preds.cpu().detach().numpy().tolist())\n",
        "\n",
        "    average_loss = running_loss / len(test_loader)\n",
        "    accuracy = correct_predictions.double() / total_predictions\n",
        "\n",
        "    val_losses.append(average_loss)\n",
        "    val_accuracies.append(accuracy.item())\n",
        "    return fin_targets, fin_outputs\n",
        "\n"
      ],
      "metadata": {
        "execution": {
          "iopub.status.busy": "2024-04-15T11:04:05.804804Z",
          "iopub.execute_input": "2024-04-15T11:04:05.805528Z",
          "iopub.status.idle": "2024-04-15T11:04:05.815338Z",
          "shell.execute_reply.started": "2024-04-15T11:04:05.805495Z",
          "shell.execute_reply": "2024-04-15T11:04:05.814191Z"
        },
        "trusted": true,
        "id": "Q652xzQlyx_u"
      },
      "execution_count": null,
      "outputs": []
    },
    {
      "cell_type": "code",
      "source": [
        "# Get predictions and targets, and print classification report\n",
        "targets, outputs = evaluate()\n",
        "print(classification_report(targets, outputs, target_names=['negative','neutral','positive']))"
      ],
      "metadata": {
        "execution": {
          "iopub.status.busy": "2024-04-15T11:06:25.313305Z",
          "iopub.execute_input": "2024-04-15T11:06:25.314001Z",
          "iopub.status.idle": "2024-04-15T11:06:55.926950Z",
          "shell.execute_reply.started": "2024-04-15T11:06:25.313970Z",
          "shell.execute_reply": "2024-04-15T11:06:55.925971Z"
        },
        "trusted": true,
        "id": "4iUBJABUyx_u",
        "outputId": "72982182-ae87-4d1f-a200-fc3d5d3b0b3a"
      },
      "execution_count": null,
      "outputs": [
        {
          "name": "stderr",
          "text": "111it [00:30,  3.63it/s]",
          "output_type": "stream"
        },
        {
          "name": "stdout",
          "text": "              precision    recall  f1-score   support\n\n    negative       0.78      0.80      0.79      1001\n     neutral       0.76      0.77      0.76      1430\n    positive       0.86      0.82      0.84      1103\n\n    accuracy                           0.79      3534\n   macro avg       0.80      0.80      0.80      3534\nweighted avg       0.80      0.79      0.79      3534\n\n",
          "output_type": "stream"
        },
        {
          "name": "stderr",
          "text": "\n",
          "output_type": "stream"
        }
      ]
    },
    {
      "cell_type": "markdown",
      "source": [
        "----------------------------------------------------------------------------------"
      ],
      "metadata": {
        "id": "CDi4UXpty5wG"
      }
    }
  ]
}