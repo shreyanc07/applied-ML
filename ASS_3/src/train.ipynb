{
 "cells": [
  {
   "cell_type": "code",
   "execution_count": 18,
   "metadata": {},
   "outputs": [],
   "source": [
    "import pandas as pd\n",
    "import numpy as np\n",
    "import lightgbm as lgb\n",
    "from sklearn.model_selection import train_test_split, GridSearchCV\n",
    "from sklearn.metrics import accuracy_score\n",
    "from sklearn.preprocessing import LabelEncoder\n",
    "import pickle\n",
    "from sklearn.feature_extraction.text import TfidfVectorizer\n",
    "from sklearn.pipeline import Pipeline\n",
    "from tqdm import tqdm\n",
    "from sklearn.linear_model import LogisticRegression\n",
    "from sklearn.naive_bayes import MultinomialNB\n",
    "from sklearn.metrics import accuracy_score, classification_report\n",
    "import os\n",
    "from sklearn.model_selection import GridSearchCV"
   ]
  },
  {
   "cell_type": "code",
   "execution_count": 13,
   "metadata": {},
   "outputs": [
    {
     "name": "stderr",
     "output_type": "stream",
     "text": [
      "[nltk_data] Downloading package punkt to\n",
      "[nltk_data]     C:\\Users\\rickc\\AppData\\Roaming\\nltk_data...\n",
      "[nltk_data]   Package punkt is already up-to-date!\n",
      "[nltk_data] Downloading package stopwords to\n",
      "[nltk_data]     C:\\Users\\rickc\\AppData\\Roaming\\nltk_data...\n",
      "[nltk_data]   Package stopwords is already up-to-date!\n",
      "[nltk_data] Downloading package wordnet to\n",
      "[nltk_data]     C:\\Users\\rickc\\AppData\\Roaming\\nltk_data...\n",
      "[nltk_data]   Package wordnet is already up-to-date!\n"
     ]
    },
    {
     "data": {
      "text/plain": [
       "True"
      ]
     },
     "execution_count": 13,
     "metadata": {},
     "output_type": "execute_result"
    }
   ],
   "source": [
    "import re\n",
    "from nltk.corpus import stopwords\n",
    "from nltk.stem import WordNetLemmatizer\n",
    "from nltk.tokenize import word_tokenize\n",
    "import nltk\n",
    "\n",
    "nltk.download('punkt')\n",
    "nltk.download('stopwords')\n",
    "nltk.download('wordnet')"
   ]
  },
  {
   "cell_type": "code",
   "execution_count": 2,
   "metadata": {},
   "outputs": [],
   "source": [
    "data_path = r'C:\\CMI\\Applied ML\\applied-ML\\ASS_2\\data\\raw_data.csv'"
   ]
  },
  {
   "cell_type": "code",
   "execution_count": 3,
   "metadata": {},
   "outputs": [],
   "source": [
    "df = pd.read_csv(data_path)"
   ]
  },
  {
   "cell_type": "code",
   "execution_count": 12,
   "metadata": {},
   "outputs": [],
   "source": [
    "def preprocess_data(data):\n",
    "    # Lowercasing\n",
    "    data['text'] = data['text'].apply(lambda x: x.lower())\n",
    "    \n",
    "    # Removing HTML tags\n",
    "    data['text'] = data['text'].apply(lambda x: re.sub(r'<.*?>', '', x))\n",
    "    \n",
    "    # Removing URLs\n",
    "    data['text'] = data['text'].apply(lambda x: re.sub(r'http[s]?://\\S+', '', x))\n",
    "    \n",
    "    # Removing email addresses\n",
    "    data['text'] = data['text'].apply(lambda x: re.sub(r'\\S*@\\S*\\s?', '', x))\n",
    "    \n",
    "    # Removing punctuation and special characters\n",
    "    data['text'] = data['text'].apply(lambda x: re.sub(r'[^a-z0-9\\s]', '', x))\n",
    "    \n",
    "    # Tokenization\n",
    "    data['text'] = data['text'].apply(lambda x: word_tokenize(x))\n",
    "    \n",
    "    # Removing stopwords\n",
    "    stop_words = set(stopwords.words('english'))\n",
    "    data['text'] = data['text'].apply(lambda x: [word for word in x if word not in stop_words])\n",
    "    \n",
    "    # Lemmatization\n",
    "    lemmatizer = WordNetLemmatizer()\n",
    "    data['text'] = data['text'].apply(lambda x: [lemmatizer.lemmatize(word) for word in x])\n",
    "    \n",
    "    # Joining tokens back to string\n",
    "    data['text'] = data['text'].apply(lambda x: ' '.join(x))\n",
    "    \n",
    "    return data"
   ]
  },
  {
   "cell_type": "code",
   "execution_count": 16,
   "metadata": {},
   "outputs": [],
   "source": [
    "pr_df = preprocess_data(df)"
   ]
  },
  {
   "cell_type": "code",
   "execution_count": 15,
   "metadata": {},
   "outputs": [],
   "source": [
    "def store_pre_processed_data(train_data, dir_path=r'C:\\CMI\\Applied ML\\applied-ML\\ASS_3\\data'):\n",
    "    train_data.to_csv(os.path.join(dir_path, 'train.csv'), index=False)"
   ]
  },
  {
   "cell_type": "code",
   "execution_count": 17,
   "metadata": {},
   "outputs": [],
   "source": [
    "store_pre_processed_data(pr_df)"
   ]
  },
  {
   "cell_type": "code",
   "execution_count": 23,
   "metadata": {},
   "outputs": [],
   "source": [
    "X_train = pr_df['text']\n",
    "y_train = pr_df['spam']"
   ]
  },
  {
   "cell_type": "code",
   "execution_count": 21,
   "metadata": {},
   "outputs": [],
   "source": [
    "def fit_model(train_data, y_train, model_name='logistic_regression'):\n",
    "    if model_name == 'logistic_regression':\n",
    "        pipeline = Pipeline([\n",
    "            ('tfidf', TfidfVectorizer(stop_words='english')),\n",
    "            ('clf', LogisticRegression(random_state=42))\n",
    "        ])\n",
    "        parameters = {\n",
    "            'tfidf__ngram_range': [(1, 1), (1, 2)],\n",
    "            'clf__C': [0.1, 1, 10]\n",
    "        }\n",
    "    elif model_name == 'naive_bayes':\n",
    "        pipeline = Pipeline([\n",
    "            ('tfidf', TfidfVectorizer(stop_words='english')),\n",
    "            ('clf', MultinomialNB())\n",
    "        ])\n",
    "        parameters = {\n",
    "            'tfidf__ngram_range': [(1, 1), (1, 2)],\n",
    "            'clf__alpha': [0.1, 1, 10]\n",
    "        }\n",
    "    elif model_name == 'lightgbm':\n",
    "        pipeline = Pipeline([\n",
    "            ('tfidf', TfidfVectorizer(stop_words='english')),\n",
    "            ('clf', lgb.LGBMClassifier(random_state=42, force_row_wise=True))\n",
    "        ])\n",
    "        parameters = {\n",
    "            'tfidf__ngram_range': [(1, 1), (1, 2)],\n",
    "            'clf__num_leaves': [31, 50],\n",
    "            'clf__learning_rate': [0.1, 0.01],\n",
    "            'clf__n_estimators': [100, 200]\n",
    "        }\n",
    "    else:\n",
    "        raise ValueError(\"Model name not recognized. Choose 'logistic_regression', 'naive_bayes', or 'lightgbm'\")\n",
    "\n",
    "    # Hyperparameter tuning\n",
    "    grid_search = GridSearchCV(pipeline, parameters, cv=5, n_jobs=-1, verbose=1)\n",
    "    grid_search.fit(train_data, y_train)\n",
    "\n",
    "   \n",
    "\n",
    "    return grid_search.best_estimator_\n"
   ]
  },
  {
   "cell_type": "code",
   "execution_count": 22,
   "metadata": {},
   "outputs": [],
   "source": [
    "# Model Selection\n",
    "model_names = ['logistic_regression', 'naive_bayes', 'lightgbm']"
   ]
  },
  {
   "cell_type": "code",
   "execution_count": 25,
   "metadata": {},
   "outputs": [
    {
     "name": "stderr",
     "output_type": "stream",
     "text": [
      "Training Models:   0%|          | 0/3 [00:00<?, ?it/s]"
     ]
    },
    {
     "name": "stdout",
     "output_type": "stream",
     "text": [
      "\n",
      "Training with logistic_regression:\n",
      "Fitting 5 folds for each of 6 candidates, totalling 30 fits\n"
     ]
    },
    {
     "name": "stderr",
     "output_type": "stream",
     "text": [
      "Training Models:  33%|███▎      | 1/3 [00:23<00:47, 23.79s/it]"
     ]
    },
    {
     "name": "stdout",
     "output_type": "stream",
     "text": [
      "Model saved to C:\\CMI\\Applied ML\\applied-ML\\ASS_3\\best_models\\logistic_regression_best_model.pkl\n",
      "\n",
      "Training with naive_bayes:\n",
      "Fitting 5 folds for each of 6 candidates, totalling 30 fits\n"
     ]
    },
    {
     "name": "stderr",
     "output_type": "stream",
     "text": [
      "Training Models:  67%|██████▋   | 2/3 [00:35<00:16, 16.47s/it]"
     ]
    },
    {
     "name": "stdout",
     "output_type": "stream",
     "text": [
      "Model saved to C:\\CMI\\Applied ML\\applied-ML\\ASS_3\\best_models\\naive_bayes_best_model.pkl\n",
      "\n",
      "Training with lightgbm:\n",
      "Fitting 5 folds for each of 16 candidates, totalling 80 fits\n",
      "[LightGBM] [Info] Number of positive: 1368, number of negative: 4360\n",
      "[LightGBM] [Info] Total Bins 126660\n",
      "[LightGBM] [Info] Number of data points in the train set: 5728, number of used features: 3556\n",
      "[LightGBM] [Info] [binary:BoostFromScore]: pavg=0.238827 -> initscore=-1.159122\n",
      "[LightGBM] [Info] Start training from score -1.159122\n"
     ]
    },
    {
     "name": "stderr",
     "output_type": "stream",
     "text": [
      "Training Models: 100%|██████████| 3/3 [06:44<00:00, 134.82s/it]"
     ]
    },
    {
     "name": "stdout",
     "output_type": "stream",
     "text": [
      "Model saved to C:\\CMI\\Applied ML\\applied-ML\\ASS_3\\best_models\\lightgbm_best_model.pkl\n"
     ]
    },
    {
     "name": "stderr",
     "output_type": "stream",
     "text": [
      "\n"
     ]
    }
   ],
   "source": [
    "for model_name in tqdm(model_names, desc=\"Training Models\"):\n",
    "    print(f\"\\nTraining with {model_name}:\")\n",
    "    model = fit_model(X_train, y_train, model_name)\n",
    "    models_dir = r\"C:\\CMI\\Applied ML\\applied-ML\\ASS_3\\best_models\"\n",
    "    if not os.path.exists(models_dir):\n",
    "        os.makedirs(models_dir)\n",
    "    model_path = os.path.join(models_dir, f\"{model_name}_best_model.pkl\")\n",
    "    with open(model_path, 'wb') as file:\n",
    "        pickle.dump(model, file)\n",
    "\n",
    "    #print(f\"Best parameters for {model_name}: {model.best_params_}\")\n",
    "    print(f\"Model saved to {model_path}\")"
   ]
  }
 ],
 "metadata": {
  "kernelspec": {
   "display_name": "Python 3",
   "language": "python",
   "name": "python3"
  },
  "language_info": {
   "codemirror_mode": {
    "name": "ipython",
    "version": 3
   },
   "file_extension": ".py",
   "mimetype": "text/x-python",
   "name": "python",
   "nbconvert_exporter": "python",
   "pygments_lexer": "ipython3",
   "version": "3.11.8"
  }
 },
 "nbformat": 4,
 "nbformat_minor": 2
}
