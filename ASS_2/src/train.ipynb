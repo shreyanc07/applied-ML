{
 "cells": [
  {
   "cell_type": "code",
   "execution_count": 14,
   "metadata": {},
   "outputs": [],
   "source": [
    "import warnings"
   ]
  },
  {
   "cell_type": "code",
   "execution_count": 15,
   "metadata": {},
   "outputs": [],
   "source": [
    "warnings.filterwarnings('ignore')"
   ]
  },
  {
   "cell_type": "code",
   "execution_count": 23,
   "metadata": {},
   "outputs": [],
   "source": [
    "import pandas as pd\n",
    "import numpy as np\n",
    "from sklearn.model_selection import train_test_split\n",
    "from sklearn.feature_extraction.text import TfidfVectorizer\n",
    "from sklearn.linear_model import LogisticRegression\n",
    "from sklearn.naive_bayes import MultinomialNB\n",
    "import lightgbm as lgb\n",
    "from sklearn.pipeline import Pipeline\n",
    "from sklearn.metrics import accuracy_score, classification_report, average_precision_score\n",
    "import mlflow\n",
    "import mlflow.sklearn\n",
    "from mlflow.tracking import MlflowClient"
   ]
  },
  {
   "cell_type": "markdown",
   "metadata": {},
   "source": [
    "## Loading the datasets"
   ]
  },
  {
   "cell_type": "code",
   "execution_count": 16,
   "metadata": {},
   "outputs": [],
   "source": [
    "# Define a function to load and split the data\n",
    "def load_split_data(train_path, validation_path, test_path):\n",
    "    # Load datasets\n",
    "    train_data = pd.read_csv(train_path)\n",
    "    validation_data = pd.read_csv(validation_path)\n",
    "    test_data = pd.read_csv(test_path)\n",
    "    \n",
    "    # Split features and target\n",
    "    X_train = train_data['text']\n",
    "    y_train = train_data['spam']\n",
    "    X_val = validation_data['text']\n",
    "    y_val = validation_data['spam']\n",
    "    X_test = test_data['text']\n",
    "    y_test = test_data['spam']\n",
    "    \n",
    "    return X_train, y_train, X_val, y_val, X_test, y_test"
   ]
  },
  {
   "cell_type": "code",
   "execution_count": 17,
   "metadata": {},
   "outputs": [],
   "source": [
    "# Load your data (update paths according to your dataset location)\n",
    "train_path = '../data/train.csv'\n",
    "validation_path = '../data/validation.csv'\n",
    "test_path = '../data/test.csv'\n"
   ]
  },
  {
   "cell_type": "code",
   "execution_count": 18,
   "metadata": {},
   "outputs": [],
   "source": [
    "X_train, y_train, X_val, y_val, X_test, y_test = load_split_data(train_path, validation_path, test_path)"
   ]
  },
  {
   "cell_type": "markdown",
   "metadata": {},
   "source": [
    "## Model training, registering and version controlling using MLflow"
   ]
  },
  {
   "cell_type": "code",
   "execution_count": 31,
   "metadata": {},
   "outputs": [],
   "source": [
    "def train_and_log_model(model_name, X_train, y_train, X_val, y_val, params={},tags={}):\n",
    "    with mlflow.start_run(run_name=model_name):\n",
    "        # Define the model pipeline\n",
    "        if model_name == 'logistic_regression':\n",
    "            model = Pipeline([\n",
    "                ('tfidf', TfidfVectorizer(stop_words='english')),\n",
    "                ('clf', LogisticRegression(random_state=42, **params))\n",
    "            ])\n",
    "        elif model_name == 'naive_bayes':\n",
    "            model = Pipeline([\n",
    "                ('tfidf', TfidfVectorizer(stop_words='english')),\n",
    "                ('clf', MultinomialNB(**params))\n",
    "            ])\n",
    "        elif model_name == 'lightgbm':\n",
    "            model = Pipeline([\n",
    "                ('tfidf', TfidfVectorizer(stop_words='english')),\n",
    "                ('clf', lgb.LGBMClassifier(random_state=42, force_row_wise=True, **params))\n",
    "            ])\n",
    "        else:\n",
    "            raise ValueError(\"Model name not recognized.\")\n",
    "\n",
    "        # Train the model\n",
    "        model.fit(X_train, y_train)\n",
    "\n",
    "        # Evaluate the model\n",
    "        y_pred_val = model.predict(X_val)\n",
    "        accuracy = accuracy_score(y_val, y_pred_val)\n",
    "        aucpr = average_precision_score(y_val, model.predict_proba(X_val)[:, 1])\n",
    "\n",
    "        # Log parameters, metrics, and model\n",
    "        mlflow.log_params(params)\n",
    "        mlflow.log_metric(\"accuracy\", accuracy)\n",
    "        mlflow.log_metric(\"aucpr\", aucpr)\n",
    "        mlflow.sklearn.log_model(model, f\"model_{model_name}\")\n",
    "        # After training and logging metrics, register the model\n",
    "        mlflow.sklearn.log_model(model, f\"model_{model_name}\")\n",
    "\n",
    "        # Get the run ID\n",
    "        run_id = mlflow.active_run().info.run_id\n",
    "\n",
    "        # Create or get the model name in the MLflow Model Registry\n",
    "        client = MlflowClient()\n",
    "        try:\n",
    "            client.create_registered_model(model_name)\n",
    "        except Exception as e:\n",
    "            print(f\"Model {model_name} already exists in the registry.\")\n",
    "\n",
    "        # Create a new version of the model in the registry\n",
    "        model_uri = f\"runs:/{run_id}/model_{model_name}\"\n",
    "        model_version_info = client.create_model_version(model_name, model_uri, run_id)\n",
    "\n",
    "        # Add tags to the model version\n",
    "        tags['Created by'] = 'shreyan'  # Replace with your identifier\n",
    "        for tag_key, tag_value in tags.items():\n",
    "            client.set_model_version_tag(\n",
    "                model_name,\n",
    "                model_version_info.version,\n",
    "                tag_key,\n",
    "                tag_value\n",
    "            )\n",
    "\n",
    "        print(f\"Model {model_name}, version {model_version_info.version} registered in the MLflow Model Registry with tags {tags}.\")\n",
    "        print(f\"Model: {model_name}, Accuracy: {accuracy}, AUCPR: {aucpr}\")\n"
   ]
  },
  {
   "cell_type": "markdown",
   "metadata": {},
   "source": [
    "## Setting up the experiment"
   ]
  },
  {
   "cell_type": "code",
   "execution_count": 33,
   "metadata": {},
   "outputs": [
    {
     "data": {
      "text/plain": [
       "<Experiment: artifact_location='file:///c:/CMI/Applied%20ML/applied-ML/ASS_2/src/mlruns/235275653375214283', creation_time=1708268303769, experiment_id='235275653375214283', last_update_time=1708268303769, lifecycle_stage='active', name='Email Spam Classification', tags={}>"
      ]
     },
     "execution_count": 33,
     "metadata": {},
     "output_type": "execute_result"
    }
   ],
   "source": [
    "# Start MLflow experiment\n",
    "mlflow.set_experiment(\"Email Spam Classification\")\n"
   ]
  },
  {
   "cell_type": "code",
   "execution_count": 34,
   "metadata": {},
   "outputs": [],
   "source": [
    "tags = {\n",
    "    \"Review\": \"Passed\",\n",
    "    \"Ready for Deployment\": \"Yes\"\n",
    "}"
   ]
  },
  {
   "cell_type": "code",
   "execution_count": 35,
   "metadata": {},
   "outputs": [
    {
     "name": "stdout",
     "output_type": "stream",
     "text": [
      "Model logistic_regression already exists in the registry.\n",
      "Model logistic_regression, version 3 registered in the MLflow Model Registry with tags {'Review': 'Passed', 'Ready for Deployment': 'Yes', 'Created by': 'shreyan'}.\n",
      "Model: logistic_regression, Accuracy: 0.9764397905759162, AUCPR: 0.9950933631282883\n",
      "Model naive_bayes already exists in the registry.\n",
      "Model naive_bayes, version 3 registered in the MLflow Model Registry with tags {'Review': 'Passed', 'Ready for Deployment': 'Yes', 'Created by': 'shreyan'}.\n",
      "Model: naive_bayes, Accuracy: 0.8926701570680629, AUCPR: 0.9903953190439188\n",
      "[LightGBM] [Info] Number of positive: 830, number of negative: 2606\n",
      "[LightGBM] [Info] Total Bins 74550\n",
      "[LightGBM] [Info] Number of data points in the train set: 3436, number of used features: 2502\n",
      "[LightGBM] [Info] [binary:BoostFromScore]: pavg=0.241560 -> initscore=-1.144146\n",
      "[LightGBM] [Info] Start training from score -1.144146\n",
      "Model lightgbm already exists in the registry.\n",
      "Model lightgbm, version 3 registered in the MLflow Model Registry with tags {'Review': 'Passed', 'Ready for Deployment': 'Yes', 'Created by': 'shreyan'}.\n",
      "Model: lightgbm, Accuracy: 0.9808027923211169, AUCPR: 0.9924414635350459\n"
     ]
    }
   ],
   "source": [
    "# Train and log models with tags\n",
    "model_names = ['logistic_regression', 'naive_bayes', 'lightgbm']\n",
    "for model_name in model_names:\n",
    "    train_and_log_model(model_name, X_train, y_train, X_val, y_val, tags=tags)"
   ]
  },
  {
   "cell_type": "code",
   "execution_count": 28,
   "metadata": {},
   "outputs": [
    {
     "name": "stdout",
     "output_type": "stream",
     "text": [
      "Model logistic_regression already exists in the registry.\n",
      "Model logistic_regression, version 2 registered in the MLflow Model Registry.\n",
      "Model: logistic_regression, Accuracy: 0.9764397905759162, AUCPR: 0.9950933631282883\n",
      "Model naive_bayes already exists in the registry.\n",
      "Model naive_bayes, version 2 registered in the MLflow Model Registry.\n",
      "Model: naive_bayes, Accuracy: 0.8926701570680629, AUCPR: 0.9903953190439188\n",
      "[LightGBM] [Info] Number of positive: 830, number of negative: 2606\n",
      "[LightGBM] [Info] Total Bins 74550\n",
      "[LightGBM] [Info] Number of data points in the train set: 3436, number of used features: 2502\n",
      "[LightGBM] [Info] [binary:BoostFromScore]: pavg=0.241560 -> initscore=-1.144146\n",
      "[LightGBM] [Info] Start training from score -1.144146\n",
      "Model lightgbm already exists in the registry.\n",
      "Model lightgbm, version 2 registered in the MLflow Model Registry.\n",
      "Model: lightgbm, Accuracy: 0.9808027923211169, AUCPR: 0.9924414635350459\n"
     ]
    }
   ],
   "source": [
    "# Train and log models\n",
    "model_names = ['logistic_regression', 'naive_bayes', 'lightgbm']\n",
    "for model_name in model_names:\n",
    "    train_and_log_model(model_name, X_train, y_train, X_val, y_val)"
   ]
  },
  {
   "cell_type": "markdown",
   "metadata": {},
   "source": [
    "## After this command"
   ]
  },
  {
   "cell_type": "code",
   "execution_count": 29,
   "metadata": {},
   "outputs": [
    {
     "name": "stdout",
     "output_type": "stream",
     "text": [
      "^C\n"
     ]
    }
   ],
   "source": [
    "! mlflow ui"
   ]
  },
  {
   "cell_type": "markdown",
   "metadata": {},
   "source": [
    "## Access the UI by navigating to http://localhost:5000 in your web browser to review the performance metrics, parameters, and details of each run."
   ]
  },
  {
   "cell_type": "markdown",
   "metadata": {},
   "source": [
    "--------------------------------------------------------------------------------------------------------------------------"
   ]
  },
  {
   "cell_type": "markdown",
   "metadata": {},
   "source": [
    "## Using the Best version of the Lightgbm model to get \"Accuracy\" and \"AUCPR\" on test data"
   ]
  },
  {
   "cell_type": "code",
   "execution_count": 37,
   "metadata": {},
   "outputs": [],
   "source": [
    "# Specify the model name and version you want to load\n",
    "model_name = \"lightgbm\"  # replace with the actual registered model name\n",
    "model_version = \"3\"  # replace with the actual desired version number\n"
   ]
  },
  {
   "cell_type": "code",
   "execution_count": 42,
   "metadata": {},
   "outputs": [],
   "source": [
    "model_uri = f\"models:/{model_name}/{model_version}\"\n",
    "model = mlflow.sklearn.load_model(model_uri)"
   ]
  },
  {
   "cell_type": "code",
   "execution_count": 43,
   "metadata": {},
   "outputs": [],
   "source": [
    "# Use the loaded model to make predictions on the test dataset\n",
    "y_pred = model.predict(X_test)"
   ]
  },
  {
   "cell_type": "code",
   "execution_count": 44,
   "metadata": {},
   "outputs": [],
   "source": [
    "# Calculate metrics on the test dataset\n",
    "accuracy = accuracy_score(y_test, y_pred)\n",
    "aucpr = average_precision_score(y_test, model.predict_proba(X_test)[:, 1])"
   ]
  },
  {
   "cell_type": "code",
   "execution_count": 45,
   "metadata": {},
   "outputs": [
    {
     "name": "stdout",
     "output_type": "stream",
     "text": [
      "Accuracy on test dataset: 0.987783595113438\n",
      "AUCPR on test dataset: 0.996066457593158\n"
     ]
    }
   ],
   "source": [
    "# Print out the metrics\n",
    "print(f\"Accuracy on test dataset: {accuracy}\")\n",
    "print(f\"AUCPR on test dataset: {aucpr}\")"
   ]
  },
  {
   "cell_type": "markdown",
   "metadata": {},
   "source": [
    "-----------------------------------------------------------------------------------------------------------------------------"
   ]
  }
 ],
 "metadata": {
  "kernelspec": {
   "display_name": "Python 3",
   "language": "python",
   "name": "python3"
  },
  "language_info": {
   "codemirror_mode": {
    "name": "ipython",
    "version": 3
   },
   "file_extension": ".py",
   "mimetype": "text/x-python",
   "name": "python",
   "nbconvert_exporter": "python",
   "pygments_lexer": "ipython3",
   "version": "3.11.8"
  }
 },
 "nbformat": 4,
 "nbformat_minor": 2
}
