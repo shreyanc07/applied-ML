{
 "cells": [
  {
   "cell_type": "code",
   "execution_count": 1,
   "metadata": {},
   "outputs": [
    {
     "name": "stdout",
     "output_type": "stream",
     "text": [
      "c:\\CMI\\Applied ML\\applied-ML\\ASS_2\n"
     ]
    }
   ],
   "source": [
    "%cd ..\n"
   ]
  },
  {
   "cell_type": "code",
   "execution_count": 3,
   "metadata": {},
   "outputs": [
    {
     "name": "stdout",
     "output_type": "stream",
     "text": [
      "Initialized DVC repository.\n",
      "\n",
      "You can now commit the changes to git.\n",
      "\n",
      "+---------------------------------------------------------------------+\n",
      "|                                                                     |\n",
      "|        DVC has enabled anonymous aggregate usage analytics.         |\n",
      "|     Read the analytics documentation (and how to opt-out) here:     |\n",
      "|             <https://dvc.org/doc/user-guide/analytics>              |\n",
      "|                                                                     |\n",
      "+---------------------------------------------------------------------+\n",
      "\n",
      "What's next?\n",
      "------------\n",
      "- Check out the documentation: <https://dvc.org/doc>\n",
      "- Get help and share ideas: <https://dvc.org/chat>\n",
      "- Star us on GitHub: <https://github.com/iterative/dvc>\n"
     ]
    }
   ],
   "source": [
    "! dvc init --subdir"
   ]
  },
  {
   "cell_type": "markdown",
   "metadata": {},
   "source": [
    "## Decouple compute and storage"
   ]
  },
  {
   "cell_type": "code",
   "execution_count": 4,
   "metadata": {},
   "outputs": [
    {
     "name": "stdout",
     "output_type": "stream",
     "text": [
      "Setting 'storage' as a default remote.\n"
     ]
    }
   ],
   "source": [
    "!dvc remote add -d storage gdrive://13F27u1JrBZY7tL3ChuV3xF6ApOGfe1Gf"
   ]
  },
  {
   "cell_type": "code",
   "execution_count": 66,
   "metadata": {},
   "outputs": [
    {
     "name": "stdout",
     "output_type": "stream",
     "text": [
      "c:\\CMI\\Applied ML\\applied-ML\\ASS_2\n"
     ]
    }
   ],
   "source": [
    "%cd .."
   ]
  },
  {
   "cell_type": "code",
   "execution_count": 67,
   "metadata": {},
   "outputs": [],
   "source": [
    "!git add .dvc/config"
   ]
  },
  {
   "cell_type": "code",
   "execution_count": 68,
   "metadata": {},
   "outputs": [
    {
     "name": "stdout",
     "output_type": "stream",
     "text": [
      "[detached HEAD 010f8da] Configure Google Drive as DVC remote storage\n",
      " 4 files changed, 11 insertions(+), 6 deletions(-)\n"
     ]
    }
   ],
   "source": [
    "!git commit -m \"Configure Google Drive as DVC remote storage\""
   ]
  },
  {
   "cell_type": "code",
   "execution_count": 5,
   "metadata": {},
   "outputs": [
    {
     "name": "stdout",
     "output_type": "stream",
     "text": [
      "c:\\CMI\\Applied ML\\applied-ML\\ASS_2\\src\n"
     ]
    }
   ],
   "source": [
    "%cd src"
   ]
  },
  {
   "cell_type": "code",
   "execution_count": 6,
   "metadata": {},
   "outputs": [],
   "source": [
    "import pandas as pd\n",
    "from sklearn.model_selection import train_test_split\n"
   ]
  },
  {
   "cell_type": "code",
   "execution_count": 71,
   "metadata": {},
   "outputs": [
    {
     "name": "stderr",
     "output_type": "stream",
     "text": [
      "[nltk_data] Downloading package punkt to\n",
      "[nltk_data]     C:\\Users\\rickc\\AppData\\Roaming\\nltk_data...\n",
      "[nltk_data]   Package punkt is already up-to-date!\n",
      "[nltk_data] Downloading package stopwords to\n",
      "[nltk_data]     C:\\Users\\rickc\\AppData\\Roaming\\nltk_data...\n",
      "[nltk_data]   Package stopwords is already up-to-date!\n",
      "[nltk_data] Downloading package wordnet to\n",
      "[nltk_data]     C:\\Users\\rickc\\AppData\\Roaming\\nltk_data...\n",
      "[nltk_data]   Package wordnet is already up-to-date!\n"
     ]
    },
    {
     "data": {
      "text/plain": [
       "True"
      ]
     },
     "execution_count": 71,
     "metadata": {},
     "output_type": "execute_result"
    }
   ],
   "source": [
    "import re\n",
    "from nltk.corpus import stopwords\n",
    "from nltk.stem import WordNetLemmatizer\n",
    "from nltk.tokenize import word_tokenize\n",
    "import nltk\n",
    "\n",
    "nltk.download('punkt')\n",
    "nltk.download('stopwords')\n",
    "nltk.download('wordnet')"
   ]
  },
  {
   "cell_type": "code",
   "execution_count": 8,
   "metadata": {},
   "outputs": [],
   "source": [
    "# Load the raw data\n",
    "raw_data = pd.read_csv('../data/emails.csv')\n"
   ]
  },
  {
   "cell_type": "code",
   "execution_count": 14,
   "metadata": {},
   "outputs": [],
   "source": [
    "# Save the raw data in the 'data' folder\n",
    "raw_data.to_csv('../data/raw_data.csv', index=False)\n"
   ]
  },
  {
   "cell_type": "code",
   "execution_count": 72,
   "metadata": {},
   "outputs": [],
   "source": [
    "def preprocess_data(data):\n",
    "    # Lowercasing\n",
    "    data['text'] = data['text'].apply(lambda x: x.lower())\n",
    "    \n",
    "    # Removing HTML tags\n",
    "    data['text'] = data['text'].apply(lambda x: re.sub(r'<.*?>', '', x))\n",
    "    \n",
    "    # Removing URLs\n",
    "    data['text'] = data['text'].apply(lambda x: re.sub(r'http[s]?://\\S+', '', x))\n",
    "    \n",
    "    # Removing email addresses\n",
    "    data['text'] = data['text'].apply(lambda x: re.sub(r'\\S*@\\S*\\s?', '', x))\n",
    "    \n",
    "    # Removing punctuation and special characters\n",
    "    data['text'] = data['text'].apply(lambda x: re.sub(r'[^a-z0-9\\s]', '', x))\n",
    "    \n",
    "    # Tokenization\n",
    "    data['text'] = data['text'].apply(lambda x: word_tokenize(x))\n",
    "    \n",
    "    # Removing stopwords\n",
    "    stop_words = set(stopwords.words('english'))\n",
    "    data['text'] = data['text'].apply(lambda x: [word for word in x if word not in stop_words])\n",
    "    \n",
    "    # Lemmatization\n",
    "    lemmatizer = WordNetLemmatizer()\n",
    "    data['text'] = data['text'].apply(lambda x: [lemmatizer.lemmatize(word) for word in x])\n",
    "    \n",
    "    # Joining tokens back to string\n",
    "    data['text'] = data['text'].apply(lambda x: ' '.join(x))\n",
    "    \n",
    "    return data"
   ]
  },
  {
   "cell_type": "code",
   "execution_count": 73,
   "metadata": {},
   "outputs": [],
   "source": [
    "preprocessed_raw_data = preprocess_data(raw_data)"
   ]
  },
  {
   "cell_type": "code",
   "execution_count": 74,
   "metadata": {},
   "outputs": [],
   "source": [
    "# Split the data into train/validation/test with the specified random seeds\n",
    "train, test = train_test_split(preprocessed_raw_data, test_size=0.2, random_state=42)\n",
    "train, val = train_test_split(train, test_size=0.25, random_state=42) # 0.25 x 0.8 = 0.2\n"
   ]
  },
  {
   "cell_type": "code",
   "execution_count": 75,
   "metadata": {},
   "outputs": [],
   "source": [
    "# Save the splits in the 'data' folder\n",
    "train.to_csv('../data/train.csv', index=False)\n",
    "val.to_csv('../data/validation.csv', index=False)\n",
    "test.to_csv('../data/test.csv', index=False)"
   ]
  },
  {
   "cell_type": "code",
   "execution_count": 76,
   "metadata": {},
   "outputs": [
    {
     "name": "stdout",
     "output_type": "stream",
     "text": [
      "c:\\CMI\\Applied ML\\applied-ML\\ASS_2\\data\n"
     ]
    }
   ],
   "source": [
    "%cd ../data"
   ]
  },
  {
   "cell_type": "code",
   "execution_count": 77,
   "metadata": {},
   "outputs": [
    {
     "name": "stderr",
     "output_type": "stream",
     "text": [
      "⠋ Checking graph\n",
      "\n"
     ]
    }
   ],
   "source": [
    "!dvc add raw_data.csv train.csv validation.csv test.csv"
   ]
  },
  {
   "cell_type": "code",
   "execution_count": 78,
   "metadata": {},
   "outputs": [],
   "source": [
    "!git add raw_data.csv.dvc train.csv.dvc validation.csv.dvc test.csv.dvc .gitignore"
   ]
  },
  {
   "cell_type": "code",
   "execution_count": 79,
   "metadata": {},
   "outputs": [
    {
     "name": "stdout",
     "output_type": "stream",
     "text": [
      "[detached HEAD 88a48ba] Track data with DVC\n",
      " 3 files changed, 6 insertions(+), 6 deletions(-)\n"
     ]
    }
   ],
   "source": [
    "!git commit -m \"Track data with DVC\""
   ]
  },
  {
   "cell_type": "code",
   "execution_count": 80,
   "metadata": {},
   "outputs": [],
   "source": [
    "!dvc config core.autostage true"
   ]
  },
  {
   "cell_type": "code",
   "execution_count": 81,
   "metadata": {},
   "outputs": [
    {
     "name": "stdout",
     "output_type": "stream",
     "text": [
      "3 files pushed\n"
     ]
    }
   ],
   "source": [
    "!dvc push"
   ]
  },
  {
   "cell_type": "code",
   "execution_count": 82,
   "metadata": {},
   "outputs": [
    {
     "name": "stdout",
     "output_type": "stream",
     "text": [
      "c:\\CMI\\Applied ML\\applied-ML\\ASS_2\\src\n"
     ]
    }
   ],
   "source": [
    "%cd ../src"
   ]
  },
  {
   "cell_type": "code",
   "execution_count": 83,
   "metadata": {},
   "outputs": [],
   "source": [
    "# Update the splits with a different random seed\n",
    "train, test = train_test_split(preprocessed_raw_data, test_size=0.2, random_state=24)\n",
    "train, val = train_test_split(train, test_size=0.25, random_state=24)\n"
   ]
  },
  {
   "cell_type": "code",
   "execution_count": 84,
   "metadata": {},
   "outputs": [],
   "source": [
    "# Save the updated splits\n",
    "train.to_csv('../data/train.csv', index=False)\n",
    "val.to_csv('../data/validation.csv', index=False)\n",
    "test.to_csv('../data/test.csv', index=False)\n"
   ]
  },
  {
   "cell_type": "code",
   "execution_count": 85,
   "metadata": {},
   "outputs": [
    {
     "name": "stdout",
     "output_type": "stream",
     "text": [
      "c:\\CMI\\Applied ML\\applied-ML\\ASS_2\\data\n"
     ]
    }
   ],
   "source": [
    "%cd ../data"
   ]
  },
  {
   "cell_type": "code",
   "execution_count": 86,
   "metadata": {},
   "outputs": [
    {
     "name": "stderr",
     "output_type": "stream",
     "text": [
      "⠋ Checking graph\n",
      "\n"
     ]
    }
   ],
   "source": [
    "# Add the updated datasets to DVC\n",
    "!dvc add train.csv validation.csv test.csv"
   ]
  },
  {
   "cell_type": "code",
   "execution_count": 87,
   "metadata": {},
   "outputs": [],
   "source": [
    "!git add train.csv.dvc validation.csv.dvc test.csv.dvc"
   ]
  },
  {
   "cell_type": "code",
   "execution_count": 88,
   "metadata": {},
   "outputs": [
    {
     "name": "stdout",
     "output_type": "stream",
     "text": [
      "[detached HEAD 3bbe9d7] Update data splits with new random seed\n",
      " 3 files changed, 6 insertions(+), 6 deletions(-)\n"
     ]
    }
   ],
   "source": [
    "!git commit -m \"Update data splits with new random seed\""
   ]
  },
  {
   "cell_type": "code",
   "execution_count": 89,
   "metadata": {},
   "outputs": [
    {
     "name": "stdout",
     "output_type": "stream",
     "text": [
      "3 files pushed\n"
     ]
    }
   ],
   "source": [
    "!dvc push"
   ]
  },
  {
   "cell_type": "code",
   "execution_count": 90,
   "metadata": {},
   "outputs": [
    {
     "name": "stdout",
     "output_type": "stream",
     "text": [
      "commit 3bbe9d7ec105b3f38e1c60cc4f978e0bc41eb204\n",
      "Author: shreyanc07 <rickchakraborty90@gmail.com>\n",
      "Date:   Sun Feb 18 17:04:13 2024 +0530\n",
      "\n",
      "    Update data splits with new random seed\n",
      "\n",
      "commit 88a48ba257b93a4a053153a701e076095bebc718\n",
      "Author: shreyanc07 <rickchakraborty90@gmail.com>\n",
      "Date:   Sun Feb 18 17:03:21 2024 +0530\n",
      "\n",
      "    Track data with DVC\n",
      "\n",
      "commit 010f8daf5d96a214f6d61f5431cb4e73202026dc\n",
      "Author: shreyanc07 <rickchakraborty90@gmail.com>\n",
      "Date:   Sun Feb 18 16:46:35 2024 +0530\n",
      "\n",
      "    Configure Google Drive as DVC remote storage\n",
      "\n",
      "commit 972a876a4ea61fd7aa483d8cc63bea3980e4ab63\n",
      "Author: shreyanc07 <rickchakraborty90@gmail.com>\n",
      "Date:   Sun Feb 18 16:14:25 2024 +0530\n",
      "\n",
      "    Track data with DVC\n",
      "\n",
      "commit 26dbfbf5eca45f4f889faf03d3c6436bb9daea23\n",
      "Author: Shreyan Chakraborty <113718043+shreyanc07@users.noreply.github.com>\n",
      "Date:   Sun Feb 18 15:32:02 2024 +0530\n",
      "\n",
      "    Delete ASS_2 directory\n",
      "\n",
      "commit 3cf437f79ac8b79571ef76165952fd662b9df5e5\n",
      "Author: shreyanc07 <rickchakraborty90@gmail.com>\n",
      "Date:   Sun Feb 18 15:25:29 2024 +0530\n",
      "\n",
      "    Checking gitignore\n",
      "\n",
      "commit 5267cd3e5c111ebf7d8291b7fee2b0d9cba3f8f3\n",
      "Author: shreyanc07 <rickchakraborty90@gmail.com>\n",
      "Date:   Sun Feb 18 14:47:47 2024 +0530\n",
      "\n",
      "    Track data with DVC\n",
      "\n",
      "commit 76e6c13470f1abdda1309547ccd678446652e074\n",
      "Author: shreyanc07 <rickchakraborty90@gmail.com>\n",
      "Date:   Mon Feb 5 13:41:49 2024 +0530\n",
      "\n",
      "    Uploading Applied ML Assignment 1\n",
      "\n",
      "commit 4f236e97c2271d3995058bfeeacb889a0163fdb8\n",
      "Author: Shreyan Chakraborty <113718043+shreyanc07@users.noreply.github.com>\n",
      "Date:   Mon Feb 5 13:33:46 2024 +0530\n",
      "\n",
      "    Initial commit\n"
     ]
    }
   ],
   "source": [
    "!git log"
   ]
  },
  {
   "cell_type": "markdown",
   "metadata": {},
   "source": [
    "### <first_version_hash> = 88a48ba257b93a4a053153a701e076095bebc718"
   ]
  },
  {
   "cell_type": "code",
   "execution_count": 91,
   "metadata": {},
   "outputs": [
    {
     "name": "stdout",
     "output_type": "stream",
     "text": [
      "c:\\CMI\\Applied ML\\applied-ML\\ASS_2\\data\n"
     ]
    }
   ],
   "source": [
    "%cd ../data"
   ]
  },
  {
   "cell_type": "code",
   "execution_count": 92,
   "metadata": {},
   "outputs": [
    {
     "name": "stderr",
     "output_type": "stream",
     "text": [
      "Updated 3 paths from d7763da\n"
     ]
    }
   ],
   "source": [
    "!git checkout 88a48ba257b93a4a053153a701e076095bebc718 train.csv.dvc validation.csv.dvc test.csv.dvc\n"
   ]
  },
  {
   "cell_type": "code",
   "execution_count": 93,
   "metadata": {},
   "outputs": [
    {
     "name": "stdout",
     "output_type": "stream",
     "text": [
      "M       validation.csv\n",
      "M       test.csv\n",
      "M       train.csv\n"
     ]
    }
   ],
   "source": [
    "!dvc checkout"
   ]
  },
  {
   "cell_type": "markdown",
   "metadata": {},
   "source": [
    "## Printing Distribution of the original data split"
   ]
  },
  {
   "cell_type": "code",
   "execution_count": 94,
   "metadata": {},
   "outputs": [
    {
     "name": "stdout",
     "output_type": "stream",
     "text": [
      "Distribution in train.csv: \n",
      "spam\n",
      "0    2619\n",
      "1     817\n",
      "Name: count, dtype: int64\n",
      "\n",
      "Distribution in validation.csv: \n",
      "spam\n",
      "0    885\n",
      "1    261\n",
      "Name: count, dtype: int64\n",
      "\n",
      "Distribution in test.csv: \n",
      "spam\n",
      "0    856\n",
      "1    290\n",
      "Name: count, dtype: int64\n",
      "\n"
     ]
    }
   ],
   "source": [
    "# Print the distribution of the original split\n",
    "for split in ['train', 'validation', 'test']:\n",
    "    df = pd.read_csv(f'../data/{split}.csv')\n",
    "    distribution = df['spam'].value_counts()\n",
    "    print(f\"Distribution in {split}.csv: \\n{distribution}\\n\")"
   ]
  },
  {
   "cell_type": "markdown",
   "metadata": {},
   "source": [
    "### <updated_version_hash> = 3bbe9d7ec105b3f38e1c60cc4f978e0bc41eb204"
   ]
  },
  {
   "cell_type": "code",
   "execution_count": 95,
   "metadata": {},
   "outputs": [
    {
     "name": "stderr",
     "output_type": "stream",
     "text": [
      "Updated 3 paths from 784077b\n"
     ]
    }
   ],
   "source": [
    "!git checkout 3bbe9d7ec105b3f38e1c60cc4f978e0bc41eb204 train.csv.dvc validation.csv.dvc test.csv.dvc"
   ]
  },
  {
   "cell_type": "code",
   "execution_count": 96,
   "metadata": {},
   "outputs": [
    {
     "name": "stdout",
     "output_type": "stream",
     "text": [
      "M       test.csv\n",
      "M       train.csv\n",
      "M       validation.csv\n"
     ]
    }
   ],
   "source": [
    "!dvc checkout"
   ]
  },
  {
   "cell_type": "markdown",
   "metadata": {},
   "source": [
    "## Printing the distribution of the Updated data split"
   ]
  },
  {
   "cell_type": "code",
   "execution_count": 97,
   "metadata": {},
   "outputs": [
    {
     "name": "stdout",
     "output_type": "stream",
     "text": [
      "Distribution in train.csv: \n",
      "spam\n",
      "0    2606\n",
      "1     830\n",
      "Name: count, dtype: int64\n",
      "\n",
      "Distribution in validation.csv: \n",
      "spam\n",
      "0    881\n",
      "1    265\n",
      "Name: count, dtype: int64\n",
      "\n",
      "Distribution in test.csv: \n",
      "spam\n",
      "0    873\n",
      "1    273\n",
      "Name: count, dtype: int64\n",
      "\n"
     ]
    }
   ],
   "source": [
    "# Print the distribution of the updated spilt\n",
    "for split in ['train', 'validation', 'test']:\n",
    "    df = pd.read_csv(f'../data/{split}.csv')\n",
    "    distribution = df['spam'].value_counts()\n",
    "    print(f\"Distribution in {split}.csv: \\n{distribution}\\n\")"
   ]
  },
  {
   "cell_type": "code",
   "execution_count": 98,
   "metadata": {},
   "outputs": [
    {
     "name": "stdout",
     "output_type": "stream",
     "text": [
      " Volume in drive C is OS\n",
      " Volume Serial Number is 38A6-AE1E\n",
      "\n",
      " Directory of c:\\CMI\\Applied ML\\applied-ML\\ASS_2\\data\n",
      "\n",
      "02/18/2024  05:06 PM    <DIR>          .\n",
      "02/18/2024  04:08 PM    <DIR>          ..\n",
      "02/18/2024  04:12 PM                55 .gitignore\n",
      "02/04/2024  01:03 PM         8,954,755 emails.csv\n",
      "02/18/2024  05:03 PM         8,959,672 raw_data.csv\n",
      "02/18/2024  05:03 PM               100 raw_data.csv.dvc\n",
      "02/18/2024  05:06 PM         1,153,422 test.csv\n",
      "02/18/2024  05:06 PM                96 test.csv.dvc\n",
      "02/18/2024  05:06 PM         3,471,277 train.csv\n",
      "02/18/2024  05:06 PM                97 train.csv.dvc\n",
      "02/18/2024  05:06 PM         1,197,751 validation.csv\n",
      "02/18/2024  05:06 PM               102 validation.csv.dvc\n",
      "              10 File(s)     23,737,327 bytes\n",
      "               2 Dir(s)  74,723,930,112 bytes free\n"
     ]
    }
   ],
   "source": [
    "%ls"
   ]
  },
  {
   "cell_type": "code",
   "execution_count": 99,
   "metadata": {},
   "outputs": [
    {
     "name": "stdout",
     "output_type": "stream",
     "text": [
      "c:\\CMI\\Applied ML\\applied-ML\\ASS_2\\src\n"
     ]
    }
   ],
   "source": [
    "%cd ../src"
   ]
  }
 ],
 "metadata": {
  "kernelspec": {
   "display_name": "Python 3",
   "language": "python",
   "name": "python3"
  },
  "language_info": {
   "codemirror_mode": {
    "name": "ipython",
    "version": 3
   },
   "file_extension": ".py",
   "mimetype": "text/x-python",
   "name": "python",
   "nbconvert_exporter": "python",
   "pygments_lexer": "ipython3",
   "version": "3.11.8"
  }
 },
 "nbformat": 4,
 "nbformat_minor": 2
}
